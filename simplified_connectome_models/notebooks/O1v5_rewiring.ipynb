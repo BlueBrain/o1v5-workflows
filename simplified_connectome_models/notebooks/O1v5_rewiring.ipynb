{
 "cells": [
  {
   "cell_type": "markdown",
   "metadata": {},
   "source": [
    "# O1v5-SONATA rewiring based on simplified models of connectivity\n",
    "This is an auxiliary notebook for configuring/testing 1st..5th-order connectome rewiring, which\n",
    "\n",
    " - sets up connectome manipulations (rewiring)\n",
    " - writes .json config file for running rewiring using sbatch\n",
    "\n",
    "<u>Requirements</u>: [connectome-manipulator](https://bbpgitlab.epfl.ch/conn/structural/connectome_manipulator) package (v0.0.5.dev1 or later; with v4 config format and `parallel-manipulator` entry point)\n",
    "\n",
    "ℹ️ Related ticket: [[ACCS-49](https://bbpteam.epfl.ch/project/issues/browse/ACCS-49)] \"Rewiring V5 connectome based on five simplified models of connectivity\"\n",
    "\n",
    "IMPORTANT: For running actual model building on BB5, use <code>sbatch run_rewiring.sh manip_config__[...].json</code>\n"
   ]
  },
  {
   "cell_type": "code",
   "execution_count": 1,
   "metadata": {},
   "outputs": [],
   "source": [
    "# Initialization\n",
    "\n",
    "\"\"\" Global imports \"\"\"\n",
    "import json\n",
    "import os"
   ]
  },
  {
   "cell_type": "code",
   "execution_count": 4,
   "metadata": {},
   "outputs": [],
   "source": [
    "def default_manip_config(circuit_config, seed=3210, N_split=None):\n",
    "    \"\"\"Generates a default manipulation config dict w/o any specific manipulation.\"\"\"\n",
    "    manip_config = {}\n",
    "    manip_config['circuit_config'] = circuit_config\n",
    "    manip_config['seed'] = seed\n",
    "    if N_split is not None:\n",
    "        manip_config['N_split_nodes'] = N_split\n",
    "    return manip_config\n",
    "\n",
    "def order_from_name(name):\n",
    "    order_str = name.split(\"Order\")[0]\n",
    "    order = [int(i) for i in order_str if i.isdigit()]\n",
    "    assert len(order) == 1, \"ERROR: Order could not be determined!\"\n",
    "    return order[0]\n",
    "\n",
    "def order_from_model_file(model_file):\n",
    "    with open(model_file, \"r\") as f:\n",
    "        model_dict = json.load(f)\n",
    "    order = order_from_name(model_dict.get(\"model\", \"\"))\n",
    "    assert order > 0, \"ERROR: Invalid model order!\"\n",
    "    return order\n",
    "\n",
    "def add_manip_to_config(manip_config, amount_pct, prob_model_file, delay_model_file, props_model_file):\n",
    "    \"\"\"Adds a specific n-th order rewiring operation to the (v4) manipulation config dict (in-place).\"\"\"\n",
    "    order = order_from_model_file(prob_model_file)\n",
    "    assert 'manip' not in manip_config, \"ERROR: Manipulation operation already specified!\"\n",
    "    manip_config['manip'] = {'name': f'ConnRewireOrder{order}EE{amount_pct}pct',\n",
    "                             'fcts': [{'source': 'conn_rewiring',\n",
    "                                       'sel_src': {'synapse_class': 'EXC'},\n",
    "                                       'sel_dest': {'synapse_class': 'EXC'},\n",
    "                                       'syn_class': 'EXC',\n",
    "                                       'keep_indegree': False,\n",
    "                                       'reuse_conns': False,\n",
    "                                       'gen_method': 'duplicate_randomize', \n",
    "                                       'amount_pct': amount_pct,\n",
    "                                       'model_config': {'prob_model_spec': {'file': prob_model_file},\n",
    "                                                        'delay_model_spec': {'file': delay_model_file},\n",
    "                                                        'props_model_spec': {'file': props_model_file}}}]}\n",
    "\n",
    "def export_manip_config(manip_config, config_path, print_cmd=False, circuit_name=None, output_base_path=None, N_parallel=None):\n",
    "    \"\"\"Writes manipulation config to .json config file(s).\"\"\"\n",
    "    if not isinstance(config_path, list):\n",
    "        config_path = [config_path]\n",
    "\n",
    "    fn = f'manip_config__{manip_config[\"manip\"][\"name\"]}.json'\n",
    "    for cpath in config_path:\n",
    "        with open(os.path.join(cpath, fn), 'w') as f:\n",
    "            json.dump(manip_config, f, indent=2)\n",
    "        print(f\"Config file {fn} written to {cpath}\")\n",
    "\n",
    "    if print_cmd:\n",
    "        assert circuit_name is not None and output_base_path is not None and N_parallel is not None, \\\n",
    "            \"ERROR: circuit_name/output_base_path/N_parallel required for printing launch command!\"\n",
    "        print()\n",
    "        output_dir = os.path.join(output_base_path, circuit_name + f'__{manip_config[\"manip\"][\"name\"]}')\n",
    "        print_launch_cmd(cpath, fn, output_dir, N_parallel)\n",
    "\n",
    "def print_launch_cmd(config_path, config_fn, output_dir, N_parallel):\n",
    "    run_cmd = f'sbatch run_rewiring_parallel.sh \"{config_fn}\" \"{output_dir}\" {N_parallel}'\n",
    "    print(f\"# LAUNCH COMMAND: [DON'T LAUNCH FROM WITHIN ANOTHER ALLOCATION!]\")\n",
    "    print(f\"cd {config_path}\")\n",
    "    print(run_cmd)\n"
   ]
  },
  {
   "cell_type": "code",
   "execution_count": null,
   "metadata": {},
   "outputs": [],
   "source": []
  },
  {
   "cell_type": "code",
   "execution_count": 6,
   "metadata": {},
   "outputs": [],
   "source": [
    "# Rewiring configuration\n",
    "circuit_path = '/gpfs/bbp.cscs.ch/project/proj9/bisimplices/circuits/O1v5-SONATA'\n",
    "circuit_name = os.path.split(circuit_path)[-1]\n",
    "# circuit_config = os.path.join(circuit_path, 'sonata', 'circuit_config.json') # SONATA config (.json)\n",
    "# blue_config = os.path.join('..', 'CircuitConfig_TC_BlobStim') # Optional; path rel. to path location of circuit config\n",
    "circuit_config = os.path.join(circuit_path, 'sonata', 'circuit_config_tmp.json') # SONATA config (.json)  # TEMP edges file with afferent_center_x/y/z properties preliminarily added w/o validation, see [NSETM-1222]\n",
    "blue_config = os.path.join('..', 'CircuitConfig_TC_BlobStim_tmp') # Optional; path rel. to path location of circuit config\n",
    "\n",
    "output_base_path = '/gpfs/bbp.cscs.ch/project/proj9/bisimplices/circuits'\n",
    "config_paths = ['../configs', '/gpfs/bbp.cscs.ch/project/proj9/bisimplices/pokorny/simplified_connectome_models/configs']  # Write to local and proj9 folder\n"
   ]
  },
  {
   "cell_type": "code",
   "execution_count": null,
   "metadata": {},
   "outputs": [],
   "source": []
  },
  {
   "cell_type": "code",
   "execution_count": 7,
   "metadata": {},
   "outputs": [],
   "source": [
    "# Model locations\n",
    "models_path = os.path.join('/gpfs/bbp.cscs.ch/project/proj9/bisimplices/pokorny/simplified_connectome_models/model_building', circuit_name, 'model')  # Location of model files\n",
    "prob_model_files = [os.path.join(models_path, f'ConnProb1stOrderO1v5EE.json'),\n",
    "                    os.path.join(models_path, f'ConnProb2ndOrderO1v5EE.json'),\n",
    "                    os.path.join(models_path, f'ConnProb3rdOrderO1v5EE.json'),\n",
    "                    os.path.join(models_path, f'ConnProb4thOrderO1v5EE.json'),\n",
    "                    os.path.join(models_path, f'ConnProb5thOrderO1v5EE.json')]\n",
    "delay_model_file = os.path.join(models_path, f'DistDepDelayO1v5EE.json')\n",
    "props_model_file = os.path.join(models_path, 'ConnPropsPerPathwayO1v5EE.json')\n"
   ]
  },
  {
   "cell_type": "code",
   "execution_count": null,
   "metadata": {},
   "outputs": [],
   "source": []
  },
  {
   "cell_type": "markdown",
   "metadata": {},
   "source": [
    "## Create rewiring configs\n",
    "- Whole O1v5 connectome\n",
    "- EXC-EXC connections only"
   ]
  },
  {
   "cell_type": "code",
   "execution_count": 12,
   "metadata": {},
   "outputs": [
    {
     "name": "stdout",
     "output_type": "stream",
     "text": [
      "Config file manip_config__ConnRewireOrder1EE100pct.json written to ../configs\n",
      "Config file manip_config__ConnRewireOrder1EE100pct.json written to /gpfs/bbp.cscs.ch/project/proj9/bisimplices/pokorny/simplified_connectome_models/configs\n",
      "\n",
      "# LAUNCH COMMAND: [DON'T LAUNCH FROM WITHIN ANOTHER ALLOCATION!]\n",
      "cd /gpfs/bbp.cscs.ch/project/proj9/bisimplices/pokorny/simplified_connectome_models/configs\n",
      "sbatch run_rewiring_parallel.sh \"manip_config__ConnRewireOrder1EE100pct.json\" \"/gpfs/bbp.cscs.ch/project/proj9/bisimplices/circuits/O1v5-SONATA__ConnRewireOrder1EE100pct\" 100\n"
     ]
    }
   ],
   "source": [
    "# 1st-order rewiring\n",
    "manip_config = default_manip_config(circuit_config, seed=3210)\n",
    "add_manip_to_config(manip_config, 100, prob_model_files[0], delay_model_file, props_model_file)\n",
    "# manip_config['manip']['name'] = manip_config['manip']['name'] + '__TEST4'\n",
    "export_manip_config(manip_config, config_paths, print_cmd=True, circuit_name=circuit_name, output_base_path=output_base_path, N_parallel=100)"
   ]
  },
  {
   "cell_type": "code",
   "execution_count": null,
   "metadata": {},
   "outputs": [],
   "source": []
  },
  {
   "cell_type": "code",
   "execution_count": null,
   "metadata": {},
   "outputs": [],
   "source": []
  },
  {
   "cell_type": "code",
   "execution_count": null,
   "metadata": {},
   "outputs": [],
   "source": []
  },
  {
   "cell_type": "markdown",
   "metadata": {},
   "source": [
    "---\n",
    "## Tools for post-processing"
   ]
  },
  {
   "cell_type": "markdown",
   "metadata": {},
   "source": [
    "### Create BlueConfig"
   ]
  },
  {
   "cell_type": "code",
   "execution_count": null,
   "metadata": {},
   "outputs": [],
   "source": [
    "# TODO"
   ]
  },
  {
   "cell_type": "code",
   "execution_count": null,
   "metadata": {},
   "outputs": [],
   "source": []
  },
  {
   "cell_type": "markdown",
   "metadata": {},
   "source": [
    "### Create bbp-workflow config"
   ]
  },
  {
   "cell_type": "code",
   "execution_count": 15,
   "metadata": {},
   "outputs": [],
   "source": [
    "# TODO"
   ]
  },
  {
   "cell_type": "code",
   "execution_count": null,
   "metadata": {},
   "outputs": [],
   "source": []
  }
 ],
 "metadata": {
  "kernelspec": {
   "display_name": "ReWiringKernel",
   "language": "python",
   "name": "rewiringkernel"
  },
  "language_info": {
   "codemirror_mode": {
    "name": "ipython",
    "version": 3
   },
   "file_extension": ".py",
   "mimetype": "text/x-python",
   "name": "python",
   "nbconvert_exporter": "python",
   "pygments_lexer": "ipython3",
   "version": "3.10.8"
  }
 },
 "nbformat": 4,
 "nbformat_minor": 4
}
