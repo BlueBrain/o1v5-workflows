{
 "cells": [
  {
   "cell_type": "markdown",
   "metadata": {},
   "source": [
    "# O1v5-SONATA rewiring based on simplified models of connectivity\n",
    "This is an auxiliary notebook for configuring/testing 1st..5th-order connectome rewiring, which\n",
    "\n",
    " - sets up connectome manipulations (rewiring)\n",
    " - writes .json config file for running rewiring using sbatch\n",
    "\n",
    "<u>Requirements</u>: [connectome-manipulator](https://bbpgitlab.epfl.ch/conn/structural/connectome_manipulator) package (v0.0.5.dev1 or later)\n",
    "\n",
    "ℹ️ Related ticket: [[ACCS-49](https://bbpteam.epfl.ch/project/issues/browse/ACCS-49)] \"Rewiring V5 connectome based on five simplified models of connectivity\"\n",
    "\n",
    "IMPORTANT: For running actual model building on BB5, use <code>sbatch run_rewiring.sh manip_config__[...].json</code>\n"
   ]
  },
  {
   "cell_type": "code",
   "execution_count": 1,
   "metadata": {},
   "outputs": [],
   "source": [
    "# Initialization\n",
    "\n",
    "\"\"\" Global imports \"\"\"\n",
    "import json\n",
    "import os"
   ]
  },
  {
   "cell_type": "code",
   "execution_count": 53,
   "metadata": {},
   "outputs": [],
   "source": [
    "def default_manip_config(output_path, circuit_config, blue_config, seed=3210, N_split=1):\n",
    "    \"\"\"Generates a default manipulation config dict w/o any specific manipulation.\"\"\"\n",
    "\n",
    "    manip_config = {}\n",
    "    manip_config['circuit_config'] = circuit_config\n",
    "    if blue_config is not None:\n",
    "        manip_config['blue_config_to_update'] = blue_config  # Optional; path rel. to path location of circuit config\n",
    "    manip_config['workflow_template'] = 'bbp-workflow_RegisterCircuit.cfg' # Optional; to create bbp-workflow config from [Must be within same folder as configs & launch script]\n",
    "    manip_config['seed'] = seed\n",
    "    manip_config['N_split_nodes'] = N_split\n",
    "\n",
    "    return manip_config\n",
    "\n",
    "\n",
    "def order_from_name(name):\n",
    "    order_str = name.split(\"Order\")[0]\n",
    "    order = [int(i) for i in order_str if i.isdigit()]\n",
    "    assert len(order) == 1, \"ERROR: Order could not be determined!\"\n",
    "    return order[0]\n",
    "\n",
    "\n",
    "def order_from_model_file(model_file):\n",
    "    with open(model_file, \"r\") as f:\n",
    "        model_dict = json.load(f)\n",
    "    order = order_from_name(model_dict.get(\"model\", \"\"))\n",
    "    assert order > 0, \"ERROR: Invalid model order!\"\n",
    "    return order\n",
    "\n",
    "\n",
    "def add_manip_to_config(manip_config, amount_pct, prob_model_file, delay_model_file, props_model_file):\n",
    "    \"\"\"Adds a specific n-th order rewiring operation to the manipulation config dict.\"\"\"\n",
    "    order = order_from_model_file(prob_model_file)\n",
    "    assert 'manip' not in manip_config, \"ERROR: Manipulation operation already specified!\"\n",
    "    manip_config['manip'] = {'name': f'ConnRewireOrder{order}EE{amount_pct}pct',\n",
    "                             'fcts': [{'source': 'conn_rewiring',\n",
    "                                       'kwargs': {'sel_src': {'synapse_class': 'EXC'},\n",
    "                                                  'sel_dest': {'synapse_class': 'EXC'},\n",
    "                                                  'syn_class': 'EXC',\n",
    "                                                  'keep_indegree': False,\n",
    "                                                  'reuse_conns': False,\n",
    "                                                  'gen_method': 'duplicate_randomize', \n",
    "                                                  'amount_pct': amount_pct,\n",
    "                                                  'prob_model_file': prob_model_file,\n",
    "                                                  'delay_model_file': delay_model_file,\n",
    "                                                  'props_model_file': props_model_file}}]}\n",
    "    return manip_config\n"
   ]
  },
  {
   "cell_type": "code",
   "execution_count": null,
   "metadata": {},
   "outputs": [],
   "source": []
  },
  {
   "cell_type": "code",
   "execution_count": 43,
   "metadata": {},
   "outputs": [],
   "source": [
    "# Rewiring configuration\n",
    "circuit_path = '/gpfs/bbp.cscs.ch/project/proj9/bisimplices/circuits/O1v5-SONATA'\n",
    "circuit_name = os.path.split(circuit_path)[-1]\n",
    "# circuit_config = os.path.join(circuit_path, 'sonata', 'circuit_config.json') # SONATA config (.json)\n",
    "# blue_config = os.path.join('..', 'CircuitConfig_TC_BlobStim') # Optional; path rel. to path location of circuit config\n",
    "circuit_config = os.path.join(circuit_path, 'sonata', 'circuit_config_tmp.json') # SONATA config (.json)  # TEMP edges file with afferent_center_x/y/z properties preliminarily added w/o validation, see [NSETM-1222]\n",
    "blue_config = os.path.join('..', 'CircuitConfig_TC_BlobStim_tmp') # Optional; path rel. to path location of circuit config\n",
    "\n",
    "output_base_path = '/gpfs/bbp.cscs.ch/project/proj9/bisimplices/circuits'\n",
    "config_paths = ['../configs', '/gpfs/bbp.cscs.ch/project/proj9/bisimplices/pokorny/simplified_connectome_models/configs']  # Write to local and proj9 folder\n"
   ]
  },
  {
   "cell_type": "code",
   "execution_count": null,
   "metadata": {},
   "outputs": [],
   "source": []
  },
  {
   "cell_type": "code",
   "execution_count": 46,
   "metadata": {},
   "outputs": [],
   "source": [
    "# Model locations\n",
    "models_path = os.path.join('/gpfs/bbp.cscs.ch/project/proj9/bisimplices/pokorny/simplified_connectome_models/model_building', circuit_name, 'model')  # Location of model files\n",
    "prob_model_files = [os.path.join(models_path, f'ConnProb1stOrderO1v5EE.json'),\n",
    "                    os.path.join(models_path, f'ConnProb2ndOrderO1v5EE.json'),\n",
    "                    os.path.join(models_path, f'ConnProb3rdOrderO1v5EE.json'),\n",
    "                    os.path.join(models_path, f'ConnProb4thOrderO1v5EE.json'),\n",
    "                    os.path.join(models_path, f'ConnProb5thOrderO1v5EE.json')]\n",
    "delay_model_file = os.path.join(models_path, f'DistDepDelayO1v5EE.json')\n",
    "props_model_file = os.path.join(models_path, 'ConnPropsPerPathwayO1v5EE.json')\n"
   ]
  },
  {
   "cell_type": "code",
   "execution_count": null,
   "metadata": {},
   "outputs": [],
   "source": []
  },
  {
   "cell_type": "markdown",
   "metadata": {},
   "source": [
    "## Create rewiring configs\n",
    "- Whole O1v5 connectome\n",
    "- EXC-EXC connections only"
   ]
  },
  {
   "cell_type": "code",
   "execution_count": null,
   "metadata": {},
   "outputs": [],
   "source": [
    "# TODO..."
   ]
  },
  {
   "cell_type": "code",
   "execution_count": null,
   "metadata": {},
   "outputs": [],
   "source": []
  },
  {
   "cell_type": "code",
   "execution_count": null,
   "metadata": {},
   "outputs": [],
   "source": []
  },
  {
   "cell_type": "code",
   "execution_count": null,
   "metadata": {},
   "outputs": [],
   "source": []
  },
  {
   "cell_type": "code",
   "execution_count": null,
   "metadata": {},
   "outputs": [],
   "source": []
  }
 ],
 "metadata": {
  "kernelspec": {
   "display_name": "ReWiringKernel",
   "language": "python",
   "name": "rewiringkernel"
  },
  "language_info": {
   "codemirror_mode": {
    "name": "ipython",
    "version": 3
   },
   "file_extension": ".py",
   "mimetype": "text/x-python",
   "name": "python",
   "nbconvert_exporter": "python",
   "pygments_lexer": "ipython3",
   "version": "3.9.7"
  }
 },
 "nbformat": 4,
 "nbformat_minor": 4
}
