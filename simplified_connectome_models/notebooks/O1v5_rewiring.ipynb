{
 "cells": [
  {
   "cell_type": "markdown",
   "metadata": {},
   "source": [
    "# O1v5-SONATA rewiring based on simplified models of connectivity\n",
    "This is an auxiliary notebook for configuring/testing 1st..5th-order connectome rewiring, which\n",
    "\n",
    " - sets up connectome manipulations (rewiring)\n",
    " - writes .json config file for running rewiring using sbatch\n",
    "\n",
    "<u>Requirements</u>: [connectome-manipulator](https://bbpgitlab.epfl.ch/conn/structural/connectome_manipulator) package (v0.0.5.dev1 or later; with v4 config format and `parallel-manipulator` entry point)\n",
    "\n",
    "ℹ️ Related ticket: [[ACCS-49](https://bbpteam.epfl.ch/project/issues/browse/ACCS-49)] \"Rewiring V5 connectome based on five simplified models of connectivity\"\n",
    "\n",
    "IMPORTANT: For running actual model building on BB5, use <code>sbatch run_rewiring.sh manip_config__[...].json</code>\n"
   ]
  },
  {
   "cell_type": "code",
   "execution_count": 1,
   "metadata": {},
   "outputs": [],
   "source": [
    "# Initialization\n",
    "\n",
    "\"\"\" Global imports \"\"\"\n",
    "import json\n",
    "import os"
   ]
  },
  {
   "cell_type": "code",
   "execution_count": 2,
   "metadata": {},
   "outputs": [],
   "source": [
    "def default_manip_config(circuit_config, seed=3210, N_split=None):\n",
    "    \"\"\"Generates a default manipulation config dict w/o any specific manipulation.\"\"\"\n",
    "    manip_config = {}\n",
    "    manip_config['circuit_config'] = circuit_config\n",
    "    manip_config['seed'] = seed\n",
    "    if N_split is not None:\n",
    "        manip_config['N_split_nodes'] = N_split\n",
    "    return manip_config\n",
    "\n",
    "def order_from_name(name):\n",
    "    order_str = name.split(\"Order\")[0]\n",
    "    order = [int(i) for i in order_str if i.isdigit()]\n",
    "    assert len(order) == 1, \"ERROR: Order could not be determined!\"\n",
    "    return order[0]\n",
    "\n",
    "def order_from_model_file(model_file):\n",
    "    with open(model_file, \"r\") as f:\n",
    "        model_dict = json.load(f)\n",
    "    order = order_from_name(model_dict.get(\"model\", \"\"))\n",
    "    assert order > 0, \"ERROR: Invalid model order!\"\n",
    "    return order\n",
    "\n",
    "def add_manip_to_config(manip_config, amount_pct, prob_model_file, delay_model_file, props_model_file, calib_run=True, p_scale=None):\n",
    "    \"\"\"Adds a specific n-th order rewiring operation to the (v4) manipulation config dict (in-place).\"\"\"\n",
    "    assert 'manip' not in manip_config, \"ERROR: Manipulation operation already specified!\"\n",
    "    order = order_from_model_file(prob_model_file)\n",
    "    if p_scale is None:\n",
    "        p_scale = 1.0\n",
    "    else:\n",
    "        assert p_scale > 0.0, \"ERROR: p_scale out of range!\"\n",
    "    manip_config['manip'] = {'name': f'ConnRewireOrder{order}mc2EE{amount_pct}pct',\n",
    "                             'fcts': [{'source': 'conn_rewiring',\n",
    "                                       'sel_src': {'hypercolumn': 2, 'synapse_class': 'EXC'},\n",
    "                                       'sel_dest': {'hypercolumn': 2, 'synapse_class': 'EXC'},\n",
    "                                       'syn_class': 'EXC',\n",
    "                                       'keep_indegree': False,\n",
    "                                       'reuse_conns': False,\n",
    "                                       'gen_method': 'duplicate_randomize', \n",
    "                                       'amount_pct': amount_pct,\n",
    "                                       'estimation_run': calib_run,\n",
    "                                       'opt_nconn': not calib_run,\n",
    "                                       'p_scale': p_scale,\n",
    "                                       'model_config': {'prob_model_spec': {'file': prob_model_file},\n",
    "                                                        'delay_model_spec': {'file': delay_model_file},\n",
    "                                                        'props_model_spec': {'file': props_model_file}}}]}\n",
    "\n",
    "def export_manip_config(manip_config, config_path, print_cmd=False, circuit_name=None, output_base_path=None, N_parallel=None):\n",
    "    \"\"\"Writes manipulation config to .json config file(s).\"\"\"\n",
    "    if not isinstance(config_path, list):\n",
    "        config_path = [config_path]\n",
    "\n",
    "    fn = f'manip_config__{manip_config[\"manip\"][\"name\"]}.json'\n",
    "    for cpath in config_path:\n",
    "        with open(os.path.join(cpath, fn), 'w') as f:\n",
    "            json.dump(manip_config, f, indent=2)\n",
    "        print(f\"Config file {fn} written to {cpath}\")\n",
    "\n",
    "    if print_cmd:\n",
    "        assert circuit_name is not None and output_base_path is not None and N_parallel is not None, \\\n",
    "            \"ERROR: circuit_name/output_base_path/N_parallel required for printing launch command!\"\n",
    "        print()\n",
    "        output_dir = os.path.join(output_base_path, circuit_name + f'__{manip_config[\"manip\"][\"name\"]}')\n",
    "        print_launch_cmd(cpath, fn, output_dir, N_parallel)\n",
    "\n",
    "def print_launch_cmd(config_path, config_fn, output_dir, N_parallel):\n",
    "    run_cmd = f'sbatch run_rewiring_parallel.sh \"{config_fn}\" \"{output_dir}\" {N_parallel}'\n",
    "    print(f\"# LAUNCH COMMAND: [DON'T LAUNCH FROM WITHIN ANOTHER SLURM ALLOCATION!]\")\n",
    "    print(f\"cd {config_path}\")\n",
    "    print(run_cmd)\n"
   ]
  },
  {
   "cell_type": "code",
   "execution_count": null,
   "metadata": {},
   "outputs": [],
   "source": []
  },
  {
   "cell_type": "code",
   "execution_count": 4,
   "metadata": {},
   "outputs": [],
   "source": [
    "# Rewiring configuration\n",
    "circuit_path = '/gpfs/bbp.cscs.ch/project/proj9/bisimplices/circuits/O1v5-SONATA'\n",
    "circuit_name = os.path.split(circuit_path)[-1]\n",
    "# NOT USED # circuit_config = os.path.join(circuit_path, 'sonata', 'circuit_config.json') # SONATA config (.json)\n",
    "# NOT USED # blue_config = os.path.join('..', 'CircuitConfig_TC_BlobStim') # Optional; path rel. to path location of circuit config\n",
    "circuit_config = os.path.join(circuit_path, 'sonata', 'circuit_config_tmp.json') # SONATA config (.json)  # TEMP edges file with afferent_center_x/y/z properties preliminarily added w/o validation, see [NSETM-1222]\n",
    "# blue_config = os.path.join('..', 'CircuitConfig_TC_BlobStim_tmp') # Optional; path rel. to path location of circuit config\n",
    "\n",
    "output_base_path = '/gpfs/bbp.cscs.ch/project/proj9/bisimplices/circuits'\n",
    "config_paths = ['../configs', '/gpfs/bbp.cscs.ch/project/proj9/bisimplices/pokorny/simplified_connectome_models/configs']  # Write to local and proj9 folder\n"
   ]
  },
  {
   "cell_type": "code",
   "execution_count": null,
   "metadata": {},
   "outputs": [],
   "source": []
  },
  {
   "cell_type": "code",
   "execution_count": 5,
   "metadata": {},
   "outputs": [],
   "source": [
    "# Model locations (MC2 column models!!)\n",
    "models_path = os.path.join('/gpfs/bbp.cscs.ch/project/proj9/bisimplices/pokorny/simplified_connectome_models/model_building', circuit_name, 'model')  # Location of model files\n",
    "prob_model_files = [os.path.join(models_path, f'ConnProb1stOrderO1v5mc2EE.json'),\n",
    "                    os.path.join(models_path, f'ConnProb2ndOrderComplexO1v5mc2EE.json'),\n",
    "                    os.path.join(models_path, f'ConnProb3rdOrderComplexO1v5mc2EE.json'),\n",
    "                    os.path.join(models_path, f'ConnProb4thOrderO1v5mc2EE.json'),\n",
    "                    os.path.join(models_path, f'ConnProb5thOrderO1v5mc2EE.json')]\n",
    "delay_model_file = os.path.join(models_path, f'DistDepDelayO1v5mc2EE.json')\n",
    "props_model_file = os.path.join(models_path, 'ConnPropsPerPathwayO1v5mc2EE.json')\n"
   ]
  },
  {
   "cell_type": "code",
   "execution_count": null,
   "metadata": {},
   "outputs": [],
   "source": []
  },
  {
   "cell_type": "markdown",
   "metadata": {},
   "source": [
    "## Create rewiring configs\n",
    "- Central column (MC2) of O1v5 connectome only *)\n",
    "- EXC-EXC connections only\n",
    "\n",
    "*) Otherwise, 1st order probabilities will be much lower within the central column, which is the one we are extracting data from in the end. For consistency, we keep the surrounding columns constant for all simplified models."
   ]
  },
  {
   "cell_type": "code",
   "execution_count": 50,
   "metadata": {},
   "outputs": [
    {
     "name": "stdout",
     "output_type": "stream",
     "text": [
      "Config file manip_config__ConnRewireOrder1mc2EE100pct.json written to ../configs\n",
      "Config file manip_config__ConnRewireOrder1mc2EE100pct.json written to /gpfs/bbp.cscs.ch/project/proj9/bisimplices/pokorny/simplified_connectome_models/configs\n",
      "\n",
      "# LAUNCH COMMAND: [DON'T LAUNCH FROM WITHIN ANOTHER SLURM ALLOCATION!]\n",
      "cd /gpfs/bbp.cscs.ch/project/proj9/bisimplices/pokorny/simplified_connectome_models/configs\n",
      "sbatch run_rewiring_parallel.sh \"manip_config__ConnRewireOrder1mc2EE100pct.json\" \"/gpfs/bbp.cscs.ch/project/proj9/bisimplices/circuits/O1v5-SONATA__ConnRewireOrder1mc2EE100pct\" 500\n"
     ]
    }
   ],
   "source": [
    "# 1st-order rewiring [CALIBRATION & REWIRING RUNS]\n",
    "manip_config = default_manip_config(circuit_config, seed=3210)\n",
    "add_manip_to_config(manip_config, 100, prob_model_files[0], delay_model_file, props_model_file, calib_run=False, p_scale=1.0)\n",
    "# manip_config['manip']['name'] = manip_config['manip']['name'] + '__calib-3__'\n",
    "export_manip_config(manip_config, config_paths, print_cmd=True, circuit_name=circuit_name, output_base_path=output_base_path, N_parallel=500)"
   ]
  },
  {
   "cell_type": "code",
   "execution_count": null,
   "metadata": {},
   "outputs": [],
   "source": []
  },
  {
   "cell_type": "code",
   "execution_count": 44,
   "metadata": {},
   "outputs": [
    {
     "name": "stdout",
     "output_type": "stream",
     "text": [
      "Config file manip_config__ConnRewireOrder2mc2EE100pct.json written to ../configs\n",
      "Config file manip_config__ConnRewireOrder2mc2EE100pct.json written to /gpfs/bbp.cscs.ch/project/proj9/bisimplices/pokorny/simplified_connectome_models/configs\n",
      "\n",
      "# LAUNCH COMMAND: [DON'T LAUNCH FROM WITHIN ANOTHER SLURM ALLOCATION!]\n",
      "cd /gpfs/bbp.cscs.ch/project/proj9/bisimplices/pokorny/simplified_connectome_models/configs\n",
      "sbatch run_rewiring_parallel.sh \"manip_config__ConnRewireOrder2mc2EE100pct.json\" \"/gpfs/bbp.cscs.ch/project/proj9/bisimplices/circuits/O1v5-SONATA__ConnRewireOrder2mc2EE100pct\" 500\n"
     ]
    }
   ],
   "source": [
    "# 2nd-order rewiring [CALIBRATION & REWIRING RUNS]\n",
    "manip_config = default_manip_config(circuit_config, seed=3210)\n",
    "add_manip_to_config(manip_config, 100, prob_model_files[1], delay_model_file, props_model_file, calib_run=False, p_scale=1.0064412916711973)\n",
    "# manip_config['manip']['name'] = manip_config['manip']['name'] + '__calib-5__'\n",
    "export_manip_config(manip_config, config_paths, print_cmd=True, circuit_name=circuit_name, output_base_path=output_base_path, N_parallel=500)"
   ]
  },
  {
   "cell_type": "code",
   "execution_count": null,
   "metadata": {},
   "outputs": [],
   "source": []
  },
  {
   "cell_type": "code",
   "execution_count": 73,
   "metadata": {},
   "outputs": [
    {
     "name": "stdout",
     "output_type": "stream",
     "text": [
      "Config file manip_config__ConnRewireOrder3mc2EE100pct.json written to ../configs\n",
      "Config file manip_config__ConnRewireOrder3mc2EE100pct.json written to /gpfs/bbp.cscs.ch/project/proj9/bisimplices/pokorny/simplified_connectome_models/configs\n",
      "\n",
      "# LAUNCH COMMAND: [DON'T LAUNCH FROM WITHIN ANOTHER SLURM ALLOCATION!]\n",
      "cd /gpfs/bbp.cscs.ch/project/proj9/bisimplices/pokorny/simplified_connectome_models/configs\n",
      "sbatch run_rewiring_parallel.sh \"manip_config__ConnRewireOrder3mc2EE100pct.json\" \"/gpfs/bbp.cscs.ch/project/proj9/bisimplices/circuits/O1v5-SONATA__ConnRewireOrder3mc2EE100pct\" 500\n"
     ]
    }
   ],
   "source": [
    "# 3rd-order rewiring [CALIBRATION & REWIRING RUNS]\n",
    "manip_config = default_manip_config(circuit_config, seed=3210)\n",
    "add_manip_to_config(manip_config, 100, prob_model_files[2], delay_model_file, props_model_file, calib_run=False, p_scale=1.0063058207212865)\n",
    "# manip_config['manip']['name'] = manip_config['manip']['name'] + '__calib-4__'\n",
    "export_manip_config(manip_config, config_paths, print_cmd=True, circuit_name=circuit_name, output_base_path=output_base_path, N_parallel=500)"
   ]
  },
  {
   "cell_type": "code",
   "execution_count": null,
   "metadata": {},
   "outputs": [],
   "source": []
  },
  {
   "cell_type": "code",
   "execution_count": 20,
   "metadata": {},
   "outputs": [
    {
     "name": "stdout",
     "output_type": "stream",
     "text": [
      "Config file manip_config__ConnRewireOrder4mc2EE100pct.json written to ../configs\n",
      "Config file manip_config__ConnRewireOrder4mc2EE100pct.json written to /gpfs/bbp.cscs.ch/project/proj9/bisimplices/pokorny/simplified_connectome_models/configs\n",
      "\n",
      "# LAUNCH COMMAND: [DON'T LAUNCH FROM WITHIN ANOTHER SLURM ALLOCATION!]\n",
      "cd /gpfs/bbp.cscs.ch/project/proj9/bisimplices/pokorny/simplified_connectome_models/configs\n",
      "sbatch run_rewiring_parallel.sh \"manip_config__ConnRewireOrder4mc2EE100pct.json\" \"/gpfs/bbp.cscs.ch/project/proj9/bisimplices/circuits/O1v5-SONATA__ConnRewireOrder4mc2EE100pct\" 500\n"
     ]
    }
   ],
   "source": [
    "# 4th-order rewiring [CALIBRATION & REWIRING RUNS]\n",
    "manip_config = default_manip_config(circuit_config, seed=3210)\n",
    "add_manip_to_config(manip_config, 100, prob_model_files[3], delay_model_file, props_model_file, calib_run=False, p_scale=1.0238483669742555)\n",
    "# manip_config['manip']['name'] = manip_config['manip']['name'] + '__calib-2__'\n",
    "export_manip_config(manip_config, config_paths, print_cmd=True, circuit_name=circuit_name, output_base_path=output_base_path, N_parallel=500)"
   ]
  },
  {
   "cell_type": "code",
   "execution_count": null,
   "metadata": {},
   "outputs": [],
   "source": []
  },
  {
   "cell_type": "code",
   "execution_count": 34,
   "metadata": {},
   "outputs": [
    {
     "name": "stdout",
     "output_type": "stream",
     "text": [
      "Config file manip_config__ConnRewireOrder5mc2EE100pct.json written to ../configs\n",
      "Config file manip_config__ConnRewireOrder5mc2EE100pct.json written to /gpfs/bbp.cscs.ch/project/proj9/bisimplices/pokorny/simplified_connectome_models/configs\n",
      "\n",
      "# LAUNCH COMMAND: [DON'T LAUNCH FROM WITHIN ANOTHER SLURM ALLOCATION!]\n",
      "cd /gpfs/bbp.cscs.ch/project/proj9/bisimplices/pokorny/simplified_connectome_models/configs\n",
      "sbatch run_rewiring_parallel.sh \"manip_config__ConnRewireOrder5mc2EE100pct.json\" \"/gpfs/bbp.cscs.ch/project/proj9/bisimplices/circuits/O1v5-SONATA__ConnRewireOrder5mc2EE100pct\" 500\n"
     ]
    }
   ],
   "source": [
    "# 5th-order rewiring [CALIBRATION & REWIRING RUNS]\n",
    "manip_config = default_manip_config(circuit_config, seed=3210)\n",
    "add_manip_to_config(manip_config, 100, prob_model_files[4], delay_model_file, props_model_file, calib_run=False, p_scale=1.0423059239398222)\n",
    "# manip_config['manip']['name'] = manip_config['manip']['name'] + '__calib-4__'\n",
    "export_manip_config(manip_config, config_paths, print_cmd=True, circuit_name=circuit_name, output_base_path=output_base_path, N_parallel=500)"
   ]
  },
  {
   "cell_type": "code",
   "execution_count": null,
   "metadata": {},
   "outputs": [],
   "source": []
  },
  {
   "cell_type": "code",
   "execution_count": null,
   "metadata": {},
   "outputs": [],
   "source": []
  },
  {
   "cell_type": "code",
   "execution_count": null,
   "metadata": {},
   "outputs": [],
   "source": []
  },
  {
   "cell_type": "markdown",
   "metadata": {},
   "source": [
    "---\n",
    "## Matching number of connections\n",
    "\n",
    "<u>Related ticket</u>: [ACCS-46](https://bbpteam.epfl.ch/project/issues/browse/ACCS-46)\n",
    "\n",
    "<u>Procedure</u>:\n",
    "1. Initialize scaling factor p_scale = 1.0\n",
    "2. Run calibration (evaulation) run with p_scale\n",
    "3. Check connection counts from data logs and compute new scaling factor p_scale'\n",
    "4. Adjust scaling factor p_scale = p_scale * p_scale'\n",
    "5. Repeat steps 2. to 5. until convergence$^1$ (or oscillation)\n",
    "6. Run actual rewiring with converged p_scale (or closest value, in case of oscillation)\n",
    "\n",
    "$^1$Convergence ... Number of connections match exactly\n",
    "\n",
    "### Check connection counts and adjust scaling factor"
   ]
  },
  {
   "cell_type": "code",
   "execution_count": 7,
   "metadata": {},
   "outputs": [],
   "source": [
    "import tqdm\n",
    "import numpy as np"
   ]
  },
  {
   "cell_type": "code",
   "execution_count": 40,
   "metadata": {},
   "outputs": [
    {
     "name": "stderr",
     "output_type": "stream",
     "text": [
      "Collecting log files: 500it [00:01, 290.99it/s]"
     ]
    },
    {
     "name": "stdout",
     "output_type": "stream",
     "text": [
      "Non-empty splits: 72/500\n",
      "\n",
      "<ACTUAL REWIRED INSTANCE>\n",
      "Overall: #Conns_orig = 14138043, #Conns_rewired = 14138043, DIFF = 0 (0.00%)\n",
      "Within wiring target: #Conns_orig = 6717001, #Conns_rewired = 6717001, DIFF = 0 (0.00%)\n",
      "Deviation from average prediction of ingoing #conns of 26567 post-neurons: MIN = 0, MAX = 0, #MISMATCH = 0, OVERALL #Conn DIFF = 0\n",
      "\n",
      "<AVERAGE PREDICTION>\n",
      "Overall: #Conns_orig = 14138043, #Conns_predicted = 14138043, DIFF = 0 (0.00%)\n",
      "Within wiring target: #Conns_orig = 6717001, #Conns_predicted = 6717001, DIFF = 0 (0.00%)\n",
      "Probability scaling p_scale = 6717001 / 6717001 = 1.0\n"
     ]
    },
    {
     "name": "stderr",
     "output_type": "stream",
     "text": [
      "\n"
     ]
    }
   ],
   "source": [
    "# Estimate global probability scaling factor for matching #connections (from log file of estimation or actual rewiring run)\n",
    "log_type = 'Rewiring' # 'Rewiring'...actual rewiring, 'Estimation'...estimation run\n",
    "N_split = 500\n",
    "alt_date = None\n",
    "\n",
    "# 1st-order rewiring\n",
    "# main_log_file = '/gpfs/bbp.cscs.ch/project/proj9/bisimplices/circuits/O1v5-SONATA__ConnRewireOrder1mc2EE100pct__calib-0__/logs/connectome_manipulation_2023-06-22_13h58.log'  # DIFF = 4450.0 (0.07% rel. to wiring target) => OPTIMUM\n",
    "# main_log_file = '/gpfs/bbp.cscs.ch/project/proj9/bisimplices/circuits/O1v5-SONATA__ConnRewireOrder1mc2EE100pct__calib-1__/logs/connectome_manipulation_2023-06-22_14h06.log'  # DIFF = 4450.0 (0.07% rel. to wiring target)\n",
    "# main_log_file = '/gpfs/bbp.cscs.ch/project/proj9/bisimplices/circuits/O1v5-SONATA__ConnRewireOrder1mc2EE100pct__calib-2__/logs/connectome_manipulation_2023-06-22_14h09.log'  # DIFF = -22117.0 (-0.33% rel. to wiring target)\n",
    "# main_log_file = '/gpfs/bbp.cscs.ch/project/proj9/bisimplices/circuits/O1v5-SONATA__ConnRewireOrder1mc2EE100pct__calib-3__/logs/connectome_manipulation_2023-06-23_13h49.log'  # DIFF = 4450.0 (0.07% rel. to wiring target) => OSCILLATING\n",
    "# p_scales = [1.0, 0.9993379405726531, 0.9993379405726531, 1.0033035673209574, 0.9993379405726531]\n",
    "# p_scale_opt = np.prod(p_scales[:1]) = 1.0\n",
    "# main_log_file = '/gpfs/bbp.cscs.ch/project/proj9/bisimplices/circuits/O1v5-SONATA__ConnRewireOrder1mc2EE100pct/logs/connectome_manipulation_2023-06-22_14h56.log'  # DIFF = 4450 (0.07% rel. to wiring target) => ACTUAL REWIRING RUN\n",
    "\n",
    "# 2nd-order rewiring\n",
    "# main_log_file = '/gpfs/bbp.cscs.ch/project/proj9/bisimplices/circuits/O1v5-SONATA__ConnRewireOrder2mc2EE100pct__calib-0__/logs/connectome_manipulation_2023-06-22_16h06.log'  # DIFF = -43029.0 (-0.64% rel. to wiring target)\n",
    "# main_log_file = '/gpfs/bbp.cscs.ch/project/proj9/bisimplices/circuits/O1v5-SONATA__ConnRewireOrder2mc2EE100pct__calib-1__/logs/connectome_manipulation_2023-06-22_16h36.log'  # DIFF = 43.0 (0.00% rel. to wiring target)\n",
    "# alt_date = '2023-06-22_16h37'  # Alternative date/time, since mismatch (~1s) between time stamps of main log file and data logs possible!! [NEEDS TO BE FIXED IN LOGGING MODULE]\n",
    "# main_log_file = '/gpfs/bbp.cscs.ch/project/proj9/bisimplices/circuits/O1v5-SONATA__ConnRewireOrder2mc2EE100pct__calib-2__/logs/connectome_manipulation_2023-06-23_11h50.log'  # DIFF = -3.0 (-0.00% rel. to wiring target)\n",
    "# main_log_file = '/gpfs/bbp.cscs.ch/project/proj9/bisimplices/circuits/O1v5-SONATA__ConnRewireOrder2mc2EE100pct__calib-3__/logs/connectome_manipulation_2023-06-23_12h14.log'  # DIFF = 2.0 (0.00% rel. to wiring target) => OPTIMUM\n",
    "# main_log_file = '/gpfs/bbp.cscs.ch/project/proj9/bisimplices/circuits/O1v5-SONATA__ConnRewireOrder2mc2EE100pct__calib-4__/logs/connectome_manipulation_2023-06-23_12h23.log'  # DIFF = -2.0 (-0.00% rel. to wiring target)\n",
    "# main_log_file = '/gpfs/bbp.cscs.ch/project/proj9/bisimplices/circuits/O1v5-SONATA__ConnRewireOrder2mc2EE100pct__calib-5__/logs/connectome_manipulation_2023-06-23_12h33.log'  # DIFF = 2.0 (0.00% rel. to wiring target) => OSCILLATING\n",
    "# p_scales = [1.0, 1.0064472850650257, 0.9999935983745231, 1.0000004466280918, 0.9999997022481604, 1.000000297752017, 0.9999997022481604]\n",
    "# p_scale_opt = np.prod(p_scales[:4]) = 1.0064412916711973\n",
    "# main_log_file = '/gpfs/bbp.cscs.ch/project/proj9/bisimplices/circuits/O1v5-SONATA__ConnRewireOrder2mc2EE100pct/logs/connectome_manipulation_2023-06-23_13h35.log'  # DIFF = 2 (0.00% rel. to wiring target) => ACTUAL REWIRING RUN\n",
    "\n",
    "# 3rd-order rewiring\n",
    "# main_log_file = '/gpfs/bbp.cscs.ch/project/proj9/bisimplices/circuits/O1v5-SONATA__ConnRewireOrder3mc2EE100pct__calib-0__/logs/connectome_manipulation_2023-06-23_15h45.log'  # DIFF = -42057.0 (-0.63% rel. to wiring target)\n",
    "# main_log_file = '/gpfs/bbp.cscs.ch/project/proj9/bisimplices/circuits/O1v5-SONATA__ConnRewireOrder3mc2EE100pct__calib-1__/logs/connectome_manipulation_2023-06-23_15h52.log'  # DIFF = -37.0 (-0.00% rel. to wiring target)\n",
    "# main_log_file = '/gpfs/bbp.cscs.ch/project/proj9/bisimplices/circuits/O1v5-SONATA__ConnRewireOrder3mc2EE100pct__calib-2__/logs/connectome_manipulation_2023-06-23_16h09.log'  # DIFF = 3.0 (0.00% rel. to wiring target)\n",
    "# main_log_file = '/gpfs/bbp.cscs.ch/project/proj9/bisimplices/circuits/O1v5-SONATA__ConnRewireOrder3mc2EE100pct__calib-3__/logs/connectome_manipulation_2023-06-23_16h20.log'  # DIFF = -2.0 (-0.00% rel. to wiring target) => OPTIMUM\n",
    "# main_log_file = '/gpfs/bbp.cscs.ch/project/proj9/bisimplices/circuits/O1v5-SONATA__ConnRewireOrder3mc2EE100pct__calib-4__/logs/connectome_manipulation_2023-06-23_16h23.log'  # DIFF = 3.0 (0.00% rel. to wiring target) => OSCILLATING\n",
    "# p_scales = [1.0, 1.0063007270173352, 1.000005508441016, 0.9999995533723071, 1.000000297752017, 0.9999995533723071]\n",
    "# p_scale_opt = np.prod(p_scales[:4]) = 1.0063058207212865\n",
    "# main_log_file = '/gpfs/bbp.cscs.ch/project/proj9/bisimplices/circuits/O1v5-SONATA__ConnRewireOrder3mc2EE100pct/logs/connectome_manipulation_2023-06-23_16h30.log'  # DIFF = -2 (-0.00% rel. to wiring target) => ACTUAL REWIRING RUN\n",
    "\n",
    "# 4th-order rewiring\n",
    "# main_log_file = '/gpfs/bbp.cscs.ch/project/proj9/bisimplices/circuits/O1v5-SONATA__ConnRewireOrder4mc2EE100pct__calib-0__/logs/connectome_manipulation_2023-06-28_16h28.log'  # DIFF = -156426.0 (-2.33% rel. to wiring target)\n",
    "# main_log_file = '/gpfs/bbp.cscs.ch/project/proj9/bisimplices/circuits/O1v5-SONATA__ConnRewireOrder4mc2EE100pct__calib-1__/logs/connectome_manipulation_2023-06-28_16h51.log'  # DIFF = -33.0 (-0.00% rel. to wiring target)\n",
    "# main_log_file = '/gpfs/bbp.cscs.ch/project/proj9/bisimplices/circuits/O1v5-SONATA__ConnRewireOrder4mc2EE100pct__calib-2__/logs/connectome_manipulation_2023-06-28_16h58.log'  # DIFF = 0.0 (0.00% rel. to wiring target) => CONVERGED TO EXACT MATCH\n",
    "# p_scales = [1.0, 1.0238433369026343, 1.0000049129309534, 1.0]\n",
    "# p_scale_opt = np.prod(p_scales[:3]) = 1.0238483669742555\n",
    "# main_log_file = '/gpfs/bbp.cscs.ch/project/proj9/bisimplices/circuits/O1v5-SONATA__ConnRewireOrder4mc2EE100pct/logs/connectome_manipulation_2023-06-28_17h08.log'  # DIFF = 0 (0.00% rel. to wiring target) => ACTUAL REWIRING RUN\n",
    "\n",
    "# 5th-order rewiring\n",
    "# main_log_file = '/gpfs/bbp.cscs.ch/project/proj9/bisimplices/circuits/O1v5-SONATA__ConnRewireOrder5mc2EE100pct__calib-0__/logs/connectome_manipulation_2023-06-28_17h10.log'  # DIFF = -272608.0 (-4.06% rel. to wiring target)\n",
    "# main_log_file = '/gpfs/bbp.cscs.ch/project/proj9/bisimplices/circuits/O1v5-SONATA__ConnRewireOrder5mc2EE100pct__calib-1__/logs/connectome_manipulation_2023-06-28_17h16.log'  # DIFF = -22.0 (-0.00% rel. to wiring target)\n",
    "# main_log_file = '/gpfs/bbp.cscs.ch/project/proj9/bisimplices/circuits/O1v5-SONATA__ConnRewireOrder5mc2EE100pct__calib-2__/logs/connectome_manipulation_2023-06-28_17h22.log'  # DIFF = -5.0 (-0.00% rel. to wiring target)\n",
    "# main_log_file = '/gpfs/bbp.cscs.ch/project/proj9/bisimplices/circuits/O1v5-SONATA__ConnRewireOrder5mc2EE100pct__calib-3__/logs/connectome_manipulation_2023-06-28_17h30.log'  # DIFF = -1.0 (-0.00% rel. to wiring target)\n",
    "# main_log_file = '/gpfs/bbp.cscs.ch/project/proj9/bisimplices/circuits/O1v5-SONATA__ConnRewireOrder5mc2EE100pct__calib-4__/logs/connectome_manipulation_2023-06-28_17h45.log'  # DIFF = 0.0 (0.00% rel. to wiring target) => CONVERGED TO EXACT MATCH\n",
    "# p_scales = [1.0, 1.0423015790626053, 1.0000032752819386, 1.000000744380375, 1.0000001488759862, 1.0]\n",
    "# p_scale_opt = np.prod(p_scales[:5]) = 1.0423059239398222\n",
    "main_log_file = '/gpfs/bbp.cscs.ch/project/proj9/bisimplices/circuits/O1v5-SONATA__ConnRewireOrder5mc2EE100pct/logs/connectome_manipulation_2023-06-28_17h59.log'  # DIFF = 0 (0.00% rel. to wiring target) => ACTUAL REWIRING RUN\n",
    "alt_date = '2023-06-28_18h00'  # Alternative date/time, since mismatch (~1s) between time stamps of main log file and data logs possible!! [NEEDS TO BE FIXED IN LOGGING MODULE]\n",
    "\n",
    "log_path, log_fn = os.path.split(main_log_file)  # Main log path/filename\n",
    "log_date = os.path.splitext(log_fn)[0].split('connectome_manipulation_')[1]\n",
    "\n",
    "log_folders = [os.path.join(log_path, d) for d in os.listdir(log_path) if os.path.isdir(os.path.join(log_path, d))]\n",
    "# data_log_fns = [f'connectome_manipulation.task-{i}_{log_date}.{log_type}Stats_{i + 1}_{N_split}.npz' for i in range(N_split)]\n",
    "if log_type == 'Rewiring':  # In rewiring run, an ..Indices.. data log must always exist for all splits (so we can check for missing splits)\n",
    "    data_log_splits = [f'{log_date}.{log_type}Indices_{i + 1}_{N_split}.npz' for i in range(N_split)]\n",
    "else:  # ... whereas in estimation run, a ..Stats.. data log must always exist for all splits (so we can check for missing splits)\n",
    "    data_log_splits = [f'{log_date}.{log_type}Stats_{i + 1}_{N_split}.npz' for i in range(N_split)]\n",
    "\n",
    "if alt_date is not None:\n",
    "    data_log_splits_alt = [dlog.replace(log_date, alt_date) for dlog in data_log_splits]\n",
    "else:\n",
    "    data_log_splits_alt = [None] * len(data_log_splits)\n",
    "\n",
    "conn_count_orig_all = 0 # Overall input connection count\n",
    "conn_count_pred_all = 0 # Overall output connection count after rewiring (average prediction)\n",
    "conn_count_actu_all = 0 # Overall output connection count after rewiring (actual value)\n",
    "conn_count_orig_sel = 0 # Input connection count within selected rewiring target\n",
    "conn_count_pred_sel = 0 # Output connection count within selected rewiring target after rewiring (average prediction)\n",
    "conn_count_actu_sel = 0 # Output connection count within selected rewiring target after rewiring (actual value)\n",
    "diff_from_avg = []\n",
    "split_count = 0\n",
    "for split_name, alt_name in tqdm.tqdm(zip(data_log_splits, data_log_splits_alt), desc=\"Collecting log files\"):\n",
    "    # Search for log file in all log folders\n",
    "    folder_name = None\n",
    "    file_name = None\n",
    "    for sp_nm in [split_name, alt_name]:\n",
    "        if sp_nm is None:\n",
    "            break\n",
    "        for fld in log_folders:\n",
    "            tmp_name = [fn for fn in os.listdir(fld) if sp_nm in fn]\n",
    "            assert len(tmp_name) <= 1, 'ERROR: Multiple files found in current folder!'\n",
    "            if len(tmp_name) == 1:  # Match\n",
    "                assert folder_name is None, 'ERROR: Folder not unique!'\n",
    "                assert file_name is None, 'ERROR: File not unique!'\n",
    "                folder_name = fld\n",
    "                file_name = tmp_name[0]\n",
    "        if folder_name is not None and file_name is not None:\n",
    "            break\n",
    "    assert folder_name is not None and file_name is not None, f'ERROR: Log file ..{split_name} {\"\" if alt_date is None else \"(or alternative)\"} not found!'\n",
    "\n",
    "    # Read log file\n",
    "    file_name = file_name.replace(\"Indices\", \"Stats\")  # In any case, the data log to load is the ..Stats.. one, if existing\n",
    "    dlog = os.path.join(folder_name, file_name)\n",
    "    if not os.path.exists(dlog):\n",
    "        continue\n",
    "    split_count += 1\n",
    "    stats_dict = np.load(dlog)\n",
    "    conn_count_orig_sel += np.sum(stats_dict['input_conn_count_sel'])\n",
    "    conn_count_pred_sel += np.sum(stats_dict['output_conn_count_sel_avg'])\n",
    "    conn_count_orig_all += np.sum(stats_dict.get('input_conn_count', 0))\n",
    "    conn_count_pred_all += np.sum(stats_dict['output_conn_count_sel_avg']) + np.sum(stats_dict.get('input_conn_count', 0)) - np.sum(stats_dict['input_conn_count_sel'])\n",
    "    if log_type == 'Rewiring':\n",
    "        conn_count_actu_sel += np.sum(stats_dict['output_conn_count_sel'])\n",
    "        assert stats_dict['output_conn_count'] == np.sum(stats_dict['output_conn_count_sel']) + np.sum(stats_dict['input_conn_count']) - np.sum(stats_dict['input_conn_count_sel'])\n",
    "        conn_count_actu_all += stats_dict['output_conn_count']\n",
    "        diff_from_avg += list(stats_dict['output_conn_count_sel'] - stats_dict['output_conn_count_sel_avg'])\n",
    "\n",
    "print(f'Non-empty splits: {split_count}/{N_split}\\n')\n",
    "\n",
    "if log_type == 'Rewiring':\n",
    "    print('<ACTUAL REWIRED INSTANCE>')\n",
    "    print(f'Overall: #Conns_orig = {conn_count_orig_all}, #Conns_rewired = {conn_count_actu_all}, DIFF = {conn_count_actu_all - conn_count_orig_all} ({100.0 * (conn_count_actu_all - conn_count_orig_all) / conn_count_orig_all:.2f}%)')\n",
    "    print(f'Within wiring target: #Conns_orig = {conn_count_orig_sel}, #Conns_rewired = {conn_count_actu_sel}, DIFF = {conn_count_actu_sel - conn_count_orig_sel} ({100.0 * (conn_count_actu_sel - conn_count_orig_sel) / conn_count_orig_sel:.2f}%)')\n",
    "    print(f'Deviation from average prediction of ingoing #conns of {len(diff_from_avg)} post-neurons: MIN = {np.min(diff_from_avg)}, MAX = {np.max(diff_from_avg)}, #MISMATCH = {np.sum(np.array(diff_from_avg) != 0)}, OVERALL #Conn DIFF = {np.sum(diff_from_avg)}')\n",
    "    print()\n",
    "\n",
    "p_scale = conn_count_orig_sel / conn_count_pred_sel\n",
    "print('<AVERAGE PREDICTION>')\n",
    "print(f'Overall: #Conns_orig = {conn_count_orig_all}, #Conns_predicted = {conn_count_pred_all}, DIFF = {conn_count_pred_all - conn_count_orig_all} ({100.0 * (conn_count_pred_all - conn_count_orig_all) / conn_count_orig_all:.2f}%)')\n",
    "print(f'Within wiring target: #Conns_orig = {conn_count_orig_sel}, #Conns_predicted = {conn_count_pred_sel}, DIFF = {conn_count_pred_sel - conn_count_orig_sel} ({100.0 * (conn_count_pred_sel - conn_count_orig_sel) / conn_count_orig_sel:.2f}%)')\n",
    "print(f'Probability scaling p_scale = {conn_count_orig_sel} / {conn_count_pred_sel} = {p_scale}')"
   ]
  },
  {
   "cell_type": "code",
   "execution_count": null,
   "metadata": {},
   "outputs": [],
   "source": []
  },
  {
   "cell_type": "code",
   "execution_count": null,
   "metadata": {},
   "outputs": [],
   "source": []
  },
  {
   "cell_type": "code",
   "execution_count": null,
   "metadata": {},
   "outputs": [],
   "source": []
  },
  {
   "cell_type": "markdown",
   "metadata": {},
   "source": [
    "---\n",
    "## Tools for post-processing"
   ]
  },
  {
   "cell_type": "markdown",
   "metadata": {},
   "source": [
    "### Create BlueConfig"
   ]
  },
  {
   "cell_type": "code",
   "execution_count": null,
   "metadata": {},
   "outputs": [],
   "source": [
    "# TODO"
   ]
  },
  {
   "cell_type": "code",
   "execution_count": null,
   "metadata": {},
   "outputs": [],
   "source": []
  },
  {
   "cell_type": "markdown",
   "metadata": {},
   "source": [
    "### Create bbp-workflow config"
   ]
  },
  {
   "cell_type": "code",
   "execution_count": 15,
   "metadata": {},
   "outputs": [],
   "source": [
    "# TODO"
   ]
  },
  {
   "cell_type": "code",
   "execution_count": null,
   "metadata": {},
   "outputs": [],
   "source": []
  },
  {
   "cell_type": "markdown",
   "metadata": {},
   "source": [
    "---"
   ]
  },
  {
   "cell_type": "code",
   "execution_count": 1,
   "metadata": {},
   "outputs": [],
   "source": [
    "# NEEDS TO BE FIXED:\n",
    "# -Missing \"components\" section in generated SONATA config (absoulte paths!!) => So far, added manually"
   ]
  },
  {
   "cell_type": "code",
   "execution_count": null,
   "metadata": {},
   "outputs": [],
   "source": []
  }
 ],
 "metadata": {
  "kernelspec": {
   "display_name": "ReWiringKernel",
   "language": "python",
   "name": "rewiringkernel"
  },
  "language_info": {
   "codemirror_mode": {
    "name": "ipython",
    "version": 3
   },
   "file_extension": ".py",
   "mimetype": "text/x-python",
   "name": "python",
   "nbconvert_exporter": "python",
   "pygments_lexer": "ipython3",
   "version": "3.10.8"
  }
 },
 "nbformat": 4,
 "nbformat_minor": 4
}
