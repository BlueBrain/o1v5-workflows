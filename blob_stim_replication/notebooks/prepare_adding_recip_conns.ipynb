{
 "cells": [
  {
   "cell_type": "markdown",
   "metadata": {},
   "source": [
    "# O1v5-SONATA connectome manipulation preparation to add reciprocal connections\n",
    "This is an auxiliary notebook for configuring model building and rewiring, which...\n",
    " - creates connectivity models from adjacency matrices containing additional reciprocal connections\n",
    " - sets up rewiring using these connectivity models to add reciprocal connections to the original connectome\n",
    "\n",
    "<u>Requirements</u>: [connectome-manipulator](https://bbpgitlab.epfl.ch/conn/structural/connectome_manipulator) package (v0.0.10.dev1 or later)\n",
    "\n",
    "ℹ️ Related ticket: [[ACCS-62](https://bbpteam.epfl.ch/project/issues/browse/ACCS-62)] \"Adding reciprocal connections to V5 connectome\"\n"
   ]
  },
  {
   "cell_type": "code",
   "execution_count": 1,
   "metadata": {},
   "outputs": [],
   "source": [
    "# Initialization\n",
    "import json\n",
    "import os\n",
    "import matplotlib.pyplot as plt\n",
    "import numpy as np\n",
    "import pickle\n",
    "import tqdm\n",
    "from bluepysnap import Circuit\n",
    "from connectome_manipulator.model_building import conn_prob_adj\n",
    "from scipy import sparse as sps"
   ]
  },
  {
   "cell_type": "code",
   "execution_count": null,
   "metadata": {},
   "outputs": [],
   "source": []
  },
  {
   "cell_type": "markdown",
   "metadata": {},
   "source": [
    "__Load and check adjacency matrix with connections to be added__"
   ]
  },
  {
   "cell_type": "code",
   "execution_count": 47,
   "metadata": {},
   "outputs": [],
   "source": [
    "# Specify adjacency matrices for adding connections\n",
    "adj_seed = 0  # Random seed\n",
    "adj_factor = 4  # Increase factor of RC's per dimension\n",
    "adj_path = \"/gpfs/bbp.cscs.ch/project/proj102/egas/reliability/data\"\n",
    "\n",
    "## Structured\n",
    "adj_file = os.path.join(adj_path, \"mats_rc_on_simplices.pkl\")\n",
    "adj_name = f\"struct{adj_seed}_{adj_factor}x\"\n",
    "check_rc = True  # Check that added connections are reciprocal\n",
    "\n",
    "## Control\n",
    "# adj_file = os.path.join(adj_path, \"mats_rc_on_simplices_controls.pkl\")\n",
    "# adj_name = f\"control{adj_seed}_{adj_factor}x\"\n",
    "# check_rc = False  # Don't check that added connections are reciprocal\n",
    "\n",
    "# Specify original adjacency (for checks)\n",
    "orig_file = os.path.join(adj_path, \"mats_rc_on_simplices.pkl\")\n",
    "orig_key = \"original\""
   ]
  },
  {
   "cell_type": "code",
   "execution_count": 48,
   "metadata": {},
   "outputs": [
    {
     "name": "stdout",
     "output_type": "stream",
     "text": [
      "Loaded \"original\" adjacency matrix with 6717001 edges\n",
      "Loaded \"struct0_4x\" adjacency matrix with 7384380 edges\n"
     ]
    }
   ],
   "source": [
    "# Load original & structured/control adjacency matrices\n",
    "with open(orig_file, \"rb\") as f:\n",
    "    tmp_dict = pickle.load(f)\n",
    "orig_adj = tmp_dict[orig_key]\n",
    "print(f'Loaded \"{orig_key}\" adjacency matrix with {orig_adj.count_nonzero()} edges')\n",
    "\n",
    "with open(adj_file, \"rb\") as f:\n",
    "    tmp_dict = pickle.load(f)\n",
    "adj = tmp_dict[f\"modified_{adj_factor}\"][adj_seed]\n",
    "print(f'Loaded \"{adj_name}\" adjacency matrix with {adj.count_nonzero()} edges')"
   ]
  },
  {
   "cell_type": "code",
   "execution_count": 49,
   "metadata": {},
   "outputs": [],
   "source": [
    "# Load circuit & node ids corresponding to adjacency matrix\n",
    "circuit_path = '/gpfs/bbp.cscs.ch/project/proj9/bisimplices/circuits/O1v5-SONATA'\n",
    "circuit_name = os.path.split(circuit_path)[-1]\n",
    "circuit_config = os.path.join(circuit_path, 'sonata', 'circuit_config_tmp.json') # SONATA config (.json)  # TEMP edges file with afferent_center_x/y/z properties preliminarily added w/o validation, see [NSETM-1222]\n",
    "\n",
    "c = Circuit(circuit_config)\n",
    "nodes = c.nodes[\"default\"]\n",
    "edges = c.edges[\"default\"]\n",
    "\n",
    "mc2_nodeset = \"mc2_Column\"\n",
    "syn_sel = \"EXC\"\n",
    "nids = np.intersect1d(nodes.ids(mc2_nodeset), nodes.ids({\"synapse_class\": syn_sel}))\n",
    "\n",
    "assert adj.shape[0] == adj.shape[1] == len(nids), \"ERROR: Nodes inconsistent with size of adjacency matrix!\"\n",
    "assert orig_adj.shape[0] == orig_adj.shape[1] == len(nids), \"ERROR: Nodes inconsistent with size of original adjacency matrix!\""
   ]
  },
  {
   "cell_type": "code",
   "execution_count": null,
   "metadata": {},
   "outputs": [],
   "source": []
  },
  {
   "cell_type": "code",
   "execution_count": 50,
   "metadata": {},
   "outputs": [],
   "source": [
    "# Consistency check with original O1v5 adjacency matrices\n",
    "\n",
    "## From structural comparator\n",
    "with open(\"/gpfs/bbp.cscs.ch/project/proj9/bisimplices/pokorny/simplified_connectome_models/struct_comparison/O1v5-SONATA/data/Orig_Adjacency_mc2EE.pickle\", \"rb\") as f:\n",
    "    tmp_dict = pickle.load(f)\n",
    "tmp_adj = tmp_dict[\"adj\"][\"data\"]\n",
    "assert np.array_equal(orig_adj.toarray(), tmp_adj.toarray()), \"ERROR: Adjacency mismatch (structural comparator)!\"\n",
    "\n",
    "## From baseline sims\n",
    "tmp_adj = sps.load_npz(\"/gpfs/bbp.cscs.ch/data/scratch/proj9/bisimplices/simulations/BlobStimReliability_O1v5-SONATA_Baseline/working_dir/connectivity.npz\")\n",
    "tmp_sel = np.isin(nodes.ids(mc2_nodeset), nids)\n",
    "tmp_adj = tmp_adj[:, tmp_sel][tmp_sel, :]\n",
    "assert np.array_equal(orig_adj.toarray(), tmp_adj.toarray()), \"ERROR: Adjacency mismatch (baseline sims)!\"\n",
    "\n",
    "## From toposample paper (zenodo)\n",
    "# tmp_adj = sps.load_npz(\"/gpfs/bbp.cscs.ch/project/proj83/home/pokorny/PLOS_ONE_Toposample_Paper/zenodo/input_data/connectivity.npz\")\n",
    "# tmp_sel = np.isin(nodes.ids(mc2_nodeset), nids)\n",
    "# tmp_adj = tmp_adj[:, tmp_sel][tmp_sel, :]\n",
    "# assert np.array_equal(orig_adj.toarray(), tmp_adj.toarray()), \"ERROR: Adjacency mismatch (toposample)!\"\n",
    "# IGNORE: Adjacency has 6717002 edges for some reason; one additional edge is at index tmp_adj[26566, 1141]\n",
    "\n",
    "## Also directly checked with bluepy (old v5 version), bluepysnap (SONATA version), and conntility (SONATA version): 6717001 edges"
   ]
  },
  {
   "cell_type": "code",
   "execution_count": 51,
   "metadata": {},
   "outputs": [
    {
     "name": "stdout",
     "output_type": "stream",
     "text": [
      "Connections to be added in \"struct0_4x\": 667379\n",
      "Checked reciprocity ... OK\n"
     ]
    }
   ],
   "source": [
    "# Check edges to be added\n",
    "assert np.all(adj[orig_adj.nonzero()]), \"ERROR: Connections inconsistent with original adjacency matrix!\"\n",
    "diff_mat = adj - orig_adj\n",
    "num_add = diff_mat.size\n",
    "print(f'Connections to be added in \"{adj_name}\": {num_add}')\n",
    "\n",
    "# Check reciprocity\n",
    "if check_rc:\n",
    "    assert not np.any(orig_adj[diff_mat.nonzero()]), \"ERROR: Edges to be added already exist!\"\n",
    "    assert np.all(orig_adj.T[diff_mat.nonzero()]), \"ERROR: Edges to be added are not reciprocal!\"\n",
    "    print(\"Checked reciprocity ... OK\")"
   ]
  },
  {
   "cell_type": "code",
   "execution_count": null,
   "metadata": {},
   "outputs": [],
   "source": []
  },
  {
   "cell_type": "markdown",
   "metadata": {},
   "source": [
    "__Create and save adjacency model for rewiring__"
   ]
  },
  {
   "cell_type": "code",
   "execution_count": 52,
   "metadata": {},
   "outputs": [],
   "source": [
    "adj_model_path = f\"/gpfs/bbp.cscs.ch/project/proj9/bisimplices/pokorny/reciprocal_addition/model_building/{circuit_name}/model\"\n",
    "if not os.path.exists(adj_model_path):\n",
    "    os.makedirs(adj_model_path)"
   ]
  },
  {
   "cell_type": "code",
   "execution_count": 53,
   "metadata": {},
   "outputs": [
    {
     "name": "stdout",
     "output_type": "stream",
     "text": [
      "ConnProbAdjModel\n",
      "  <26567x26567 sparse matrix of type '<class 'numpy.bool_'>'\n",
      "\twith 7384380 stored elements in Compressed Sparse Column format>\n",
      "Model saved to \"/gpfs/bbp.cscs.ch/project/proj9/bisimplices/pokorny/reciprocal_addition/model_building/O1v5-SONATA/model/ConnProbAdjModel_mc2EE_struct0_4x.json\"\n"
     ]
    }
   ],
   "source": [
    "adj_model = conn_prob_adj.build(adj.tocsc(), nids, nids)\n",
    "adj_model_name = f\"ConnProbAdjModel_mc2EE_{adj_name}\"\n",
    "adj_model.save_model(adj_model_path, adj_model_name)\n",
    "print(adj_model)\n",
    "adj_model_file = os.path.join(adj_model_path, adj_model_name + \".json\")\n",
    "assert os.path.exists(adj_model_file), f'ERROR: Model file \"{adj_model_file}\" not saved!'\n",
    "print(f'Model saved to \"{adj_model_file}\"')"
   ]
  },
  {
   "cell_type": "code",
   "execution_count": null,
   "metadata": {},
   "outputs": [],
   "source": []
  },
  {
   "cell_type": "markdown",
   "metadata": {},
   "source": [
    "__Re-extract ConnPropsModel__\n",
    "\n",
    "- Model format from \"simplified connectome models\" is outdated\n",
    "- Using model building config from \"simplified connectome models\" with slight modifications to re-run model building"
   ]
  },
  {
   "cell_type": "markdown",
   "metadata": {},
   "source": [
    "Launch command:\n",
    "\n",
    "`cd /gpfs/bbp.cscs.ch/project/proj9/bisimplices/pokorny/reciprocal_addition/configs`\n",
    "\n",
    "`sbatch run_model_building.sh model_config__ConnPropsPerPathwayO1v5mc2EE.json --force-reextract --force-rebuild`"
   ]
  },
  {
   "cell_type": "code",
   "execution_count": null,
   "metadata": {},
   "outputs": [],
   "source": []
  },
  {
   "cell_type": "markdown",
   "metadata": {},
   "source": [
    "__Create rewiring config & launch rewiring__"
   ]
  },
  {
   "cell_type": "code",
   "execution_count": 54,
   "metadata": {},
   "outputs": [],
   "source": [
    "output_base_path = '/gpfs/bbp.cscs.ch/project/proj9/bisimplices/circuits'\n",
    "config_paths = ['../configs', '/gpfs/bbp.cscs.ch/project/proj9/bisimplices/pokorny/reciprocal_addition/configs']  # Write to local and proj9 folder"
   ]
  },
  {
   "cell_type": "code",
   "execution_count": 55,
   "metadata": {},
   "outputs": [],
   "source": [
    "def default_manip_config(circuit_config, seed=3210, N_split=None):\n",
    "    \"\"\"Generates a default manipulation config dict w/o any specific manipulation.\"\"\"\n",
    "    manip_config = {}\n",
    "    manip_config['circuit_config'] = circuit_config\n",
    "    manip_config['seed'] = seed\n",
    "    if N_split is not None:\n",
    "        manip_config['N_split_nodes'] = N_split\n",
    "    return manip_config\n",
    "\n",
    "def add_manip_to_config(manip_config, name, prob_model_file, delay_model_file, props_model_file):\n",
    "    \"\"\"Adds a 'ConnAddRC' rewiring operation to the (v4) manipulation config dict (in-place).\"\"\"\n",
    "    assert 'manip' not in manip_config, \"ERROR: Manipulation operation already specified!\"\n",
    "    manip_config['manip'] = {'name': f'ConnAddRC_mc2EE_{name}',\n",
    "                             'fcts': [{'source': 'conn_rewiring',\n",
    "                                       'sel_src': {'hypercolumn': 2, 'synapse_class': 'EXC'},\n",
    "                                       'sel_dest': {'hypercolumn': 2, 'synapse_class': 'EXC'},\n",
    "                                       'syn_class': 'EXC',\n",
    "                                       'keep_indegree': False,\n",
    "                                       'reuse_conns': False,\n",
    "                                       'keep_conns': True,\n",
    "                                       'reuse_pos': True,\n",
    "                                       'rewire_mode': 'add_only',\n",
    "                                       'gen_method': 'randomize',\n",
    "                                       'amount_pct': 100.0,\n",
    "                                       'model_config': {'prob_model_spec': {'file': prob_model_file},\n",
    "                                                        'delay_model_spec': {'file': delay_model_file},\n",
    "                                                        'props_model_spec': {'file': props_model_file}}}]}\n",
    "\n",
    "def export_manip_config(manip_config, config_path, print_cmd=False, circuit_name=None, output_base_path=None, N_parallel=None):\n",
    "    \"\"\"Writes manipulation config to .json config file(s).\"\"\"\n",
    "    if not isinstance(config_path, list):\n",
    "        config_path = [config_path]\n",
    "\n",
    "    fn = f'manip_config__{manip_config[\"manip\"][\"name\"]}.json'\n",
    "    for cpath in config_path:\n",
    "        with open(os.path.join(cpath, fn), 'w') as f:\n",
    "            json.dump(manip_config, f, indent=2)\n",
    "        print(f\"Config file {fn} written to {cpath}\")\n",
    "\n",
    "    if print_cmd:\n",
    "        assert circuit_name is not None and output_base_path is not None and N_parallel is not None, \\\n",
    "            \"ERROR: circuit_name/output_base_path/N_parallel required for printing launch command!\"\n",
    "        print()\n",
    "        output_dir = os.path.join(output_base_path, circuit_name + f'__{manip_config[\"manip\"][\"name\"]}')\n",
    "        print_launch_cmd(cpath, fn, output_dir, N_parallel)\n",
    "\n",
    "def print_launch_cmd(config_path, config_fn, output_dir, N_parallel):\n",
    "    run_cmd = f'sbatch run_rewiring_parallel.sh \"{config_fn}\" \"{output_dir}\" {N_parallel}'\n",
    "    print(f\"# LAUNCH COMMAND: [DON'T LAUNCH FROM WITHIN ANOTHER SLURM ALLOCATION!]\")\n",
    "    print(f\"cd {config_path}\")\n",
    "    print(run_cmd)\n"
   ]
  },
  {
   "cell_type": "code",
   "execution_count": null,
   "metadata": {},
   "outputs": [],
   "source": []
  },
  {
   "cell_type": "code",
   "execution_count": 56,
   "metadata": {},
   "outputs": [],
   "source": [
    "# Model locations (MC2 column models!!)\n",
    "delay_model_file = os.path.join('/gpfs/bbp.cscs.ch/project/proj9/bisimplices/pokorny/simplified_connectome_models/model_building', circuit_name, 'model', 'DistDepDelayO1v5mc2EE.json')\n",
    "props_model_file = os.path.join('/gpfs/bbp.cscs.ch/project/proj9/bisimplices/pokorny/reciprocal_addition/model_building', circuit_name, 'model', 'ConnPropsPerPathwayO1v5mc2EE.json')\n",
    "prob_model_file = adj_model_file"
   ]
  },
  {
   "cell_type": "code",
   "execution_count": 57,
   "metadata": {},
   "outputs": [
    {
     "name": "stdout",
     "output_type": "stream",
     "text": [
      "Config file manip_config__ConnAddRC_mc2EE_struct0_4x.json written to ../configs\n",
      "Config file manip_config__ConnAddRC_mc2EE_struct0_4x.json written to /gpfs/bbp.cscs.ch/project/proj9/bisimplices/pokorny/reciprocal_addition/configs\n",
      "\n",
      "# LAUNCH COMMAND: [DON'T LAUNCH FROM WITHIN ANOTHER SLURM ALLOCATION!]\n",
      "cd /gpfs/bbp.cscs.ch/project/proj9/bisimplices/pokorny/reciprocal_addition/configs\n",
      "sbatch run_rewiring_parallel.sh \"manip_config__ConnAddRC_mc2EE_struct0_4x.json\" \"/gpfs/bbp.cscs.ch/project/proj9/bisimplices/circuits/O1v5-SONATA__ConnAddRC_mc2EE_struct0_4x\" 500\n"
     ]
    }
   ],
   "source": [
    "manip_config = default_manip_config(circuit_config, seed=3210)\n",
    "add_manip_to_config(manip_config, adj_name, prob_model_file, delay_model_file, props_model_file)\n",
    "export_manip_config(manip_config, config_paths, print_cmd=True, circuit_name=circuit_name, output_base_path=output_base_path, N_parallel=500)"
   ]
  },
  {
   "cell_type": "code",
   "execution_count": null,
   "metadata": {},
   "outputs": [],
   "source": []
  },
  {
   "cell_type": "markdown",
   "metadata": {},
   "source": [
    "Launch commands:\n",
    "\n",
    "`cd /gpfs/bbp.cscs.ch/project/proj9/bisimplices/pokorny/reciprocal_addition/configs`\n",
    "\n",
    "`sbatch run_rewiring_parallel.sh \"manip_config__ConnAddRC_mc2EE_struct0_2x.json\" \"/gpfs/bbp.cscs.ch/project/proj9/bisimplices/circuits/O1v5-SONATA__ConnAddRC_mc2EE_struct0_2x\" 500`\n",
    "\n",
    "`sbatch run_rewiring_parallel.sh \"manip_config__ConnAddRC_mc2EE_struct0_4x.json\" \"/gpfs/bbp.cscs.ch/project/proj9/bisimplices/circuits/O1v5-SONATA__ConnAddRC_mc2EE_struct0_4x\" 500`\n",
    "\n",
    "`sbatch run_rewiring_parallel.sh \"manip_config__ConnAddRC_mc2EE_control0_2x.json\" \"/gpfs/bbp.cscs.ch/project/proj9/bisimplices/circuits/O1v5-SONATA__ConnAddRC_mc2EE_control0_2x\" 500`\n",
    "\n",
    "`sbatch run_rewiring_parallel.sh \"manip_config__ConnAddRC_mc2EE_control0_4x.json\" \"/gpfs/bbp.cscs.ch/project/proj9/bisimplices/circuits/O1v5-SONATA__ConnAddRC_mc2EE_control0_4x\" 500`\n"
   ]
  },
  {
   "cell_type": "code",
   "execution_count": null,
   "metadata": {},
   "outputs": [],
   "source": []
  },
  {
   "cell_type": "markdown",
   "metadata": {},
   "source": [
    "__Extract connection counts (from log files)__"
   ]
  },
  {
   "cell_type": "code",
   "execution_count": 3,
   "metadata": {},
   "outputs": [
    {
     "name": "stderr",
     "output_type": "stream",
     "text": [
      "Collecting log files: 100%|██████████| 500/500 [00:02<00:00, 247.25it/s]"
     ]
    },
    {
     "name": "stdout",
     "output_type": "stream",
     "text": [
      "Non-empty splits: 72/500\n",
      "Overall: #Conns_orig = 14138043, #Conns_rewired = 14366192, DIFF = 228149 (1.61%)\n",
      "Within wiring target: #Conns_orig = 6717001, #Conns_rewired = 6945150, DIFF = 228149 (3.40%)\n"
     ]
    },
    {
     "name": "stderr",
     "output_type": "stream",
     "text": [
      "\n"
     ]
    }
   ],
   "source": [
    "# Check connection/synapse counts\n",
    "N_split = 500\n",
    "# main_log_file = \"/gpfs/bbp.cscs.ch/project/proj9/bisimplices/circuits/O1v5-SONATA__ConnAddRC_mc2EE_struct0_4x/logs/connectome_manipulation_2023-11-17_16h00.log\"\n",
    "# main_log_file = \"/gpfs/bbp.cscs.ch/project/proj9/bisimplices/circuits/O1v5-SONATA__ConnAddRC_mc2EE_struct0_2x/logs/connectome_manipulation_2023-11-20_10h38.log\"\n",
    "# main_log_file = \"/gpfs/bbp.cscs.ch/project/proj9/bisimplices/circuits/O1v5-SONATA__ConnAddRC_mc2EE_control0_4x/logs/connectome_manipulation_2023-11-17_16h51.log\"\n",
    "main_log_file = \"/gpfs/bbp.cscs.ch/project/proj9/bisimplices/circuits/O1v5-SONATA__ConnAddRC_mc2EE_control0_2x/logs/connectome_manipulation_2023-11-20_10h39.log\"\n",
    "\n",
    "log_path, log_fn = os.path.split(main_log_file)  # Main log path/filename\n",
    "log_date = os.path.splitext(log_fn)[0].split('connectome_manipulation_')[1]\n",
    "\n",
    "log_folders = [os.path.join(log_path, d) for d in os.listdir(log_path) if os.path.isdir(os.path.join(log_path, d))]\n",
    "data_log_splits = [f'{log_date}.RewiringIndices_{i + 1}_{N_split}.npz' for i in range(N_split)]\n",
    "data_log_splits_alt = [None] * len(data_log_splits)  # Alternative names [not used here]\n",
    "\n",
    "conn_count_orig_all = 0 # Overall input connection count\n",
    "conn_count_actu_all = 0 # Overall output connection count after rewiring (actual value)\n",
    "conn_count_orig_sel = 0 # Input connection count within selected rewiring target\n",
    "conn_count_actu_sel = 0 # Output connection count within selected rewiring target after rewiring (actual value)\n",
    "split_count = 0\n",
    "for split_name, alt_name in tqdm.tqdm(zip(data_log_splits, data_log_splits_alt), desc=\"Collecting log files\", total=N_split):\n",
    "    # Search for log file in all log folders\n",
    "    folder_name = None\n",
    "    file_name = None\n",
    "    for sp_nm in [split_name, alt_name]:\n",
    "        if sp_nm is None:\n",
    "            break\n",
    "        for fld in log_folders:\n",
    "            tmp_name = [fn for fn in os.listdir(fld) if sp_nm in fn]\n",
    "            assert len(tmp_name) <= 1, 'ERROR: Multiple files found in current folder!'\n",
    "            if len(tmp_name) == 1:  # Match\n",
    "                assert folder_name is None, 'ERROR: Folder not unique!'\n",
    "                assert file_name is None, 'ERROR: File not unique!'\n",
    "                folder_name = fld\n",
    "                file_name = tmp_name[0]\n",
    "        if folder_name is not None and file_name is not None:\n",
    "            break\n",
    "    assert folder_name is not None and file_name is not None, f'ERROR: Log file ..{split_name} {\"\" if alt_date is None else \"(or alternative)\"} not found!'\n",
    "\n",
    "    # Read log file\n",
    "    file_name = file_name.replace(\"Indices\", \"Stats\")  # In any case, the data log to load is the ..Stats.. one, if existing\n",
    "    dlog = os.path.join(folder_name, file_name)\n",
    "    if not os.path.exists(dlog):\n",
    "        continue\n",
    "    split_count += 1\n",
    "    stats_dict = np.load(dlog)\n",
    "    conn_count_orig_sel += np.sum(stats_dict['input_conn_count_sel'])\n",
    "    conn_count_orig_all += np.sum(stats_dict.get('input_conn_count', 0))\n",
    "    conn_count_actu_sel += np.sum(stats_dict['output_conn_count_sel'])\n",
    "    assert stats_dict['output_conn_count'] == np.sum(stats_dict['output_conn_count_sel']) + np.sum(stats_dict['input_conn_count']) - np.sum(stats_dict['input_conn_count_sel'])\n",
    "    conn_count_actu_all += stats_dict['output_conn_count']\n",
    "\n",
    "print(f'Non-empty splits: {split_count}/{N_split}')\n",
    "print(f'Overall: #Conns_orig = {conn_count_orig_all}, #Conns_rewired = {conn_count_actu_all}, DIFF = {conn_count_actu_all - conn_count_orig_all} ({100.0 * (conn_count_actu_all - conn_count_orig_all) / conn_count_orig_all:.2f}%)')\n",
    "print(f'Within wiring target: #Conns_orig = {conn_count_orig_sel}, #Conns_rewired = {conn_count_actu_sel}, DIFF = {conn_count_actu_sel - conn_count_orig_sel} ({100.0 * (conn_count_actu_sel - conn_count_orig_sel) / conn_count_orig_sel:.2f}%)')"
   ]
  },
  {
   "cell_type": "code",
   "execution_count": null,
   "metadata": {},
   "outputs": [],
   "source": []
  },
  {
   "cell_type": "markdown",
   "metadata": {},
   "source": [
    "Rewiring statistics:\n",
    "\n",
    "- `mc2EE_struct0_2x`: Added 228149 connections, 751635 synapses\n",
    "- `mc2EE_struct0_4x`: Added 667379 connections, 2198050 synapses\n",
    "- `mc2EE_control0_2x`: Added 228149 connections, 686149 synapses\n",
    "- `mc2EE_control0_4x`: Added 667379 connections, 2008793 synapses"
   ]
  },
  {
   "cell_type": "code",
   "execution_count": null,
   "metadata": {},
   "outputs": [],
   "source": []
  },
  {
   "cell_type": "markdown",
   "metadata": {},
   "source": [
    "__Check connectomes__"
   ]
  },
  {
   "cell_type": "code",
   "execution_count": 2,
   "metadata": {},
   "outputs": [],
   "source": [
    "# Load circuit & node ids corresponding to adjacency matrix\n",
    "c = Circuit(\"/gpfs/bbp.cscs.ch/project/proj9/bisimplices/circuits/O1v5-SONATA/sonata/circuit_config_tmp.json\")\n",
    "nodes = c.nodes[\"default\"]\n",
    "mc2_nodeset = \"mc2_Column\"\n",
    "nids = np.intersect1d(nodes.ids(mc2_nodeset), nodes.ids({\"synapse_class\": \"EXC\"}))"
   ]
  },
  {
   "cell_type": "code",
   "execution_count": 13,
   "metadata": {},
   "outputs": [
    {
     "name": "stdout",
     "output_type": "stream",
     "text": [
      "CHECKING ['/gpfs/bbp.cscs.ch/project/proj102/egas/reliability/data/mats_rc_on_simplices.pkl', 4, 0]...OK\n",
      "CHECKING ['/gpfs/bbp.cscs.ch/project/proj102/egas/reliability/data/mats_rc_on_simplices_controls.pkl', 4, 0]...OK\n"
     ]
    }
   ],
   "source": [
    "# Adjacency list [<filename>, <blowup>, <seed>]\n",
    "adj_list = [# [\"/gpfs/bbp.cscs.ch/project/proj102/egas/reliability/data/mats_rc_on_simplices.pkl\", 2, 0],\n",
    "            [\"/gpfs/bbp.cscs.ch/project/proj102/egas/reliability/data/mats_rc_on_simplices.pkl\", 4, 0],\n",
    "            # [\"/gpfs/bbp.cscs.ch/project/proj102/egas/reliability/data/mats_rc_on_simplices_controls.pkl\", 2, 0],\n",
    "            [\"/gpfs/bbp.cscs.ch/project/proj102/egas/reliability/data/mats_rc_on_simplices_controls.pkl\", 4, 0]]\n",
    "ref_list = [# \"/gpfs/bbp.cscs.ch/data/scratch/proj9/bisimplices/simulations/BlobStimReliability_O1v5-SONATA_ConnAdd_RecipStruct0x2/working_dir/connectivity.npz\",\n",
    "            \"/gpfs/bbp.cscs.ch/data/scratch/proj9/bisimplices/simulations/BlobStimReliability_O1v5-SONATA_ConnAdd_RecipStruct0x4/working_dir/connectivity.npz\",\n",
    "            # \"/gpfs/bbp.cscs.ch/data/scratch/proj9/bisimplices/simulations/BlobStimReliability_O1v5-SONATA_ConnAdd_Control0x2/working_dir/connectivity.npz\",\n",
    "            \"/gpfs/bbp.cscs.ch/data/scratch/proj9/bisimplices/simulations/BlobStimReliability_O1v5-SONATA_ConnAdd_Control0x4/working_dir/connectivity.npz\"]\n",
    "\n",
    "for adj_file, ref_file in zip(adj_list, ref_list):\n",
    "    print(f\"CHECKING {adj_file}...\", end=\"\")\n",
    "    with open(adj_file[0], \"rb\") as f:\n",
    "        tmp_dict = pickle.load(f)\n",
    "    adj = tmp_dict[f\"modified_{adj_file[1]}\"][adj_file[2]]\n",
    "\n",
    "    tmp_adj = sps.load_npz(ref_file)\n",
    "    tmp_sel = np.isin(nodes.ids(mc2_nodeset), nids)\n",
    "    ref_adj = tmp_adj[:, tmp_sel][tmp_sel, :]\n",
    "\n",
    "    assert np.array_equal(adj.toarray(), ref_adj.toarray()), \"ERROR: Adjacency mismatch in!\"\n",
    "    print(\"OK\")"
   ]
  },
  {
   "cell_type": "code",
   "execution_count": null,
   "metadata": {},
   "outputs": [],
   "source": []
  }
 ],
 "metadata": {
  "kernelspec": {
   "display_name": "ReWiringKernel",
   "language": "python",
   "name": "rewiringkernel"
  },
  "language_info": {
   "codemirror_mode": {
    "name": "ipython",
    "version": 3
   },
   "file_extension": ".py",
   "mimetype": "text/x-python",
   "name": "python",
   "nbconvert_exporter": "python",
   "pygments_lexer": "ipython3",
   "version": "3.10.8"
  }
 },
 "nbformat": 4,
 "nbformat_minor": 4
}
