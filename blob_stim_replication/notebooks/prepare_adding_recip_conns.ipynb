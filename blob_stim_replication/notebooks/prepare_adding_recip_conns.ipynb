{
 "cells": [
  {
   "cell_type": "markdown",
   "metadata": {},
   "source": [
    "# O1v5-SONATA connectome manipulation preparation to add reciprocal connections\n",
    "This is an auxiliary notebook for configuring model building and rewiring, which...\n",
    " - creates connectivity models from adjacency matrices containing additional reciprocal connections\n",
    " - sets up rewiring using these connectivity models to add reciprocal connections to the original connectome\n",
    "\n",
    "<u>Requirements</u>: [connectome-manipulator](https://bbpgitlab.epfl.ch/conn/structural/connectome_manipulator) package (v0.0.10.dev1 or later)\n",
    "\n",
    "ℹ️ Related ticket: [[ACCS-62](https://bbpteam.epfl.ch/project/issues/browse/ACCS-62)] \"Adding reciprocal connections to V5 connectome\"\n"
   ]
  },
  {
   "cell_type": "code",
   "execution_count": 1,
   "metadata": {},
   "outputs": [],
   "source": [
    "# Initialization\n",
    "import json\n",
    "import os\n",
    "import matplotlib.pyplot as plt\n",
    "import numpy as np\n",
    "import pickle\n",
    "from bluepysnap import Circuit\n",
    "from connectome_manipulator.model_building import conn_prob_adj\n",
    "from scipy import sparse as sps"
   ]
  },
  {
   "cell_type": "code",
   "execution_count": null,
   "metadata": {},
   "outputs": [],
   "source": []
  },
  {
   "cell_type": "markdown",
   "metadata": {},
   "source": [
    "Load and check adjacency matrix with connections to be added"
   ]
  },
  {
   "cell_type": "code",
   "execution_count": 36,
   "metadata": {},
   "outputs": [],
   "source": [
    "# Specify adjacency matrices for adding connections\n",
    "adj_seed = 0  # Random seed\n",
    "adj_factor = 4  # Increase factor of RC's per dimension\n",
    "adj_path = \"/gpfs/bbp.cscs.ch/project/proj102/egas/reliability/data\"\n",
    "\n",
    "## Structured\n",
    "# adj_file = os.path.join(adj_path, \"mats_rc_on_simplices.pkl\")\n",
    "# adj_name = f\"struct{adj_seed}_{adj_factor}x\"\n",
    "# check_rc = True  # Check that added connections are reciprocal\n",
    "\n",
    "## Control\n",
    "adj_file = os.path.join(adj_path, \"mats_rc_on_simplices_controls.pkl\")\n",
    "adj_name = f\"control{adj_seed}_{adj_factor}x\"\n",
    "check_rc = False  # Don't check that added connections are reciprocal\n",
    "\n",
    "# Specify original adjacency (for checks)\n",
    "orig_file = os.path.join(adj_path, \"mats_rc_on_simplices.pkl\")\n",
    "orig_key = \"original\""
   ]
  },
  {
   "cell_type": "code",
   "execution_count": 37,
   "metadata": {},
   "outputs": [
    {
     "name": "stdout",
     "output_type": "stream",
     "text": [
      "Loaded \"original\" adjacency matrix with 6717001 edges\n",
      "Loaded \"control0_4x\" adjacency matrix with 7384380 edges\n"
     ]
    }
   ],
   "source": [
    "# Load original & structured/control adjacency matrices\n",
    "with open(orig_file, \"rb\") as f:\n",
    "    tmp_dict = pickle.load(f)\n",
    "orig_adj = tmp_dict[orig_key]\n",
    "print(f'Loaded \"{orig_key}\" adjacency matrix with {orig_adj.count_nonzero()} edges')\n",
    "\n",
    "with open(adj_file, \"rb\") as f:\n",
    "    tmp_dict = pickle.load(f)\n",
    "adj = tmp_dict[f\"modified_{adj_factor}\"][adj_seed]\n",
    "print(f'Loaded \"{adj_name}\" adjacency matrix with {adj.count_nonzero()} edges')"
   ]
  },
  {
   "cell_type": "code",
   "execution_count": 38,
   "metadata": {},
   "outputs": [],
   "source": [
    "# Load circuit & node ids corresponding to adjacency matrix\n",
    "circuit_path = '/gpfs/bbp.cscs.ch/project/proj9/bisimplices/circuits/O1v5-SONATA'\n",
    "circuit_name = os.path.split(circuit_path)[-1]\n",
    "circuit_config = os.path.join(circuit_path, 'sonata', 'circuit_config_tmp.json') # SONATA config (.json)  # TEMP edges file with afferent_center_x/y/z properties preliminarily added w/o validation, see [NSETM-1222]\n",
    "\n",
    "c = Circuit(circuit_config)\n",
    "nodes = c.nodes[\"default\"]\n",
    "edges = c.edges[\"default\"]\n",
    "\n",
    "mc2_nodeset = \"mc2_Column\"\n",
    "syn_sel = \"EXC\"\n",
    "nids = np.intersect1d(nodes.ids(mc2_nodeset), nodes.ids({\"synapse_class\": syn_sel}))\n",
    "\n",
    "assert adj.shape[0] == adj.shape[1] == len(nids), \"ERROR: Nodes inconsistent with size of adjacency matrix!\"\n",
    "assert orig_adj.shape[0] == orig_adj.shape[1] == len(nids), \"ERROR: Nodes inconsistent with size of original adjacency matrix!\""
   ]
  },
  {
   "cell_type": "code",
   "execution_count": null,
   "metadata": {},
   "outputs": [],
   "source": []
  },
  {
   "cell_type": "code",
   "execution_count": 39,
   "metadata": {},
   "outputs": [],
   "source": [
    "# Consistency check with original O1v5 adjacency matrices\n",
    "\n",
    "## From structural comparator\n",
    "with open(\"/gpfs/bbp.cscs.ch/project/proj9/bisimplices/pokorny/simplified_connectome_models/struct_comparison/O1v5-SONATA/data/Orig_Adjacency_mc2EE.pickle\", \"rb\") as f:\n",
    "    tmp_dict = pickle.load(f)\n",
    "tmp_adj = tmp_dict[\"adj\"][\"data\"]\n",
    "assert np.array_equal(orig_adj.toarray(), tmp_adj.toarray()), \"ERROR: Adjacency mismatch (structural comparator)!\"\n",
    "\n",
    "## From baseline sims\n",
    "tmp_adj = sps.load_npz(\"/gpfs/bbp.cscs.ch/data/scratch/proj9/bisimplices/simulations/BlobStimReliability_O1v5-SONATA_Baseline/working_dir/connectivity.npz\")\n",
    "tmp_sel = np.isin(nodes.ids(mc2_nodeset), nids)\n",
    "tmp_adj = tmp_adj[:, tmp_sel][tmp_sel, :]\n",
    "assert np.array_equal(orig_adj.toarray(), tmp_adj.toarray()), \"ERROR: Adjacency mismatch (baseline sims)!\"\n",
    "\n",
    "## From toposample paper (zenodo)\n",
    "# tmp_adj = sps.load_npz(\"/gpfs/bbp.cscs.ch/project/proj83/home/pokorny/PLOS_ONE_Toposample_Paper/zenodo/input_data/connectivity.npz\")\n",
    "# tmp_sel = np.isin(nodes.ids(mc2_nodeset), nids)\n",
    "# tmp_adj = tmp_adj[:, tmp_sel][tmp_sel, :]\n",
    "# assert np.array_equal(orig_adj.toarray(), tmp_adj.toarray()), \"ERROR: Adjacency mismatch (toposample)!\"\n",
    "# IGNORE: Adjacency has 6717002 edges for some reason; one additional edge is at index tmp_adj[26566, 1141]\n",
    "\n",
    "## Also directly checked with bluepy (old v5 version), bluepysnap (SONATA version), and conntility (SONATA version): 6717001 edges"
   ]
  },
  {
   "cell_type": "code",
   "execution_count": 40,
   "metadata": {},
   "outputs": [
    {
     "name": "stdout",
     "output_type": "stream",
     "text": [
      "Connections to be added in \"control0_4x\": 667379\n"
     ]
    }
   ],
   "source": [
    "# Check edges to be added\n",
    "assert np.all(adj[orig_adj.nonzero()]), \"ERROR: Connections inconsistent with original adjacency matrix!\"\n",
    "diff_mat = adj - orig_adj\n",
    "num_add = diff_mat.size\n",
    "print(f'Connections to be added in \"{adj_name}\": {num_add}')\n",
    "\n",
    "# Check reciprocity\n",
    "if check_rc:\n",
    "    assert not np.any(orig_adj[diff_mat.nonzero()]), \"ERROR: Edges to be added already exist!\"\n",
    "    assert np.all(orig_adj.T[diff_mat.nonzero()]), \"ERROR: Edges to be added are not reciprocal!\"\n",
    "    print(\"Checked reciprocity ... OK\")"
   ]
  },
  {
   "cell_type": "code",
   "execution_count": null,
   "metadata": {},
   "outputs": [],
   "source": []
  },
  {
   "cell_type": "markdown",
   "metadata": {},
   "source": [
    "Create and save adjacency model for rewiring"
   ]
  },
  {
   "cell_type": "code",
   "execution_count": 41,
   "metadata": {},
   "outputs": [],
   "source": [
    "adj_model_path = \"/gpfs/bbp.cscs.ch/project/proj9/bisimplices/pokorny/reciprocal_addition/models\""
   ]
  },
  {
   "cell_type": "code",
   "execution_count": 42,
   "metadata": {},
   "outputs": [
    {
     "name": "stdout",
     "output_type": "stream",
     "text": [
      "ConnProbAdjModel\n",
      "  <26567x26567 sparse matrix of type '<class 'numpy.bool_'>'\n",
      "\twith 7384380 stored elements in Compressed Sparse Column format>\n",
      "Model saved to \"/gpfs/bbp.cscs.ch/project/proj9/bisimplices/pokorny/reciprocal_addition/models/adj_model_control0_4x.json\"\n"
     ]
    }
   ],
   "source": [
    "adj_model = conn_prob_adj.build(adj.tocsc(), nids, nids)\n",
    "adj_model_name = f\"adj_model_{adj_name}\"\n",
    "adj_model.save_model(adj_model_path, adj_model_name)\n",
    "print(adj_model)\n",
    "adj_model_file = os.path.join(adj_model_path, adj_model_name + \".json\")\n",
    "assert os.path.exists(adj_model_file), f'ERROR: Model file \"{adj_model_file}\" not saved!'\n",
    "print(f'Model saved to \"{adj_model_file}\"')"
   ]
  },
  {
   "cell_type": "code",
   "execution_count": null,
   "metadata": {},
   "outputs": [],
   "source": []
  },
  {
   "cell_type": "markdown",
   "metadata": {},
   "source": [
    "Create rewiring config"
   ]
  },
  {
   "cell_type": "code",
   "execution_count": 43,
   "metadata": {},
   "outputs": [],
   "source": [
    "output_base_path = '/gpfs/bbp.cscs.ch/project/proj9/bisimplices/circuits'\n",
    "config_paths = ['../configs', '/gpfs/bbp.cscs.ch/project/proj9/bisimplices/pokorny/reciprocal_addition/configs']  # Write to local and proj9 folder"
   ]
  },
  {
   "cell_type": "code",
   "execution_count": 44,
   "metadata": {},
   "outputs": [],
   "source": [
    "def default_manip_config(circuit_config, seed=3210, N_split=None):\n",
    "    \"\"\"Generates a default manipulation config dict w/o any specific manipulation.\"\"\"\n",
    "    manip_config = {}\n",
    "    manip_config['circuit_config'] = circuit_config\n",
    "    manip_config['seed'] = seed\n",
    "    if N_split is not None:\n",
    "        manip_config['N_split_nodes'] = N_split\n",
    "    return manip_config\n",
    "\n",
    "def add_manip_to_config(manip_config, name, prob_model_file, delay_model_file, props_model_file):\n",
    "    \"\"\"Adds a 'ConnAddRC' rewiring operation to the (v4) manipulation config dict (in-place).\"\"\"\n",
    "    assert 'manip' not in manip_config, \"ERROR: Manipulation operation already specified!\"\n",
    "    manip_config['manip'] = {'name': f'ConnAddRC_mc2EE_{name}',\n",
    "                             'fcts': [{'source': 'conn_rewiring',\n",
    "                                       'sel_src': {'hypercolumn': 2, 'synapse_class': 'EXC'},\n",
    "                                       'sel_dest': {'hypercolumn': 2, 'synapse_class': 'EXC'},\n",
    "                                       'syn_class': 'EXC',\n",
    "                                       'keep_indegree': False,\n",
    "                                       'reuse_conns': False,\n",
    "                                       'keep_conns': True,\n",
    "                                       'reuse_pos': True,\n",
    "                                       'rewire_mode': 'add_only',\n",
    "                                       'gen_method': 'randomize',\n",
    "                                       'amount_pct': 100.0,\n",
    "                                       'model_config': {'prob_model_spec': {'file': prob_model_file},\n",
    "                                                        'delay_model_spec': {'file': delay_model_file},\n",
    "                                                        'props_model_spec': {'file': props_model_file}}}]}\n",
    "\n",
    "def export_manip_config(manip_config, config_path, print_cmd=False, circuit_name=None, output_base_path=None, N_parallel=None):\n",
    "    \"\"\"Writes manipulation config to .json config file(s).\"\"\"\n",
    "    if not isinstance(config_path, list):\n",
    "        config_path = [config_path]\n",
    "\n",
    "    fn = f'manip_config__{manip_config[\"manip\"][\"name\"]}.json'\n",
    "    for cpath in config_path:\n",
    "        with open(os.path.join(cpath, fn), 'w') as f:\n",
    "            json.dump(manip_config, f, indent=2)\n",
    "        print(f\"Config file {fn} written to {cpath}\")\n",
    "\n",
    "    if print_cmd:\n",
    "        assert circuit_name is not None and output_base_path is not None and N_parallel is not None, \\\n",
    "            \"ERROR: circuit_name/output_base_path/N_parallel required for printing launch command!\"\n",
    "        print()\n",
    "        output_dir = os.path.join(output_base_path, circuit_name + f'__{manip_config[\"manip\"][\"name\"]}')\n",
    "        print_launch_cmd(cpath, fn, output_dir, N_parallel)\n",
    "\n",
    "def print_launch_cmd(config_path, config_fn, output_dir, N_parallel):\n",
    "    run_cmd = f'sbatch run_rewiring_parallel.sh \"{config_fn}\" \"{output_dir}\" {N_parallel}'\n",
    "    print(f\"# LAUNCH COMMAND: [DON'T LAUNCH FROM WITHIN ANOTHER SLURM ALLOCATION!]\")\n",
    "    print(f\"cd {config_path}\")\n",
    "    print(run_cmd)\n"
   ]
  },
  {
   "cell_type": "code",
   "execution_count": null,
   "metadata": {},
   "outputs": [],
   "source": []
  },
  {
   "cell_type": "code",
   "execution_count": 45,
   "metadata": {},
   "outputs": [],
   "source": [
    "# Model locations (MC2 column models!!)\n",
    "delay_model_file = os.path.join('/gpfs/bbp.cscs.ch/project/proj9/bisimplices/pokorny/simplified_connectome_models/model_building', circuit_name, 'model', 'DistDepDelayO1v5mc2EE.json')\n",
    "props_model_file = os.path.join('/gpfs/bbp.cscs.ch/project/proj9/bisimplices/pokorny/simplified_connectome_models/model_building', circuit_name, 'model', 'ConnPropsPerPathwayO1v5mc2EE.json')\n",
    "prob_model_file = adj_model_file"
   ]
  },
  {
   "cell_type": "code",
   "execution_count": 46,
   "metadata": {},
   "outputs": [
    {
     "name": "stdout",
     "output_type": "stream",
     "text": [
      "Config file manip_config__ConnAddRC_mc2EE_control0_4x.json written to ../configs\n",
      "Config file manip_config__ConnAddRC_mc2EE_control0_4x.json written to /gpfs/bbp.cscs.ch/project/proj9/bisimplices/pokorny/reciprocal_addition/configs\n",
      "\n",
      "# LAUNCH COMMAND: [DON'T LAUNCH FROM WITHIN ANOTHER SLURM ALLOCATION!]\n",
      "cd /gpfs/bbp.cscs.ch/project/proj9/bisimplices/pokorny/reciprocal_addition/configs\n",
      "sbatch run_rewiring_parallel.sh \"manip_config__ConnAddRC_mc2EE_control0_4x.json\" \"/gpfs/bbp.cscs.ch/project/proj9/bisimplices/circuits/O1v5-SONATA__ConnAddRC_mc2EE_control0_4x\" 500\n"
     ]
    }
   ],
   "source": [
    "manip_config = default_manip_config(circuit_config, seed=3210)\n",
    "add_manip_to_config(manip_config, adj_name, prob_model_file, delay_model_file, props_model_file)\n",
    "export_manip_config(manip_config, config_paths, print_cmd=True, circuit_name=circuit_name, output_base_path=output_base_path, N_parallel=500)"
   ]
  },
  {
   "cell_type": "code",
   "execution_count": null,
   "metadata": {},
   "outputs": [],
   "source": []
  },
  {
   "cell_type": "code",
   "execution_count": null,
   "metadata": {},
   "outputs": [],
   "source": []
  }
 ],
 "metadata": {
  "kernelspec": {
   "display_name": "ReWiringKernel",
   "language": "python",
   "name": "rewiringkernel"
  },
  "language_info": {
   "codemirror_mode": {
    "name": "ipython",
    "version": 3
   },
   "file_extension": ".py",
   "mimetype": "text/x-python",
   "name": "python",
   "nbconvert_exporter": "python",
   "pygments_lexer": "ipython3",
   "version": "3.10.8"
  }
 },
 "nbformat": 4,
 "nbformat_minor": 4
}
