{
 "cells": [
  {
   "cell_type": "markdown",
   "metadata": {},
   "source": [
    "#### Check if newly created adjacency matrices are consistent with the ones used in simulations before"
   ]
  },
  {
   "cell_type": "code",
   "execution_count": 7,
   "metadata": {},
   "outputs": [],
   "source": [
    "# Initialization\n",
    "import json\n",
    "import os\n",
    "import matplotlib.pyplot as plt\n",
    "import numpy as np\n",
    "import pickle\n",
    "import tqdm\n",
    "from bluepysnap import Circuit\n",
    "from connectome_manipulator.model_building import conn_prob_adj\n",
    "from scipy import sparse as sps"
   ]
  },
  {
   "cell_type": "code",
   "execution_count": 32,
   "metadata": {},
   "outputs": [],
   "source": [
    "old_path = \"/gpfs/bbp.cscs.ch/project/proj102/egas/reliability/data\"\n",
    "old_fn_struct = \"mats_rc_on_simplices.pkl\"\n",
    "old_fn_controls = \"mats_rc_on_simplices_controls.pkl\""
   ]
  },
  {
   "cell_type": "code",
   "execution_count": 3,
   "metadata": {},
   "outputs": [],
   "source": [
    "new_path = \"/gpfs/bbp.cscs.ch/home/egassant/reliability_and_structure/data_analysis/data\"\n",
    "new_fn_struct = \"BBPmats_rc_on_simplices.pkl\"\n",
    "new_fn_controls = \"BBPmats_rc_on_simplices_controls.pkl\""
   ]
  },
  {
   "cell_type": "code",
   "execution_count": 29,
   "metadata": {},
   "outputs": [],
   "source": [
    "def is_equal_sps(mat1, mat2):\n",
    "    \"\"\"Checks if sparse matrices are equal.\"\"\"\n",
    "    if (\n",
    "        np.array_equal(mat1.data, mat2.data) and\n",
    "        np.array_equal(mat1.indices, mat2.indices) and\n",
    "        np.array_equal(mat1.indptr, mat2.indptr)\n",
    "    ):\n",
    "        return True\n",
    "    else:\n",
    "        return False\n",
    "\n",
    "def check_dicts(old_dict, new_dict):\n",
    "    \"Check if matrices in dicts are equal.\"\n",
    "    for _k in new_dict.keys():\n",
    "        if _k in old_dict:\n",
    "            if isinstance(new_dict[_k], dict):\n",
    "                for _seed in new_dict[_k].keys():\n",
    "                    if _seed in old_dict[_k]:\n",
    "                        if is_equal_sps(old_dict[_k][_seed], new_dict[_k][_seed]):\n",
    "                            print(f'{_k}-{_seed}: OK')\n",
    "                        else:\n",
    "                            print(f'{_k}-{_seed}: MISMATCH!')                    \n",
    "                    else:\n",
    "                        print(f'{_k}-{_seed}: SKIP!')\n",
    "            else:\n",
    "                if is_equal_sps(old_dict[_k], new_dict[_k]):\n",
    "                    print(f'{_k}: OK')\n",
    "                else:\n",
    "                    print(f'{_k}: MISMATCH!')\n",
    "        else:\n",
    "            print(f'{_k}: SKIP!')"
   ]
  },
  {
   "cell_type": "code",
   "execution_count": null,
   "metadata": {},
   "outputs": [],
   "source": []
  },
  {
   "cell_type": "markdown",
   "metadata": {},
   "source": [
    "Check structured"
   ]
  },
  {
   "cell_type": "code",
   "execution_count": 30,
   "metadata": {},
   "outputs": [],
   "source": [
    "with open(os.path.join(old_path, old_fn_struct), \"rb\") as f:\n",
    "    old_struct_dict = pickle.load(f)\n",
    "with open(os.path.join(new_path, new_fn_struct), \"rb\") as f:\n",
    "    new_struct_dict = pickle.load(f)"
   ]
  },
  {
   "cell_type": "code",
   "execution_count": 31,
   "metadata": {},
   "outputs": [
    {
     "name": "stdout",
     "output_type": "stream",
     "text": [
      "original: OK\n",
      "modified_2-0: OK\n",
      "modified_2-1: OK\n",
      "modified_2-2: OK\n",
      "modified_2-3: OK\n",
      "modified_2-4: OK\n",
      "modified_2-5: OK\n",
      "modified_2-6: OK\n",
      "modified_2-7: OK\n",
      "modified_2-8: OK\n",
      "modified_2-9: OK\n",
      "modified_4-0: OK\n",
      "modified_4-1: OK\n",
      "modified_4-2: OK\n",
      "modified_4-3: OK\n",
      "modified_4-4: OK\n",
      "modified_4-5: OK\n",
      "modified_4-6: OK\n",
      "modified_4-7: OK\n",
      "modified_4-8: OK\n",
      "modified_4-9: OK\n",
      "modified_8: SKIP!\n",
      "modified_16: SKIP!\n"
     ]
    }
   ],
   "source": [
    "check_dicts(old_struct_dict, new_struct_dict)"
   ]
  },
  {
   "cell_type": "code",
   "execution_count": null,
   "metadata": {},
   "outputs": [],
   "source": []
  },
  {
   "cell_type": "markdown",
   "metadata": {},
   "source": [
    "Check controls"
   ]
  },
  {
   "cell_type": "code",
   "execution_count": 34,
   "metadata": {},
   "outputs": [],
   "source": [
    "with open(os.path.join(old_path, old_fn_controls), \"rb\") as f:\n",
    "    old_ctrl_dict = pickle.load(f)\n",
    "with open(os.path.join(new_path, new_fn_controls), \"rb\") as f:\n",
    "    new_ctrl_dict = pickle.load(f)"
   ]
  },
  {
   "cell_type": "code",
   "execution_count": 35,
   "metadata": {},
   "outputs": [
    {
     "name": "stdout",
     "output_type": "stream",
     "text": [
      "modified_2-0: OK\n",
      "modified_2-1: OK\n",
      "modified_2-2: OK\n",
      "modified_2-3: OK\n",
      "modified_2-4: OK\n",
      "modified_2-5: OK\n",
      "modified_2-6: OK\n",
      "modified_2-7: OK\n",
      "modified_2-8: OK\n",
      "modified_2-9: OK\n",
      "modified_4-0: OK\n",
      "modified_4-1: OK\n",
      "modified_4-2: OK\n",
      "modified_4-3: OK\n",
      "modified_4-4: OK\n",
      "modified_4-5: OK\n",
      "modified_4-6: OK\n",
      "modified_4-7: OK\n",
      "modified_4-8: OK\n",
      "modified_4-9: OK\n",
      "modified_8: SKIP!\n",
      "modified_16: SKIP!\n"
     ]
    }
   ],
   "source": [
    "check_dicts(old_ctrl_dict, new_ctrl_dict)"
   ]
  },
  {
   "cell_type": "code",
   "execution_count": null,
   "metadata": {},
   "outputs": [],
   "source": []
  }
 ],
 "metadata": {
  "kernelspec": {
   "display_name": "ReWiringKernel",
   "language": "python",
   "name": "rewiringkernel"
  },
  "language_info": {
   "codemirror_mode": {
    "name": "ipython",
    "version": 3
   },
   "file_extension": ".py",
   "mimetype": "text/x-python",
   "name": "python",
   "nbconvert_exporter": "python",
   "pygments_lexer": "ipython3",
   "version": "3.10.8"
  }
 },
 "nbformat": 4,
 "nbformat_minor": 4
}
