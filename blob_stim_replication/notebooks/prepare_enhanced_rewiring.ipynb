{
 "cells": [
  {
   "cell_type": "markdown",
   "metadata": {},
   "source": [
    "# O1v5-SONATA connectome manipulation preparation for enhanced connectome structure\n",
    "\n",
    "Enhanced connectome structure is obtained by Michael R.'s heuristic rewiring algorithm, producing a set of enhanced adjacency matrices. The algorithm adds and deletes always the same number of connections. Therefore, the resulting number of connections will match exactly the original connectome.\n",
    "\n",
    "---\n",
    "\n",
    "This is an auxiliary notebook for configuring rewiring, which...\n",
    " - creates connectivity models from adjacency matrices containing additional (structured) connections\n",
    " - sets up rewiring using these connectivity models to add reciprocal connections to the original connectome\n",
    "\n",
    "<u>Requirements</u>: [connectome-manipulator](https://bbpgitlab.epfl.ch/conn/structural/connectome_manipulator) package (v0.0.10.dev1 or later)\n",
    "\n",
    "ℹ️ Related ticket: [[ACCS-64](https://bbpteam.epfl.ch/project/issues/browse/ACCS-64)] \"Rewiring connections to enhance structure in V5 connectome\"\n"
   ]
  },
  {
   "cell_type": "code",
   "execution_count": 1,
   "metadata": {},
   "outputs": [],
   "source": [
    "# Initialization\n",
    "import json\n",
    "import os\n",
    "import matplotlib.pyplot as plt\n",
    "import numpy as np\n",
    "import pickle\n",
    "import tqdm\n",
    "from bluepysnap import Circuit\n",
    "from connectome_manipulator.model_building import conn_prob_adj\n",
    "from scipy import sparse as sps"
   ]
  },
  {
   "cell_type": "code",
   "execution_count": null,
   "metadata": {},
   "outputs": [],
   "source": []
  },
  {
   "cell_type": "markdown",
   "metadata": {},
   "source": [
    "__Load original circuit & adjacency matrix__"
   ]
  },
  {
   "cell_type": "code",
   "execution_count": 2,
   "metadata": {},
   "outputs": [],
   "source": [
    "# Load circuit & node ids corresponding to adjacency matrix\n",
    "circuit_path = '/gpfs/bbp.cscs.ch/project/proj9/bisimplices/circuits/O1v5-SONATA'\n",
    "circuit_name = os.path.split(circuit_path)[-1]\n",
    "circuit_config = os.path.join(circuit_path, 'sonata', 'circuit_config_tmp.json') # SONATA config (.json)  # TEMP edges file with afferent_center_x/y/z properties preliminarily added w/o validation, see [NSETM-1222]\n",
    "\n",
    "c = Circuit(circuit_config)\n",
    "nodes = c.nodes[\"default\"]\n",
    "edges = c.edges[\"default\"]\n",
    "\n",
    "mc2_nodeset = \"mc2_Column\"\n",
    "nids = nodes.ids(mc2_nodeset)\n",
    "nids_exc = np.intersect1d(nids, nodes.ids({\"synapse_class\": \"EXC\"}))"
   ]
  },
  {
   "cell_type": "code",
   "execution_count": 3,
   "metadata": {},
   "outputs": [
    {
     "name": "stdout",
     "output_type": "stream",
     "text": [
      "Loaded \"original\" adjacency matrix with 7803528 edges between 31346x31346 nodes\n"
     ]
    }
   ],
   "source": [
    "## Original (full) adjacency matrix from baseline sims (for checks)\n",
    "adj_orig_full = sps.load_npz(\"/gpfs/bbp.cscs.ch/data/scratch/proj9/bisimplices/simulations/BlobStimReliability_O1v5-SONATA_Baseline/working_dir/connectivity.npz\")\n",
    "assert adj_orig_full.shape[0] == adj_orig_full.shape[1] == len(nids), \"ERROR: Nodes inconsistent with size of original adjacency matrix!\"\n",
    "orig_ccount_full = adj_orig_full.count_nonzero()\n",
    "print(f'Loaded \"original\" adjacency matrix with {orig_ccount_full} edges between {adj_orig_full.shape[0]}x{adj_orig_full.shape[1]} nodes')"
   ]
  },
  {
   "cell_type": "code",
   "execution_count": null,
   "metadata": {},
   "outputs": [],
   "source": []
  },
  {
   "cell_type": "markdown",
   "metadata": {},
   "source": [
    "__Load and check adjacency matrix with connections to be added__\n",
    "\n",
    "- Matrices are defined between all MC2 neurons\n",
    "- Sub-matrix between EXC neurons will be extracted"
   ]
  },
  {
   "cell_type": "code",
   "execution_count": 5,
   "metadata": {},
   "outputs": [
    {
     "name": "stdout",
     "output_type": "stream",
     "text": [
      "Loaded enhanced \"100K\" adjacency matrix with 7803528 edges between 31346x31346 nodes (DIFF to orig: 0; 0.000%)\n",
      "Loaded enhanced \"200K\" adjacency matrix with 7803528 edges between 31346x31346 nodes (DIFF to orig: 0; 0.000%)\n",
      "Loaded enhanced \"300K\" adjacency matrix with 7803528 edges between 31346x31346 nodes (DIFF to orig: 0; 0.000%)\n",
      "Loaded enhanced \"400K\" adjacency matrix with 7803528 edges between 31346x31346 nodes (DIFF to orig: 0; 0.000%)\n",
      "Loaded enhanced \"500K\" adjacency matrix with 7803528 edges between 31346x31346 nodes (DIFF to orig: 0; 0.000%)\n",
      "Loaded enhanced \"670K\" adjacency matrix with 7803528 edges between 31346x31346 nodes (DIFF to orig: 0; 0.000%)\n"
     ]
    }
   ],
   "source": [
    "# Load enhanced (full) adjacency matrices\n",
    "adj_path = \"/gpfs/bbp.cscs.ch/project/proj102/egas/reliability/manipulation_selection/data\"\n",
    "enhance_N = [100, 200, 300, 400, 500, 670]\n",
    "adj_files = [f\"V5_enhanced_mat_{n}k.npz\" for n in enhance_N]\n",
    "\n",
    "adj_mats_full = []\n",
    "for fn, n in zip(adj_files, enhance_N):\n",
    "    _adj = sps.load_npz(os.path.join(adj_path, fn))\n",
    "    assert _adj.shape[0] == _adj.shape[1] == len(nids), \"ERROR: Size of enhanced adjacency matrix inconsistent with nodes!\"\n",
    "    adj_mats_full.append(_adj)\n",
    "    _diff = _adj.count_nonzero() - orig_ccount_full\n",
    "    print(f'Loaded enhanced \"{n}K\" adjacency matrix with {_adj.count_nonzero()} edges between {_adj.shape[0]}x{_adj.shape[1]} nodes (DIFF to orig: {_diff}; {100 * _diff / orig_ccount_full:.3f}%)')"
   ]
  },
  {
   "cell_type": "code",
   "execution_count": 9,
   "metadata": {},
   "outputs": [
    {
     "name": "stdout",
     "output_type": "stream",
     "text": [
      "Extracted \"original\" adjacency matrix with 6717001 edges between 26567x26567 nodes\n",
      "Extracted enhanced \"100K\" adjacency matrix with 6717001 edges between 26567x26567 EXC nodes (DIFF to orig: 0; 0.000%)\n",
      "Extracted enhanced \"200K\" adjacency matrix with 6717001 edges between 26567x26567 EXC nodes (DIFF to orig: 0; 0.000%)\n",
      "Extracted enhanced \"300K\" adjacency matrix with 6717001 edges between 26567x26567 EXC nodes (DIFF to orig: 0; 0.000%)\n",
      "Extracted enhanced \"400K\" adjacency matrix with 6717001 edges between 26567x26567 EXC nodes (DIFF to orig: 0; 0.000%)\n",
      "Extracted enhanced \"500K\" adjacency matrix with 6717001 edges between 26567x26567 EXC nodes (DIFF to orig: 0; 0.000%)\n",
      "Extracted enhanced \"670K\" adjacency matrix with 6717001 edges between 26567x26567 EXC nodes (DIFF to orig: 0; 0.000%)\n"
     ]
    }
   ],
   "source": [
    "# Extract EXC-EXC sub-matrix\n",
    "EE_sel = np.isin(nids, nids_exc)\n",
    "adj_orig = adj_orig_full[:, EE_sel][EE_sel, :]\n",
    "assert adj_orig.shape[0] == adj_orig.shape[1] == len(nids_exc), \"ERROR: Size of original adjacency matrix inconsistent with EXC nodes!\"\n",
    "orig_ccount = adj_orig.count_nonzero()\n",
    "print(f'Extracted \"original\" adjacency matrix with {orig_ccount} edges between {adj_orig.shape[0]}x{adj_orig.shape[1]} nodes')\n",
    "\n",
    "adj_mats = []\n",
    "for _adj, _n in zip(adj_mats_full, enhance_N):\n",
    "    _adj = _adj[:, EE_sel][EE_sel, :]\n",
    "    assert _adj.shape[0] == _adj.shape[1] == len(nids_exc), \"ERROR: Size of enhanced adjacency matrix inconsistent with EXC nodes!\"\n",
    "    adj_mats.append(_adj)\n",
    "    _diff = _adj.count_nonzero() - orig_ccount\n",
    "    print(f'Extracted enhanced \"{_n}K\" adjacency matrix with {_adj.count_nonzero()} edges between {_adj.shape[0]}x{_adj.shape[1]} EXC nodes (DIFF to orig: {_diff}; {100 * _diff / orig_ccount:.3f}%)')"
   ]
  },
  {
   "cell_type": "code",
   "execution_count": null,
   "metadata": {},
   "outputs": [],
   "source": []
  },
  {
   "cell_type": "code",
   "execution_count": 10,
   "metadata": {},
   "outputs": [
    {
     "name": "stdout",
     "output_type": "stream",
     "text": [
      "Enhanced \"100K\" adjacency matrix: 191326 edges changed (95663 added, 95663 deleted)\n",
      "Enhanced \"200K\" adjacency matrix: 381620 edges changed (190810 added, 190810 deleted)\n",
      "Enhanced \"300K\" adjacency matrix: 570518 edges changed (285259 added, 285259 deleted)\n",
      "Enhanced \"400K\" adjacency matrix: 758446 edges changed (379223 added, 379223 deleted)\n",
      "Enhanced \"500K\" adjacency matrix: 945906 edges changed (472953 added, 472953 deleted)\n",
      "Enhanced \"670K\" adjacency matrix: 1261302 edges changed (630651 added, 630651 deleted)\n"
     ]
    }
   ],
   "source": [
    "# Check edges to be added/deleted\n",
    "for _adj, _n in zip(adj_mats, enhance_N):\n",
    "    _diff_mat = _adj.astype(int) - adj_orig.astype(int)\n",
    "    assert not np.any(_diff_mat.data == 0), 'ERROR: Zero check!'\n",
    "    print(f'Enhanced \"{_n}K\" adjacency matrix: {_diff_mat.count_nonzero()} edges changed ({np.sum(_diff_mat.data == 1)} added, {np.sum(_diff_mat.data == -1)} deleted)')\n"
   ]
  },
  {
   "cell_type": "code",
   "execution_count": null,
   "metadata": {},
   "outputs": [],
   "source": []
  },
  {
   "cell_type": "markdown",
   "metadata": {},
   "source": [
    "__Create and save adjacency model for rewiring__"
   ]
  },
  {
   "cell_type": "code",
   "execution_count": 11,
   "metadata": {},
   "outputs": [],
   "source": [
    "adj_model_path = f\"/gpfs/bbp.cscs.ch/project/proj9/bisimplices/pokorny/enhanced_connectivity/model_building/{circuit_name}/model\"\n",
    "if not os.path.exists(adj_model_path):\n",
    "    os.makedirs(adj_model_path)"
   ]
  },
  {
   "cell_type": "code",
   "execution_count": 12,
   "metadata": {},
   "outputs": [
    {
     "name": "stdout",
     "output_type": "stream",
     "text": [
      "ConnProbAdjModel\n",
      "  <26567x26567 sparse matrix of type '<class 'numpy.bool_'>'\n",
      "\twith 6717001 stored elements in Compressed Sparse Column format>\n",
      "Model saved to \"/gpfs/bbp.cscs.ch/project/proj9/bisimplices/pokorny/enhanced_connectivity/model_building/O1v5-SONATA/model/ConnProbAdjModel_mc2EE_Enhanced100K.json\"\n",
      "\n",
      "ConnProbAdjModel\n",
      "  <26567x26567 sparse matrix of type '<class 'numpy.bool_'>'\n",
      "\twith 6717001 stored elements in Compressed Sparse Column format>\n",
      "Model saved to \"/gpfs/bbp.cscs.ch/project/proj9/bisimplices/pokorny/enhanced_connectivity/model_building/O1v5-SONATA/model/ConnProbAdjModel_mc2EE_Enhanced200K.json\"\n",
      "\n",
      "ConnProbAdjModel\n",
      "  <26567x26567 sparse matrix of type '<class 'numpy.bool_'>'\n",
      "\twith 6717001 stored elements in Compressed Sparse Column format>\n",
      "Model saved to \"/gpfs/bbp.cscs.ch/project/proj9/bisimplices/pokorny/enhanced_connectivity/model_building/O1v5-SONATA/model/ConnProbAdjModel_mc2EE_Enhanced300K.json\"\n",
      "\n",
      "ConnProbAdjModel\n",
      "  <26567x26567 sparse matrix of type '<class 'numpy.bool_'>'\n",
      "\twith 6717001 stored elements in Compressed Sparse Column format>\n",
      "Model saved to \"/gpfs/bbp.cscs.ch/project/proj9/bisimplices/pokorny/enhanced_connectivity/model_building/O1v5-SONATA/model/ConnProbAdjModel_mc2EE_Enhanced400K.json\"\n",
      "\n",
      "ConnProbAdjModel\n",
      "  <26567x26567 sparse matrix of type '<class 'numpy.bool_'>'\n",
      "\twith 6717001 stored elements in Compressed Sparse Column format>\n",
      "Model saved to \"/gpfs/bbp.cscs.ch/project/proj9/bisimplices/pokorny/enhanced_connectivity/model_building/O1v5-SONATA/model/ConnProbAdjModel_mc2EE_Enhanced500K.json\"\n",
      "\n",
      "ConnProbAdjModel\n",
      "  <26567x26567 sparse matrix of type '<class 'numpy.bool_'>'\n",
      "\twith 6717001 stored elements in Compressed Sparse Column format>\n",
      "Model saved to \"/gpfs/bbp.cscs.ch/project/proj9/bisimplices/pokorny/enhanced_connectivity/model_building/O1v5-SONATA/model/ConnProbAdjModel_mc2EE_Enhanced670K.json\"\n",
      "\n"
     ]
    }
   ],
   "source": [
    "adj_model_files = []\n",
    "for _adj, _n in zip(adj_mats, enhance_N):\n",
    "    adj_model = conn_prob_adj.build(_adj.tocsc(), nids_exc, nids_exc)\n",
    "    adj_model_name = f\"ConnProbAdjModel_mc2EE_Enhanced{_n}K\"\n",
    "    adj_model.save_model(adj_model_path, adj_model_name)\n",
    "    print(adj_model)\n",
    "    adj_model_file = os.path.join(adj_model_path, adj_model_name + \".json\")\n",
    "    adj_model_files.append(adj_model_file)\n",
    "    assert os.path.exists(adj_model_file), f'ERROR: Model file \"{adj_model_file}\" not saved!'\n",
    "    print(f'Model saved to \"{adj_model_file}\"\\n')"
   ]
  },
  {
   "cell_type": "code",
   "execution_count": null,
   "metadata": {},
   "outputs": [],
   "source": []
  },
  {
   "cell_type": "markdown",
   "metadata": {},
   "source": [
    "__Create rewiring config & launch rewiring__"
   ]
  },
  {
   "cell_type": "code",
   "execution_count": 13,
   "metadata": {},
   "outputs": [],
   "source": [
    "output_base_path = '/gpfs/bbp.cscs.ch/project/proj9/bisimplices/circuits'\n",
    "config_paths = ['../configs', '/gpfs/bbp.cscs.ch/project/proj9/bisimplices/pokorny/enhanced_connectivity/configs']  # Write to local and proj9 folder\n",
    "\n",
    "for _cpath in config_paths:\n",
    "    if not os.path.exists(_cpath):\n",
    "        os.makedirs(_cpath)"
   ]
  },
  {
   "cell_type": "code",
   "execution_count": 14,
   "metadata": {},
   "outputs": [],
   "source": [
    "def default_manip_config(circuit_config, seed=3210, N_split=None):\n",
    "    \"\"\"Generates a default manipulation config dict w/o any specific manipulation.\"\"\"\n",
    "    manip_config = {}\n",
    "    manip_config['circuit_config'] = circuit_config\n",
    "    manip_config['seed'] = seed\n",
    "    if N_split is not None:\n",
    "        manip_config['N_split_nodes'] = N_split\n",
    "    return manip_config\n",
    "\n",
    "def add_manip_to_config(manip_config, name, prob_model_file, delay_model_file, props_model_file):\n",
    "    \"\"\"Adds an EE rewiring operation based to the manipulation config dict (in-place).\"\"\"\n",
    "    assert 'manip' not in manip_config, \"ERROR: Manipulation operation already specified!\"\n",
    "    manip_config['manip'] = {'name': f'ConnRewire{name}mc2EE',\n",
    "                             'fcts': [{'source': 'conn_rewiring',\n",
    "                                       'sel_src': {'hypercolumn': 2, 'synapse_class': 'EXC'},\n",
    "                                       'sel_dest': {'hypercolumn': 2, 'synapse_class': 'EXC'},\n",
    "                                       'syn_class': 'EXC',\n",
    "                                       'keep_indegree': False,\n",
    "                                       'reuse_conns': False,\n",
    "                                       'keep_conns': True,\n",
    "                                       'reuse_pos': True,\n",
    "                                       'rewire_mode': None,\n",
    "                                       'gen_method': 'randomize',\n",
    "                                       'amount_pct': 100.0,\n",
    "                                       'model_config': {'prob_model_spec': {'file': prob_model_file},\n",
    "                                                        'delay_model_spec': {'file': delay_model_file},\n",
    "                                                        'props_model_spec': {'file': props_model_file}}}]}\n",
    "\n",
    "def export_manip_config(manip_config, config_path, print_cmd=False, circuit_name=None, output_base_path=None, N_parallel=None):\n",
    "    \"\"\"Writes manipulation config to .json config file(s).\"\"\"\n",
    "    if not isinstance(config_path, list):\n",
    "        config_path = [config_path]\n",
    "\n",
    "    fn = f'manip_config__{manip_config[\"manip\"][\"name\"]}.json'\n",
    "    for cpath in config_path:\n",
    "        with open(os.path.join(cpath, fn), 'w') as f:\n",
    "            json.dump(manip_config, f, indent=2)\n",
    "        print(f\"Config file {fn} written to {cpath}\")\n",
    "\n",
    "    if print_cmd:\n",
    "        assert circuit_name is not None and output_base_path is not None and N_parallel is not None, \\\n",
    "            \"ERROR: circuit_name/output_base_path/N_parallel required for printing launch command!\"\n",
    "        print()\n",
    "        output_dir = os.path.join(output_base_path, circuit_name + f'__{manip_config[\"manip\"][\"name\"]}')\n",
    "        print_launch_cmd(cpath, fn, output_dir, N_parallel)\n",
    "\n",
    "def print_launch_cmd(config_path, config_fn, output_dir, N_parallel):\n",
    "    run_cmd = f'sbatch run_rewiring_parallel.sh \"{config_fn}\" \"{output_dir}\" {N_parallel}'\n",
    "    print(f\"# LAUNCH COMMAND: [DON'T LAUNCH FROM WITHIN ANOTHER SLURM ALLOCATION!]\")\n",
    "    print(f\"cd {config_path}\")\n",
    "    print(run_cmd)\n"
   ]
  },
  {
   "cell_type": "code",
   "execution_count": null,
   "metadata": {},
   "outputs": [],
   "source": []
  },
  {
   "cell_type": "code",
   "execution_count": 15,
   "metadata": {},
   "outputs": [
    {
     "name": "stdout",
     "output_type": "stream",
     "text": [
      "prob_model_file =\n"
     ]
    },
    {
     "data": {
      "text/plain": [
       "['/gpfs/bbp.cscs.ch/project/proj9/bisimplices/pokorny/enhanced_connectivity/model_building/O1v5-SONATA/model/ConnProbAdjModel_mc2EE_Enhanced100K.json',\n",
       " '/gpfs/bbp.cscs.ch/project/proj9/bisimplices/pokorny/enhanced_connectivity/model_building/O1v5-SONATA/model/ConnProbAdjModel_mc2EE_Enhanced200K.json',\n",
       " '/gpfs/bbp.cscs.ch/project/proj9/bisimplices/pokorny/enhanced_connectivity/model_building/O1v5-SONATA/model/ConnProbAdjModel_mc2EE_Enhanced300K.json',\n",
       " '/gpfs/bbp.cscs.ch/project/proj9/bisimplices/pokorny/enhanced_connectivity/model_building/O1v5-SONATA/model/ConnProbAdjModel_mc2EE_Enhanced400K.json',\n",
       " '/gpfs/bbp.cscs.ch/project/proj9/bisimplices/pokorny/enhanced_connectivity/model_building/O1v5-SONATA/model/ConnProbAdjModel_mc2EE_Enhanced500K.json',\n",
       " '/gpfs/bbp.cscs.ch/project/proj9/bisimplices/pokorny/enhanced_connectivity/model_building/O1v5-SONATA/model/ConnProbAdjModel_mc2EE_Enhanced670K.json']"
      ]
     },
     "execution_count": 15,
     "metadata": {},
     "output_type": "execute_result"
    }
   ],
   "source": [
    "# Model locations (MC2 column models!!)\n",
    "delay_model_file = os.path.join('/gpfs/bbp.cscs.ch/project/proj9/bisimplices/pokorny/simplified_connectome_models/model_building', circuit_name, 'model', 'DistDepDelayO1v5mc2EE.json')\n",
    "props_model_file = os.path.join('/gpfs/bbp.cscs.ch/project/proj9/bisimplices/pokorny/reciprocal_addition/model_building', circuit_name, 'model', 'ConnPropsPerPathwayO1v5mc2EE.json')  # Latest model format\n",
    "print('prob_model_file =')\n",
    "adj_model_files"
   ]
  },
  {
   "cell_type": "code",
   "execution_count": 16,
   "metadata": {},
   "outputs": [
    {
     "name": "stdout",
     "output_type": "stream",
     "text": [
      "Config file manip_config__ConnRewireEnhanced100Kmc2EE.json written to ../configs\n",
      "Config file manip_config__ConnRewireEnhanced100Kmc2EE.json written to /gpfs/bbp.cscs.ch/project/proj9/bisimplices/pokorny/enhanced_connectivity/configs\n",
      "\n",
      "# LAUNCH COMMAND: [DON'T LAUNCH FROM WITHIN ANOTHER SLURM ALLOCATION!]\n",
      "cd /gpfs/bbp.cscs.ch/project/proj9/bisimplices/pokorny/enhanced_connectivity/configs\n",
      "sbatch run_rewiring_parallel.sh \"manip_config__ConnRewireEnhanced100Kmc2EE.json\" \"/gpfs/bbp.cscs.ch/project/proj9/bisimplices/circuits/O1v5-SONATA__ConnRewireEnhanced100Kmc2EE\" 500\n",
      "----------------------------------------------------------------------------------------------------\n",
      "Config file manip_config__ConnRewireEnhanced200Kmc2EE.json written to ../configs\n",
      "Config file manip_config__ConnRewireEnhanced200Kmc2EE.json written to /gpfs/bbp.cscs.ch/project/proj9/bisimplices/pokorny/enhanced_connectivity/configs\n",
      "\n",
      "# LAUNCH COMMAND: [DON'T LAUNCH FROM WITHIN ANOTHER SLURM ALLOCATION!]\n",
      "cd /gpfs/bbp.cscs.ch/project/proj9/bisimplices/pokorny/enhanced_connectivity/configs\n",
      "sbatch run_rewiring_parallel.sh \"manip_config__ConnRewireEnhanced200Kmc2EE.json\" \"/gpfs/bbp.cscs.ch/project/proj9/bisimplices/circuits/O1v5-SONATA__ConnRewireEnhanced200Kmc2EE\" 500\n",
      "----------------------------------------------------------------------------------------------------\n",
      "Config file manip_config__ConnRewireEnhanced300Kmc2EE.json written to ../configs\n",
      "Config file manip_config__ConnRewireEnhanced300Kmc2EE.json written to /gpfs/bbp.cscs.ch/project/proj9/bisimplices/pokorny/enhanced_connectivity/configs\n",
      "\n",
      "# LAUNCH COMMAND: [DON'T LAUNCH FROM WITHIN ANOTHER SLURM ALLOCATION!]\n",
      "cd /gpfs/bbp.cscs.ch/project/proj9/bisimplices/pokorny/enhanced_connectivity/configs\n",
      "sbatch run_rewiring_parallel.sh \"manip_config__ConnRewireEnhanced300Kmc2EE.json\" \"/gpfs/bbp.cscs.ch/project/proj9/bisimplices/circuits/O1v5-SONATA__ConnRewireEnhanced300Kmc2EE\" 500\n",
      "----------------------------------------------------------------------------------------------------\n",
      "Config file manip_config__ConnRewireEnhanced400Kmc2EE.json written to ../configs\n",
      "Config file manip_config__ConnRewireEnhanced400Kmc2EE.json written to /gpfs/bbp.cscs.ch/project/proj9/bisimplices/pokorny/enhanced_connectivity/configs\n",
      "\n",
      "# LAUNCH COMMAND: [DON'T LAUNCH FROM WITHIN ANOTHER SLURM ALLOCATION!]\n",
      "cd /gpfs/bbp.cscs.ch/project/proj9/bisimplices/pokorny/enhanced_connectivity/configs\n",
      "sbatch run_rewiring_parallel.sh \"manip_config__ConnRewireEnhanced400Kmc2EE.json\" \"/gpfs/bbp.cscs.ch/project/proj9/bisimplices/circuits/O1v5-SONATA__ConnRewireEnhanced400Kmc2EE\" 500\n",
      "----------------------------------------------------------------------------------------------------\n",
      "Config file manip_config__ConnRewireEnhanced500Kmc2EE.json written to ../configs\n",
      "Config file manip_config__ConnRewireEnhanced500Kmc2EE.json written to /gpfs/bbp.cscs.ch/project/proj9/bisimplices/pokorny/enhanced_connectivity/configs\n",
      "\n",
      "# LAUNCH COMMAND: [DON'T LAUNCH FROM WITHIN ANOTHER SLURM ALLOCATION!]\n",
      "cd /gpfs/bbp.cscs.ch/project/proj9/bisimplices/pokorny/enhanced_connectivity/configs\n",
      "sbatch run_rewiring_parallel.sh \"manip_config__ConnRewireEnhanced500Kmc2EE.json\" \"/gpfs/bbp.cscs.ch/project/proj9/bisimplices/circuits/O1v5-SONATA__ConnRewireEnhanced500Kmc2EE\" 500\n",
      "----------------------------------------------------------------------------------------------------\n",
      "Config file manip_config__ConnRewireEnhanced670Kmc2EE.json written to ../configs\n",
      "Config file manip_config__ConnRewireEnhanced670Kmc2EE.json written to /gpfs/bbp.cscs.ch/project/proj9/bisimplices/pokorny/enhanced_connectivity/configs\n",
      "\n",
      "# LAUNCH COMMAND: [DON'T LAUNCH FROM WITHIN ANOTHER SLURM ALLOCATION!]\n",
      "cd /gpfs/bbp.cscs.ch/project/proj9/bisimplices/pokorny/enhanced_connectivity/configs\n",
      "sbatch run_rewiring_parallel.sh \"manip_config__ConnRewireEnhanced670Kmc2EE.json\" \"/gpfs/bbp.cscs.ch/project/proj9/bisimplices/circuits/O1v5-SONATA__ConnRewireEnhanced670Kmc2EE\" 500\n"
     ]
    }
   ],
   "source": [
    "for _prob_file, _n in zip(adj_model_files, enhance_N):\n",
    "    manip_config = default_manip_config(circuit_config, seed=3210)\n",
    "    add_manip_to_config(manip_config, f'Enhanced{_n}K', _prob_file, delay_model_file, props_model_file)\n",
    "    export_manip_config(manip_config, config_paths, print_cmd=True, circuit_name=circuit_name, output_base_path=output_base_path, N_parallel=500)\n",
    "    if _n != enhance_N[-1]:\n",
    "        print('----------------------------------------------------------------------------------------------------')"
   ]
  },
  {
   "cell_type": "code",
   "execution_count": null,
   "metadata": {},
   "outputs": [],
   "source": []
  },
  {
   "cell_type": "markdown",
   "metadata": {},
   "source": [
    "Launch commands:\n",
    "\n",
    "`cd /gpfs/bbp.cscs.ch/project/proj9/bisimplices/pokorny/enhanced_connectivity/configs`\n",
    "\n",
    "`sbatch run_rewiring_parallel.sh \"manip_config__ConnRewireEnhanced100Kmc2EE.json\" \"/gpfs/bbp.cscs.ch/project/proj9/bisimplices/circuits/O1v5-SONATA__ConnRewireEnhanced100Kmc2EE\" 500`\n",
    "\n",
    "`sbatch run_rewiring_parallel.sh \"manip_config__ConnRewireEnhanced200Kmc2EE.json\" \"/gpfs/bbp.cscs.ch/project/proj9/bisimplices/circuits/O1v5-SONATA__ConnRewireEnhanced200Kmc2EE\" 500`\n",
    "\n",
    "`sbatch run_rewiring_parallel.sh \"manip_config__ConnRewireEnhanced300Kmc2EE.json\" \"/gpfs/bbp.cscs.ch/project/proj9/bisimplices/circuits/O1v5-SONATA__ConnRewireEnhanced300Kmc2EE\" 500`\n",
    "\n",
    "`sbatch run_rewiring_parallel.sh \"manip_config__ConnRewireEnhanced400Kmc2EE.json\" \"/gpfs/bbp.cscs.ch/project/proj9/bisimplices/circuits/O1v5-SONATA__ConnRewireEnhanced400Kmc2EE\" 500`\n",
    "\n",
    "`sbatch run_rewiring_parallel.sh \"manip_config__ConnRewireEnhanced500Kmc2EE.json\" \"/gpfs/bbp.cscs.ch/project/proj9/bisimplices/circuits/O1v5-SONATA__ConnRewireEnhanced500Kmc2EE\" 500`\n",
    "\n",
    "`sbatch run_rewiring_parallel.sh \"manip_config__ConnRewireEnhanced670Kmc2EE.json\" \"/gpfs/bbp.cscs.ch/project/proj9/bisimplices/circuits/O1v5-SONATA__ConnRewireEnhanced670Kmc2EE\" 500`\n"
   ]
  },
  {
   "cell_type": "code",
   "execution_count": null,
   "metadata": {},
   "outputs": [],
   "source": []
  },
  {
   "cell_type": "markdown",
   "metadata": {},
   "source": [
    "### AFTER REWIRING\n",
    "\n",
    "__Extract actual connection counts (from log files)__"
   ]
  },
  {
   "cell_type": "code",
   "execution_count": 22,
   "metadata": {},
   "outputs": [
    {
     "name": "stderr",
     "output_type": "stream",
     "text": [
      "Collecting log files: 100%|██████████| 500/500 [00:02<00:00, 226.29it/s]"
     ]
    },
    {
     "name": "stdout",
     "output_type": "stream",
     "text": [
      "Non-empty splits: 72/500\n",
      "Overall: #Conns_orig = 14138043, #Conns_rewired = 14138043, DIFF = 0 (0.00%)\n",
      "Within wiring target: #Conns_orig = 6717001, #Conns_rewired = 6717001, DIFF = 0 (0.00%)\n"
     ]
    },
    {
     "name": "stderr",
     "output_type": "stream",
     "text": [
      "\n"
     ]
    }
   ],
   "source": [
    "# Check connection/synapse counts\n",
    "from datetime import datetime, timedelta\n",
    "\n",
    "N_split = 500\n",
    "# main_log_file = \"/gpfs/bbp.cscs.ch/project/proj9/bisimplices/circuits/O1v5-SONATA__ConnRewireEnhanced100Kmc2EE/logs/connectome_manipulation_2023-12-06_08h27.log\"\n",
    "# main_log_file = \"/gpfs/bbp.cscs.ch/project/proj9/bisimplices/circuits/O1v5-SONATA__ConnRewireEnhanced200Kmc2EE/logs/connectome_manipulation_2023-12-06_08h27.log\"\n",
    "# main_log_file = \"/gpfs/bbp.cscs.ch/project/proj9/bisimplices/circuits/O1v5-SONATA__ConnRewireEnhanced300Kmc2EE/logs/connectome_manipulation_2023-12-06_08h27.log\"\n",
    "# main_log_file = \"/gpfs/bbp.cscs.ch/project/proj9/bisimplices/circuits/O1v5-SONATA__ConnRewireEnhanced400Kmc2EE/logs/connectome_manipulation_2023-12-06_08h27.log\"\n",
    "# main_log_file = \"/gpfs/bbp.cscs.ch/project/proj9/bisimplices/circuits/O1v5-SONATA__ConnRewireEnhanced500Kmc2EE/logs/connectome_manipulation_2023-12-06_08h27.log\"\n",
    "main_log_file = \"/gpfs/bbp.cscs.ch/project/proj9/bisimplices/circuits/O1v5-SONATA__ConnRewireEnhanced670Kmc2EE/logs/connectome_manipulation_2023-12-06_08h28.log\"\n",
    "\n",
    "log_path, log_fn = os.path.split(main_log_file)  # Main log path/filename\n",
    "log_date = os.path.splitext(log_fn)[0].split('connectome_manipulation_')[1]\n",
    "log_date_alt = log_date.split('_')\n",
    "log_date_alt[-1] = (datetime.strptime(log_date_alt[-1], '%Hh%M') + timedelta(minutes=1)).strftime('%Hh%M')\n",
    "log_date_alt = '_'.join(log_date_alt)  # Alternative time (since log file names sometimes off by 1 minute)\n",
    "\n",
    "log_folders = [os.path.join(log_path, d) for d in os.listdir(log_path) if os.path.isdir(os.path.join(log_path, d))]\n",
    "data_log_splits = [f'{log_date}.RewiringIndices_{i + 1}_{N_split}.npz' for i in range(N_split)]\n",
    "data_log_splits_alt = [f'{log_date_alt}.RewiringIndices_{i + 1}_{N_split}.npz' for i in range(N_split)]  # Alternative names\n",
    "\n",
    "conn_count_orig_all = 0 # Overall input connection count\n",
    "conn_count_actu_all = 0 # Overall output connection count after rewiring (actual value)\n",
    "conn_count_orig_sel = 0 # Input connection count within selected rewiring target\n",
    "conn_count_actu_sel = 0 # Output connection count within selected rewiring target after rewiring (actual value)\n",
    "split_count = 0\n",
    "for split_name, alt_name in tqdm.tqdm(zip(data_log_splits, data_log_splits_alt), desc=\"Collecting log files\", total=N_split):\n",
    "    # Search for log file in all log folders\n",
    "    folder_name = None\n",
    "    file_name = None\n",
    "    for sp_nm in [split_name, alt_name]:\n",
    "        if sp_nm is None:\n",
    "            break\n",
    "        for fld in log_folders:\n",
    "            tmp_name = [fn for fn in os.listdir(fld) if sp_nm in fn]\n",
    "            assert len(tmp_name) <= 1, 'ERROR: Multiple files found in current folder!'\n",
    "            if len(tmp_name) == 1:  # Match\n",
    "                assert folder_name is None, 'ERROR: Folder not unique!'\n",
    "                assert file_name is None, 'ERROR: File not unique!'\n",
    "                folder_name = fld\n",
    "                file_name = tmp_name[0]\n",
    "        if folder_name is not None and file_name is not None:\n",
    "            break\n",
    "    assert folder_name is not None and file_name is not None, f'ERROR: Log file ..{split_name} not found!'\n",
    "\n",
    "    # Read log file\n",
    "    file_name = file_name.replace(\"Indices\", \"Stats\")  # In any case, the data log to load is the ..Stats.. one, if existing\n",
    "    dlog = os.path.join(folder_name, file_name)\n",
    "    if not os.path.exists(dlog):\n",
    "        continue\n",
    "    split_count += 1\n",
    "    stats_dict = np.load(dlog)\n",
    "    conn_count_orig_sel += np.sum(stats_dict['input_conn_count_sel'])\n",
    "    conn_count_orig_all += np.sum(stats_dict.get('input_conn_count', 0))\n",
    "    conn_count_actu_sel += np.sum(stats_dict['output_conn_count_sel'])\n",
    "    assert stats_dict['output_conn_count'] == np.sum(stats_dict['output_conn_count_sel']) + np.sum(stats_dict['input_conn_count']) - np.sum(stats_dict['input_conn_count_sel'])\n",
    "    conn_count_actu_all += stats_dict['output_conn_count']\n",
    "\n",
    "print(f'Non-empty splits: {split_count}/{N_split}')\n",
    "print(f'Overall: #Conns_orig = {conn_count_orig_all}, #Conns_rewired = {conn_count_actu_all}, DIFF = {conn_count_actu_all - conn_count_orig_all} ({100.0 * (conn_count_actu_all - conn_count_orig_all) / conn_count_orig_all:.2f}%)')\n",
    "print(f'Within wiring target: #Conns_orig = {conn_count_orig_sel}, #Conns_rewired = {conn_count_actu_sel}, DIFF = {conn_count_actu_sel - conn_count_orig_sel} ({100.0 * (conn_count_actu_sel - conn_count_orig_sel) / conn_count_orig_sel:.2f}%)')"
   ]
  },
  {
   "cell_type": "code",
   "execution_count": null,
   "metadata": {},
   "outputs": [],
   "source": []
  },
  {
   "cell_type": "markdown",
   "metadata": {},
   "source": [
    "Rewiring statistics:\n",
    "\n",
    "- `ConnRewireEnhanced100Kmc2EE`: #Conns = 6717001 (DIFF = 0), #Syns = 356901714 synapses (DIFF: -13595)\n",
    "- `ConnRewireEnhanced200Kmc2EE`: #Conns = 6717001 (DIFF = 0), #Syns = 356888639 synapses (DIFF: -26670)\n",
    "- `ConnRewireEnhanced300Kmc2EE`: #Conns = 6717001 (DIFF = 0), #Syns = 356876553 synapses (DIFF: -38756)\n",
    "- `ConnRewireEnhanced400Kmc2EE`: #Conns = 6717001 (DIFF = 0), #Syns = 356865138 synapses (DIFF: -50171)\n",
    "- `ConnRewireEnhanced500Kmc2EE`: #Conns = 6717001 (DIFF = 0), #Syns = 356852346 synapses (DIFF: -62963)\n",
    "- `ConnRewireEnhanced670Kmc2EE`: #Conns = 6717001 (DIFF = 0), #Syns = 356824988 synapses (DIFF: -90321)"
   ]
  },
  {
   "cell_type": "code",
   "execution_count": null,
   "metadata": {},
   "outputs": [],
   "source": []
  },
  {
   "cell_type": "markdown",
   "metadata": {},
   "source": [
    "### AFTER PREPROCESSING\n",
    "\n",
    "__Check connectomes__\n",
    "\n",
    "(Full MC2 connectomes)"
   ]
  },
  {
   "cell_type": "code",
   "execution_count": 2,
   "metadata": {},
   "outputs": [],
   "source": [
    "# # Load circuit & node ids corresponding to adjacency matrix\n",
    "# c = Circuit(\"/gpfs/bbp.cscs.ch/project/proj9/bisimplices/circuits/O1v5-SONATA/sonata/circuit_config_tmp.json\")\n",
    "# nodes = c.nodes[\"default\"]\n",
    "# mc2_nodeset = \"mc2_Column\"\n",
    "# nids = nodes.ids(mc2_nodeset)"
   ]
  },
  {
   "cell_type": "code",
   "execution_count": null,
   "metadata": {},
   "outputs": [],
   "source": [
    "# # Adjacency list\n",
    "# enhance_N = [100, 200, 300, 400, 500]\n",
    "# adj_list = [f\"/gpfs/bbp.cscs.ch/data/scratch/proj9/bisimplices/simulations/ConnRewireEnhanced{_n}Kmc2EE/working_dir/connectivity.npz\" for _n in enhance_N]\n",
    "# ref_list = [f\"/gpfs/bbp.cscs.ch/project/proj102/egas/reliability/manipulation_selection/data/V5_enhanced_mat_{_n}k.npz\" for _n in enhance_N]\n",
    "\n",
    "# for adj_file, ref_file in zip(adj_list, ref_list):\n",
    "#     print(f\"CHECKING {adj_file}...\", end=\"\")\n",
    "#     adj = sps.load_npz(adj_file)\n",
    "#     ref_adj = sps.load_npz(ref_file)\n",
    "\n",
    "#     assert np.array_equal(adj.toarray(), ref_adj.toarray()), \"ERROR: Adjacency mismatch!\"\n",
    "#     print(\"OK\")"
   ]
  },
  {
   "cell_type": "code",
   "execution_count": null,
   "metadata": {},
   "outputs": [],
   "source": []
  }
 ],
 "metadata": {
  "kernelspec": {
   "display_name": "ReWiringKernel",
   "language": "python",
   "name": "rewiringkernel"
  },
  "language_info": {
   "codemirror_mode": {
    "name": "ipython",
    "version": 3
   },
   "file_extension": ".py",
   "mimetype": "text/x-python",
   "name": "python",
   "nbconvert_exporter": "python",
   "pygments_lexer": "ipython3",
   "version": "3.10.8"
  }
 },
 "nbformat": 4,
 "nbformat_minor": 4
}
