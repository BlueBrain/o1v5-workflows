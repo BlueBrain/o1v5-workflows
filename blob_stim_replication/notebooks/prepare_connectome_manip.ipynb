{
 "cells": [
  {
   "cell_type": "markdown",
   "metadata": {},
   "source": [
    "# O1v5 connectome manipulation preparation\n",
    "\n",
    "This is an auxiliary notebook for configuring/testing O1v5-SONATA connectome manipulations, which\n",
    " - sets up connectome manipulations (removal, rewiring, ...)\n",
    " - writes .json config file(s) for running using <code>sbatch</code>\n",
    "\n",
    "<u>Requirements</u>: [connectome_manipulator](https://bbpgitlab.epfl.ch/conn/structural/connectome_manipulator/-/tree/adding_tests) package (for running manipulations)\n",
    "\n",
    "ℹ️ Related ticket: [[ACCS-44](https://bbpteam.epfl.ch/project/issues/browse/ACCS-44)]\n",
    "\n",
    "IMPORTANT: For running actual manipulations on BB5, use <code>sbatch run_manip.sh manip_config__[...].json</code>"
   ]
  },
  {
   "cell_type": "markdown",
   "metadata": {},
   "source": [
    "## Removing reciprocal connections\n",
    "\n",
    "* <code>conn_removal</code> operation\n",
    "* Connections to be removed given by (sparse) adjacency matrix\n"
   ]
  },
  {
   "cell_type": "code",
   "execution_count": 1,
   "metadata": {},
   "outputs": [],
   "source": [
    "# Imports\n",
    "import json\n",
    "import numpy as np\n",
    "import os\n",
    "import scipy.sparse as sps\n",
    "import sys\n",
    "sys.path.append('../workflows/')\n",
    "\n",
    "from bluepy import Circuit\n",
    "from GenerateCampaign_ParamProcessors import remove_connections"
   ]
  },
  {
   "cell_type": "code",
   "execution_count": 9,
   "metadata": {},
   "outputs": [],
   "source": [
    "# Settings\n",
    "cfg_path = '/gpfs/bbp.cscs.ch/project/proj9/bisimplices/pokorny/manip_configs' # '../configs'\n",
    "circ_base_name = 'RecipRemoval'\n",
    "remove_conns_mode = 'reciprocal'\n",
    "remove_conns_seed = 9900\n",
    "remove_conns_seed_mode = 'constant'\n",
    "target_files = []"
   ]
  },
  {
   "cell_type": "code",
   "execution_count": null,
   "metadata": {},
   "outputs": [],
   "source": []
  },
  {
   "cell_type": "markdown",
   "metadata": {},
   "source": [
    "### Prepare selections of connections to be removed"
   ]
  },
  {
   "cell_type": "markdown",
   "metadata": {},
   "source": [
    "__(a) Structured selection \"StructDim56\":__ Removal of all 14084 reciprocal connections in spines of simplices of dim 5 and 6"
   ]
  },
  {
   "cell_type": "code",
   "execution_count": 10,
   "metadata": {},
   "outputs": [
    {
     "name": "stdout",
     "output_type": "stream",
     "text": [
      "INFO: <SIM0> Randomly selected 14084 of 14084 reciprocal connections (6989 directions flipped) to be removed (amount=14084, seed=9900)!\n"
     ]
    }
   ],
   "source": [
    "c_name = circ_base_name + '_StructDim56'\n",
    "c_path = os.path.join(cfg_path, c_name, '0')\n",
    "if not os.path.exists(c_path):\n",
    "    os.makedirs(c_path)\n",
    "remove_conns_list = '/gpfs/bbp.cscs.ch/project/proj102/egas/reliability/data/V5_EXC_rc_pairs_56_spine.npy'\n",
    "remove_conns_amount = 14084\n",
    "\n",
    "rc = remove_connections(path=c_path, seed=None, circuit_config=None, circuit_target=None, remove_conns_list=remove_conns_list, remove_conns_mode=remove_conns_mode, remove_conns_amount=remove_conns_amount, remove_conns_seed=remove_conns_seed, remove_conns_seed_mode=remove_conns_seed_mode, custom_user_targets=[])\n",
    "target_files = target_files + rc['custom_user_targets']"
   ]
  },
  {
   "cell_type": "code",
   "execution_count": null,
   "metadata": {},
   "outputs": [],
   "source": []
  },
  {
   "cell_type": "markdown",
   "metadata": {},
   "source": [
    "__(b) Structured selection \"StructDim56/456\":__ Removal of all 40044 reciprocal connections in spines of simplices of dim 5, 6, and half of dim 4"
   ]
  },
  {
   "cell_type": "code",
   "execution_count": 11,
   "metadata": {},
   "outputs": [
    {
     "name": "stdout",
     "output_type": "stream",
     "text": [
      "INFO: <SIM0> Randomly selected 40044 of 40044 reciprocal connections (19779 directions flipped) to be removed (amount=40044, seed=9900)!\n"
     ]
    }
   ],
   "source": [
    "c_name = circ_base_name + '_StructDim56_456'\n",
    "c_path = os.path.join(cfg_path, c_name, '0')\n",
    "if not os.path.exists(c_path):\n",
    "    os.makedirs(c_path)\n",
    "remove_conns_list = '/gpfs/bbp.cscs.ch/project/proj102/egas/reliability/data/V5_EXC_rc_pairs_between_56_and_456_spine.npy'\n",
    "remove_conns_amount = 40044\n",
    "\n",
    "rc = remove_connections(path=c_path, seed=None, circuit_config=None, circuit_target=None, remove_conns_list=remove_conns_list, remove_conns_mode=remove_conns_mode, remove_conns_amount=remove_conns_amount, remove_conns_seed=remove_conns_seed, remove_conns_seed_mode=remove_conns_seed_mode, custom_user_targets=[])\n",
    "target_files = target_files + rc['custom_user_targets']"
   ]
  },
  {
   "cell_type": "code",
   "execution_count": null,
   "metadata": {},
   "outputs": [],
   "source": []
  },
  {
   "cell_type": "markdown",
   "metadata": {},
   "source": [
    "__(c) Structured selection \"StructDim456\":__ Removal of all 66005 reciprocal connections in spines of simplices of dim 4, 5, and 6"
   ]
  },
  {
   "cell_type": "code",
   "execution_count": 12,
   "metadata": {},
   "outputs": [
    {
     "name": "stdout",
     "output_type": "stream",
     "text": [
      "INFO: <SIM0> Randomly selected 66005 of 66005 reciprocal connections (33000 directions flipped) to be removed (amount=66005, seed=9900)!\n"
     ]
    }
   ],
   "source": [
    "c_name = circ_base_name + '_StructDim456'\n",
    "c_path = os.path.join(cfg_path, c_name, '0')\n",
    "if not os.path.exists(c_path):\n",
    "    os.makedirs(c_path)\n",
    "remove_conns_list = '/gpfs/bbp.cscs.ch/project/proj102/egas/reliability/data/V5_EXC_rc_pairs_456_spine.npy'\n",
    "remove_conns_amount = 66005\n",
    "\n",
    "rc = remove_connections(path=c_path, seed=None, circuit_config=None, circuit_target=None, remove_conns_list=remove_conns_list, remove_conns_mode=remove_conns_mode, remove_conns_amount=remove_conns_amount, remove_conns_seed=remove_conns_seed, remove_conns_seed_mode=remove_conns_seed_mode, custom_user_targets=[])\n",
    "target_files = target_files + rc['custom_user_targets']"
   ]
  },
  {
   "cell_type": "code",
   "execution_count": null,
   "metadata": {},
   "outputs": [],
   "source": []
  },
  {
   "cell_type": "markdown",
   "metadata": {},
   "source": [
    "__(d) Unstructured selection \"Unstruct\":__ Removal of 14084, 40044, 66005, and all 81540 reciprocal connections (randomly) selected from list of all reciprocal connections"
   ]
  },
  {
   "cell_type": "code",
   "execution_count": 13,
   "metadata": {},
   "outputs": [
    {
     "name": "stdout",
     "output_type": "stream",
     "text": [
      "INFO: <SIM0> Randomly selected 14084 of 81540 reciprocal connections (7121 directions flipped) to be removed (amount=14084, seed=9900)!\n",
      "INFO: <SIM1> Randomly selected 40044 of 81540 reciprocal connections (20020 directions flipped) to be removed (amount=40044, seed=9900)!\n",
      "INFO: <SIM2> Randomly selected 66005 of 81540 reciprocal connections (33033 directions flipped) to be removed (amount=66005, seed=9900)!\n",
      "INFO: <SIM3> Randomly selected 81540 of 81540 reciprocal connections (40764 directions flipped) to be removed (amount=81540, seed=9900)!\n"
     ]
    }
   ],
   "source": [
    "c_name = circ_base_name + '_Unstruct'\n",
    "remove_conns_list = '/gpfs/bbp.cscs.ch/project/proj102/egas/reliability/data/V5_EXC_rc_pairs_all.npy'\n",
    "remove_conns_amount_list = [14084, 40044, 66005, 81540]\n",
    "for sidx, remove_conns_amount in enumerate(remove_conns_amount_list):\n",
    "    c_path = os.path.join(cfg_path, c_name, str(sidx))\n",
    "    if not os.path.exists(c_path):\n",
    "        os.makedirs(c_path)\n",
    "\n",
    "    rc = remove_connections(path=c_path, seed=None, circuit_config=None, circuit_target=None, remove_conns_list=remove_conns_list, remove_conns_mode=remove_conns_mode, remove_conns_amount=remove_conns_amount, remove_conns_seed=remove_conns_seed, remove_conns_seed_mode=remove_conns_seed_mode, custom_user_targets=target_files)\n",
    "    target_files = target_files + rc['custom_user_targets']"
   ]
  },
  {
   "cell_type": "code",
   "execution_count": null,
   "metadata": {},
   "outputs": [],
   "source": []
  },
  {
   "cell_type": "code",
   "execution_count": 14,
   "metadata": {},
   "outputs": [
    {
     "name": "stdout",
     "output_type": "stream",
     "text": [
      "Target files:\n",
      "/gpfs/bbp.cscs.ch/project/proj9/bisimplices/pokorny/manip_configs/RecipRemoval_StructDim56/0/conns_removed.target\n",
      "/gpfs/bbp.cscs.ch/project/proj9/bisimplices/pokorny/manip_configs/RecipRemoval_StructDim56_456/0/conns_removed.target\n",
      "/gpfs/bbp.cscs.ch/project/proj9/bisimplices/pokorny/manip_configs/RecipRemoval_StructDim456/0/conns_removed.target\n",
      "/gpfs/bbp.cscs.ch/project/proj9/bisimplices/pokorny/manip_configs/RecipRemoval_Unstruct/0/conns_removed.target\n",
      "/gpfs/bbp.cscs.ch/project/proj9/bisimplices/pokorny/manip_configs/RecipRemoval_Unstruct/1/conns_removed.target\n",
      "/gpfs/bbp.cscs.ch/project/proj9/bisimplices/pokorny/manip_configs/RecipRemoval_Unstruct/2/conns_removed.target\n",
      "/gpfs/bbp.cscs.ch/project/proj9/bisimplices/pokorny/manip_configs/RecipRemoval_Unstruct/3/conns_removed.target\n"
     ]
    }
   ],
   "source": [
    "# Print target files\n",
    "print('Target files:')\n",
    "print('\\n'.join(target_files))"
   ]
  },
  {
   "cell_type": "code",
   "execution_count": null,
   "metadata": {},
   "outputs": [],
   "source": []
  },
  {
   "cell_type": "markdown",
   "metadata": {},
   "source": [
    "### Convert all connection targets to (sparse) adjacency matrices"
   ]
  },
  {
   "cell_type": "code",
   "execution_count": 15,
   "metadata": {},
   "outputs": [
    {
     "name": "stdout",
     "output_type": "stream",
     "text": [
      "Selected cell target with 26567 GIDs\n"
     ]
    }
   ],
   "source": [
    "circuit_config = '/gpfs/bbp.cscs.ch/project/proj9/bisimplices/circuits/O1v5-SONATA/CircuitConfig'\n",
    "cell_target = 'mc2_Column'\n",
    "cell_class = 'EXC'\n",
    "\n",
    "c = Circuit(circuit_config)\n",
    "gids = np.intersect1d(c.cells.ids(cell_target), c.cells.ids({'synapse_class': cell_class}))\n",
    "print(f'Selected cell target with {len(gids)} GIDs')"
   ]
  },
  {
   "cell_type": "code",
   "execution_count": 16,
   "metadata": {},
   "outputs": [
    {
     "name": "stdout",
     "output_type": "stream",
     "text": [
      "Created <26567x26567> adjacency matrix in CSC format with 14084 elements at /gpfs/bbp.cscs.ch/project/proj9/bisimplices/pokorny/manip_configs/RecipRemoval_StructDim56/0/conns_removed_adjmat.npz\n",
      "WARNING: Only 37069 of 40044 connections are unique!\n",
      "Created <26567x26567> adjacency matrix in CSC format with 37069 elements at /gpfs/bbp.cscs.ch/project/proj9/bisimplices/pokorny/manip_configs/RecipRemoval_StructDim56_456/0/conns_removed_adjmat.npz\n",
      "Created <26567x26567> adjacency matrix in CSC format with 66005 elements at /gpfs/bbp.cscs.ch/project/proj9/bisimplices/pokorny/manip_configs/RecipRemoval_StructDim456/0/conns_removed_adjmat.npz\n",
      "Created <26567x26567> adjacency matrix in CSC format with 14084 elements at /gpfs/bbp.cscs.ch/project/proj9/bisimplices/pokorny/manip_configs/RecipRemoval_Unstruct/0/conns_removed_adjmat.npz\n",
      "Created <26567x26567> adjacency matrix in CSC format with 40044 elements at /gpfs/bbp.cscs.ch/project/proj9/bisimplices/pokorny/manip_configs/RecipRemoval_Unstruct/1/conns_removed_adjmat.npz\n",
      "Created <26567x26567> adjacency matrix in CSC format with 66005 elements at /gpfs/bbp.cscs.ch/project/proj9/bisimplices/pokorny/manip_configs/RecipRemoval_Unstruct/2/conns_removed_adjmat.npz\n",
      "Created <26567x26567> adjacency matrix in CSC format with 81540 elements at /gpfs/bbp.cscs.ch/project/proj9/bisimplices/pokorny/manip_configs/RecipRemoval_Unstruct/3/conns_removed_adjmat.npz\n"
     ]
    }
   ],
   "source": [
    "adj_files = []\n",
    "for tgt_file in target_files:\n",
    "    npy_file = os.path.splitext(tgt_file)[0] + '.npy'\n",
    "    rc_conns = np.load(npy_file).T\n",
    "    assert np.all(np.isin(rc_conns, gids)), 'Reciprocal connection GIDs not found in selected circuit GIDs!'\n",
    "\n",
    "    gid_file = os.path.splitext(tgt_file)[0] + '_gids.npy'\n",
    "    np.save(gid_file, gids)\n",
    "\n",
    "    reindex_table = sps.csr_matrix((np.arange(len(gids), dtype=int), (np.zeros(len(gids), dtype=int), gids)))\n",
    "    rc_conns_reindex = np.array([reindex_table[0, rc_conns[:, d]].toarray().flatten() for d in range(rc_conns.shape[1])]).T\n",
    "    reidx_file = os.path.splitext(tgt_file)[0] + '_gid_to_idx.npz'\n",
    "    sps.save_npz(reidx_file, reindex_table)\n",
    "\n",
    "    adj_matrix = sps.csc_matrix((np.full(rc_conns_reindex.shape[0], True), rc_conns_reindex.T.tolist()), shape=(len(gids), len(gids)))\n",
    "    adj_file = os.path.splitext(tgt_file)[0] + '_adjmat.npz'\n",
    "    sps.save_npz(adj_file, adj_matrix)\n",
    "    adj_files.append(adj_file)\n",
    "\n",
    "    if adj_matrix.count_nonzero() != rc_conns.shape[0]:\n",
    "        print(f'WARNING: Only {adj_matrix.count_nonzero()} of {rc_conns.shape[0]} connections are unique!')\n",
    "    print(f'Created <{\"x\".join([str(sz) for sz in adj_matrix.shape])}> adjacency matrix in {adj_matrix.format.upper()} format with {adj_matrix.count_nonzero()} elements at {adj_file}')"
   ]
  },
  {
   "cell_type": "code",
   "execution_count": null,
   "metadata": {},
   "outputs": [],
   "source": []
  },
  {
   "cell_type": "markdown",
   "metadata": {},
   "source": [
    "### Create config files (.json) for running manipulations"
   ]
  },
  {
   "cell_type": "code",
   "execution_count": 17,
   "metadata": {},
   "outputs": [],
   "source": [
    "# Base circuit specifications\n",
    "circuit_path = '/gpfs/bbp.cscs.ch/project/proj9/bisimplices/circuits/O1v5-SONATA'\n",
    "circuit_name = os.path.split(circuit_path)[-1]\n",
    "circuit_config = os.path.join(circuit_path, 'sonata', 'circuit_config.json') # SONATA config (.json)\n",
    "blue_config = os.path.join(circuit_path, 'CircuitConfig_TC_BlobStim') # BlueConfig (to run simulations with)\n"
   ]
  },
  {
   "cell_type": "code",
   "execution_count": 92,
   "metadata": {},
   "outputs": [
    {
     "name": "stdout",
     "output_type": "stream",
     "text": [
      "Manipulation config written to \"/gpfs/bbp.cscs.ch/project/proj9/bisimplices/pokorny/manip_configs/manip_config__RecipRemoval_StructDim56-0.json\"\n",
      "Manipulation config written to \"/gpfs/bbp.cscs.ch/project/proj9/bisimplices/pokorny/manip_configs/manip_config__RecipRemoval_StructDim56_456-0.json\"\n",
      "Manipulation config written to \"/gpfs/bbp.cscs.ch/project/proj9/bisimplices/pokorny/manip_configs/manip_config__RecipRemoval_StructDim456-0.json\"\n",
      "Manipulation config written to \"/gpfs/bbp.cscs.ch/project/proj9/bisimplices/pokorny/manip_configs/manip_config__RecipRemoval_Unstruct-0.json\"\n",
      "Manipulation config written to \"/gpfs/bbp.cscs.ch/project/proj9/bisimplices/pokorny/manip_configs/manip_config__RecipRemoval_Unstruct-1.json\"\n",
      "Manipulation config written to \"/gpfs/bbp.cscs.ch/project/proj9/bisimplices/pokorny/manip_configs/manip_config__RecipRemoval_Unstruct-2.json\"\n",
      "Manipulation config written to \"/gpfs/bbp.cscs.ch/project/proj9/bisimplices/pokorny/manip_configs/manip_config__RecipRemoval_Unstruct-3.json\"\n"
     ]
    }
   ],
   "source": [
    "# Generate set of config files\n",
    "manip_sel = {'node_set': cell_target, 'synapse_class': cell_class} # Manipulation target selection (same for pre/post neurons) [must match size of adj. matrices!!]\n",
    "manip_files = []\n",
    "for fn in adj_files:\n",
    "    manip_config = {}\n",
    "    manip_name = os.path.split(os.path.relpath(fn, cfg_path))[0].replace(os.path.sep, '-')\n",
    "\n",
    "    # General settings\n",
    "    manip_config['circuit_path'] = circuit_path\n",
    "    manip_config['circuit_config'] = os.path.relpath(circuit_config, circuit_path) # SONATA (.json) format; path rel. to 'circuit_path'\n",
    "    manip_config['output_path'] = manip_config['circuit_path'] + '__' + manip_name\n",
    "    manip_config['blue_config_to_update'] = os.path.relpath(blue_config, circuit_path) # Optional; path rel. to 'circuit_path'\n",
    "    manip_config['workflow_template'] = 'bbp-workflow_RegisterCircuit.cfg' # Optional; to create bbp-workflow config from [Must be within same folder as configs & launch script]\n",
    "    manip_config['seed'] = 0\n",
    "    manip_config['N_split_nodes'] = 1\n",
    "\n",
    "    # Manipulation settings\n",
    "    manip_config['manip'] = {'name': manip_name, 'fcts': [{'source': 'conn_removal', 'kwargs': {'sel_src': manip_sel, 'sel_dest': manip_sel, 'amount_pct': 100.0, 'conn_mask_file': os.path.abspath(fn)}}]}\n",
    "\n",
    "    # Write config to .json file\n",
    "    manip_file = os.path.join(cfg_path, f'manip_config__{manip_name}.json')\n",
    "    with open(manip_file, 'w') as f:\n",
    "        json.dump(manip_config, f, indent=2)\n",
    "    manip_files.append(manip_file)\n",
    "    print(f'Manipulation config written to \"{manip_file}\"')\n"
   ]
  },
  {
   "cell_type": "code",
   "execution_count": null,
   "metadata": {},
   "outputs": [],
   "source": []
  },
  {
   "cell_type": "markdown",
   "metadata": {},
   "source": [
    "__Running manipulation using <code>sbatch</code>:__\n",
    "\n",
    "<u>Command</u>:\n",
    "\n",
    "<code>sbatch run_manip.sh <manip_config.json> [do_profiling] [do_resume] [keep_parquet]</code>\n",
    "\n",
    "<u>Example</u>:\n",
    "\n",
    "<code>sbatch run_manip.sh <manip_config.json> 1 0 0</code>"
   ]
  },
  {
   "cell_type": "code",
   "execution_count": null,
   "metadata": {},
   "outputs": [],
   "source": []
  },
  {
   "cell_type": "markdown",
   "metadata": {},
   "source": [
    "### Check manipulated circuits"
   ]
  },
  {
   "cell_type": "code",
   "execution_count": 52,
   "metadata": {},
   "outputs": [
    {
     "name": "stdout",
     "output_type": "stream",
     "text": [
      "Original circuit: 219422 neurons in total; 6717001 connections between 26567x26567 selected neurons\n"
     ]
    }
   ],
   "source": [
    "# Original circuit\n",
    "conns = np.array(list(c.connectome.iter_connections(pre=gids, post=gids)))\n",
    "reindex_table = sps.csr_matrix((np.arange(len(gids), dtype=int), (np.zeros(len(gids), dtype=int), gids)))\n",
    "conns_reindex = np.array([reindex_table[0, conns[:, d]].toarray().flatten() for d in range(conns.shape[1])]).T\n",
    "adj_matrix = sps.csc_matrix((np.full(conns_reindex.shape[0], True), conns_reindex.T.tolist()), shape=(len(gids), len(gids)))\n",
    "print(f'Original circuit: {len(c.cells.ids())} neurons in total; {conns.shape[0]} connections between {len(gids)}x{len(gids)} selected neurons')"
   ]
  },
  {
   "cell_type": "code",
   "execution_count": 101,
   "metadata": {},
   "outputs": [
    {
     "name": "stdout",
     "output_type": "stream",
     "text": [
      "RecipRemoval_StructDim56-0: 219422 neurons in total; 6702917 connections between 26567x26567 selected neurons (DIFF: -14084)\n",
      "RecipRemoval_StructDim56_456-0: NOT FOUND!\n",
      "RecipRemoval_StructDim456-0: 219422 neurons in total; 6650996 connections between 26567x26567 selected neurons (DIFF: -66005)\n",
      "RecipRemoval_Unstruct-0: 219422 neurons in total; 6702917 connections between 26567x26567 selected neurons (DIFF: -14084)\n",
      "RecipRemoval_Unstruct-1: NOT FOUND!\n",
      "RecipRemoval_Unstruct-2: 219422 neurons in total; 6650996 connections between 26567x26567 selected neurons (DIFF: -66005)\n",
      "RecipRemoval_Unstruct-3: 219422 neurons in total; 6635461 connections between 26567x26567 selected neurons (DIFF: -81540)\n"
     ]
    }
   ],
   "source": [
    "# Manipulated circuits\n",
    "for manip_file in manip_files:\n",
    "    with open(manip_file, 'r') as f:\n",
    "        manip_config = json.load(f)\n",
    "    circuit_config_manip = os.path.join(manip_config['output_path'], manip_config['blue_config_to_update'] + '_' + manip_config['manip']['name'])\n",
    "    if not os.path.exists(circuit_config_manip):\n",
    "        print(f'{manip_config[\"manip\"][\"name\"]}: NOT FOUND!')\n",
    "        continue\n",
    "\n",
    "    c_manip = Circuit(circuit_config_manip)\n",
    "    assert np.array_equal(c.cells.ids(), c_manip.cells.ids()), 'ERROR: GID mismatch!'\n",
    "\n",
    "    conn_mask = sps.load_npz(manip_config['manip']['fcts'][0]['kwargs']['conn_mask_file'])\n",
    "    conns_manip = np.array(list(c_manip.connectome.iter_connections(pre=gids, post=gids)))\n",
    "    assert conns_manip.shape[0] + conn_mask.count_nonzero() == conns.shape[0], 'ERROR: Removed connection count mismatch!'\n",
    "\n",
    "    conns_manip_reindex = np.array([reindex_table[0, conns_manip[:, d]].toarray().flatten() for d in range(conns_manip.shape[1])]).T\n",
    "    adj_matrix_manip = sps.csc_matrix((np.full(conns_manip_reindex.shape[0], True), conns_manip_reindex.T.tolist()), shape=(len(gids), len(gids)))\n",
    "    assert np.array_equal(adj_matrix.toarray(), adj_matrix_manip.toarray() + conn_mask.toarray()), 'ERROR: Removed connections mismatch!'\n",
    "\n",
    "    print(f'{manip_config[\"manip\"][\"name\"]}: {len(c_manip.cells.ids())} neurons in total; {conns_manip.shape[0]} connections between {len(gids)}x{len(gids)} selected neurons (DIFF: {conns_manip.shape[0] - conns.shape[0]})')"
   ]
  },
  {
   "cell_type": "code",
   "execution_count": null,
   "metadata": {},
   "outputs": [],
   "source": []
  },
  {
   "cell_type": "markdown",
   "metadata": {},
   "source": [
    "### Keeping track of registered Nexus URLs of manipulated circuits (to be used in simulations):\n",
    "\n",
    "<u>Command to register manipulated circuit</u>: (within circuit folder)\n",
    "\n",
    "<code>bbp-workflow launch --follow --config workflows/bbp-workflow_RegisterCircuit_\\<manip_name\\>.cfg bbp_workflow.circuit.task RegisterDetailedCircuit</code>\n",
    "\n",
    "<u>Circuit names \\& URLs</u>:\n",
    "\n",
    "* O1v5-SONATA_RecipRemoval_StructDim56-0: `https://bbp.epfl.ch/nexus/v1/resources/bbp/somatosensorycortex/_/79abd252-c82f-478d-abc1-282b525f39d8`\n",
    "* O1v5-SONATA_RecipRemoval_StructDim56_456-0: `TO BE ADDED!`\n",
    "* O1v5-SONATA_RecipRemoval_StructDim456-0: `https://bbp.epfl.ch/nexus/v1/resources/bbp/somatosensorycortex/_/a4fb3732-ce47-4933-9d45-fa709d539ac8`\n",
    "* O1v5-SONATA_RecipRemoval_Unstruct-0: `https://bbp.epfl.ch/nexus/v1/resources/bbp/somatosensorycortex/_/35731d94-de49-47b4-97b2-0820700b7800`\n",
    "* O1v5-SONATA_RecipRemoval_Unstruct-1: `TO BE ADDED!`\n",
    "* O1v5-SONATA_RecipRemoval_Unstruct-2: `https://bbp.epfl.ch/nexus/v1/resources/bbp/somatosensorycortex/_/045c9e35-f6e6-4cf1-a047-98739830e68f`\n",
    "* O1v5-SONATA_RecipRemoval_Unstruct-3: `https://bbp.epfl.ch/nexus/v1/resources/bbp/somatosensorycortex/_/39d763de-1cf8-4f58-90fe-f81311f31fd2`"
   ]
  },
  {
   "cell_type": "code",
   "execution_count": null,
   "metadata": {},
   "outputs": [],
   "source": []
  },
  {
   "cell_type": "code",
   "execution_count": null,
   "metadata": {},
   "outputs": [],
   "source": []
  },
  {
   "cell_type": "code",
   "execution_count": null,
   "metadata": {},
   "outputs": [],
   "source": []
  }
 ],
 "metadata": {
  "kernelspec": {
   "display_name": "BbpWorkflowKernel",
   "language": "python",
   "name": "bbpworkflowkernel"
  },
  "language_info": {
   "codemirror_mode": {
    "name": "ipython",
    "version": 3
   },
   "file_extension": ".py",
   "mimetype": "text/x-python",
   "name": "python",
   "nbconvert_exporter": "python",
   "pygments_lexer": "ipython3",
   "version": "3.9.7"
  }
 },
 "nbformat": 4,
 "nbformat_minor": 4
}
