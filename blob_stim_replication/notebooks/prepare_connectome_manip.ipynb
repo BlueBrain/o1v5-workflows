{
 "cells": [
  {
   "cell_type": "markdown",
   "metadata": {},
   "source": [
    "# O1v5 connectome manipulation preparation\n",
    "\n",
    "This is an auxiliary notebook for configuring/testing O1v5-SONATA connectome manipulations, which\n",
    " - sets up connectome manipulations (removal, rewiring, ...)\n",
    " - writes .json config file(s) for running using <code>sbatch</code>\n",
    "\n",
    "<u>Requirements</u>: [connectome_manipulator](https://bbpgitlab.epfl.ch/conn/structural/connectome_manipulator/-/tree/adding_tests) package (for running manipulations)\n",
    "\n",
    "ℹ️ Related ticket: [[ACCS-44](https://bbpteam.epfl.ch/project/issues/browse/ACCS-44)]\n",
    "\n",
    "IMPORTANT: For running actual manipulations on BB5, use <code>sbatch run_manip.sh manip_config__[...].json</code>"
   ]
  },
  {
   "cell_type": "markdown",
   "metadata": {},
   "source": [
    "## Removing reciprocal connections\n",
    "\n",
    "* <code>conn_removal</code> operation\n",
    "* Connections to be removed given by (sparse) adjacency matrix\n"
   ]
  },
  {
   "cell_type": "code",
   "execution_count": 1,
   "metadata": {},
   "outputs": [],
   "source": [
    "# Imports\n",
    "import numpy as np\n",
    "import os\n",
    "import scipy.sparse as sps\n",
    "import sys\n",
    "sys.path.append('../workflows/')\n",
    "\n",
    "from bluepy import Circuit\n",
    "from GenerateCampaign_ParamProcessors import remove_connections"
   ]
  },
  {
   "cell_type": "code",
   "execution_count": 2,
   "metadata": {},
   "outputs": [],
   "source": [
    "# Settings\n",
    "cfg_path = '../configs'\n",
    "circ_base_name = 'RecipRemoval'\n",
    "remove_conns_mode = 'reciprocal'\n",
    "remove_conns_seed = 9900\n",
    "remove_conns_seed_mode = 'constant'\n",
    "target_files = []"
   ]
  },
  {
   "cell_type": "code",
   "execution_count": null,
   "metadata": {},
   "outputs": [],
   "source": []
  },
  {
   "cell_type": "markdown",
   "metadata": {},
   "source": [
    "### Prepare selections of connections to be removed"
   ]
  },
  {
   "cell_type": "markdown",
   "metadata": {},
   "source": [
    "__(a) Structured selection \"StructDim56\":__ Removal of all 14084 reciprocal connections in spines of simplices of dim 5 and 6"
   ]
  },
  {
   "cell_type": "code",
   "execution_count": 3,
   "metadata": {},
   "outputs": [
    {
     "name": "stdout",
     "output_type": "stream",
     "text": [
      "INFO: <SIM0> Randomly selected 14084 of 14084 reciprocal connections (6989 directions flipped) to be removed (amount=14084, seed=9900)!\n"
     ]
    }
   ],
   "source": [
    "c_name = circ_base_name + '_StructDim56'\n",
    "c_path = os.path.join(cfg_path, c_name, '0')\n",
    "if not os.path.exists(c_path):\n",
    "    os.makedirs(c_path)\n",
    "remove_conns_list = '/gpfs/bbp.cscs.ch/project/proj102/egas/reliability/data/V5_EXC_rc_pairs_56_spine.npy'\n",
    "remove_conns_amount = 14084\n",
    "\n",
    "rc = remove_connections(path=c_path, seed=None, circuit_config=None, circuit_target=None, remove_conns_list=remove_conns_list, remove_conns_mode=remove_conns_mode, remove_conns_amount=remove_conns_amount, remove_conns_seed=remove_conns_seed, remove_conns_seed_mode=remove_conns_seed_mode, custom_user_targets=[])\n",
    "target_files = target_files + rc['custom_user_targets']"
   ]
  },
  {
   "cell_type": "code",
   "execution_count": null,
   "metadata": {},
   "outputs": [],
   "source": []
  },
  {
   "cell_type": "markdown",
   "metadata": {},
   "source": [
    "__(b) Structured selection \"StructDim56/456\":__ Removal of all 40044 reciprocal connections in spines of simplices of dim 5, 6, and half of dim 4"
   ]
  },
  {
   "cell_type": "code",
   "execution_count": 4,
   "metadata": {},
   "outputs": [
    {
     "name": "stdout",
     "output_type": "stream",
     "text": [
      "INFO: <SIM0> Randomly selected 40044 of 40044 reciprocal connections (19779 directions flipped) to be removed (amount=40044, seed=9900)!\n"
     ]
    }
   ],
   "source": [
    "c_name = circ_base_name + '_StructDim56_456'\n",
    "c_path = os.path.join(cfg_path, c_name, '0')\n",
    "if not os.path.exists(c_path):\n",
    "    os.makedirs(c_path)\n",
    "remove_conns_list = '/gpfs/bbp.cscs.ch/project/proj102/egas/reliability/data/V5_EXC_rc_pairs_between_56_and_456_spine.npy'\n",
    "remove_conns_amount = 40044\n",
    "\n",
    "rc = remove_connections(path=c_path, seed=None, circuit_config=None, circuit_target=None, remove_conns_list=remove_conns_list, remove_conns_mode=remove_conns_mode, remove_conns_amount=remove_conns_amount, remove_conns_seed=remove_conns_seed, remove_conns_seed_mode=remove_conns_seed_mode, custom_user_targets=[])\n",
    "target_files = target_files + rc['custom_user_targets']"
   ]
  },
  {
   "cell_type": "code",
   "execution_count": null,
   "metadata": {},
   "outputs": [],
   "source": []
  },
  {
   "cell_type": "markdown",
   "metadata": {},
   "source": [
    "__(c) Structured selection \"StructDim456\":__ Removal of all 66005 reciprocal connections in spines of simplices of dim 4, 5, and 6"
   ]
  },
  {
   "cell_type": "code",
   "execution_count": 5,
   "metadata": {},
   "outputs": [
    {
     "name": "stdout",
     "output_type": "stream",
     "text": [
      "INFO: <SIM0> Randomly selected 66005 of 66005 reciprocal connections (33000 directions flipped) to be removed (amount=66005, seed=9900)!\n"
     ]
    }
   ],
   "source": [
    "c_name = circ_base_name + '_StructDim456'\n",
    "c_path = os.path.join(cfg_path, c_name, '0')\n",
    "if not os.path.exists(c_path):\n",
    "    os.makedirs(c_path)\n",
    "remove_conns_list = '/gpfs/bbp.cscs.ch/project/proj102/egas/reliability/data/V5_EXC_rc_pairs_456_spine.npy'\n",
    "remove_conns_amount = 66005\n",
    "\n",
    "rc = remove_connections(path=c_path, seed=None, circuit_config=None, circuit_target=None, remove_conns_list=remove_conns_list, remove_conns_mode=remove_conns_mode, remove_conns_amount=remove_conns_amount, remove_conns_seed=remove_conns_seed, remove_conns_seed_mode=remove_conns_seed_mode, custom_user_targets=[])\n",
    "target_files = target_files + rc['custom_user_targets']"
   ]
  },
  {
   "cell_type": "code",
   "execution_count": null,
   "metadata": {},
   "outputs": [],
   "source": []
  },
  {
   "cell_type": "markdown",
   "metadata": {},
   "source": [
    "__(d) Unstructured selection \"Unstruct\":__ Removal of 14084, 40044, 66005, and all 81540 reciprocal connections (randomly) selected from list of all reciprocal connections"
   ]
  },
  {
   "cell_type": "code",
   "execution_count": 6,
   "metadata": {},
   "outputs": [
    {
     "name": "stdout",
     "output_type": "stream",
     "text": [
      "INFO: <SIM0> Randomly selected 14084 of 81540 reciprocal connections (7121 directions flipped) to be removed (amount=14084, seed=9900)!\n",
      "INFO: <SIM1> Randomly selected 40044 of 81540 reciprocal connections (20020 directions flipped) to be removed (amount=40044, seed=9900)!\n",
      "INFO: <SIM2> Randomly selected 66005 of 81540 reciprocal connections (33033 directions flipped) to be removed (amount=66005, seed=9900)!\n",
      "INFO: <SIM3> Randomly selected 81540 of 81540 reciprocal connections (40764 directions flipped) to be removed (amount=81540, seed=9900)!\n"
     ]
    }
   ],
   "source": [
    "c_name = circ_base_name + '_Unstruct'\n",
    "remove_conns_list = '/gpfs/bbp.cscs.ch/project/proj102/egas/reliability/data/V5_EXC_rc_pairs_all.npy'\n",
    "remove_conns_amount_list = [14084, 40044, 66005, 81540]\n",
    "for sidx, remove_conns_amount in enumerate(remove_conns_amount_list):\n",
    "    c_path = os.path.join(cfg_path, c_name, str(sidx))\n",
    "    if not os.path.exists(c_path):\n",
    "        os.makedirs(c_path)\n",
    "\n",
    "    rc = remove_connections(path=c_path, seed=None, circuit_config=None, circuit_target=None, remove_conns_list=remove_conns_list, remove_conns_mode=remove_conns_mode, remove_conns_amount=remove_conns_amount, remove_conns_seed=remove_conns_seed, remove_conns_seed_mode=remove_conns_seed_mode, custom_user_targets=target_files)\n",
    "    target_files = target_files + rc['custom_user_targets']"
   ]
  },
  {
   "cell_type": "code",
   "execution_count": null,
   "metadata": {},
   "outputs": [],
   "source": []
  },
  {
   "cell_type": "code",
   "execution_count": 7,
   "metadata": {},
   "outputs": [
    {
     "name": "stdout",
     "output_type": "stream",
     "text": [
      "Target files:\n",
      "../configs/RecipRemoval_StructDim56/0/conns_removed.target\n",
      "../configs/RecipRemoval_StructDim56_456/0/conns_removed.target\n",
      "../configs/RecipRemoval_StructDim456/0/conns_removed.target\n",
      "../configs/RecipRemoval_Unstruct/0/conns_removed.target\n",
      "../configs/RecipRemoval_Unstruct/1/conns_removed.target\n",
      "../configs/RecipRemoval_Unstruct/2/conns_removed.target\n",
      "../configs/RecipRemoval_Unstruct/3/conns_removed.target\n"
     ]
    }
   ],
   "source": [
    "# Print target files\n",
    "print('Target files:')\n",
    "print('\\n'.join(target_files))"
   ]
  },
  {
   "cell_type": "code",
   "execution_count": null,
   "metadata": {},
   "outputs": [],
   "source": []
  },
  {
   "cell_type": "markdown",
   "metadata": {},
   "source": [
    "### Convert all connection targets to (sparse) adjacency matrices"
   ]
  },
  {
   "cell_type": "code",
   "execution_count": 8,
   "metadata": {},
   "outputs": [
    {
     "name": "stdout",
     "output_type": "stream",
     "text": [
      "Selected cell target with 26567 GIDs\n"
     ]
    }
   ],
   "source": [
    "circuit_config = '/gpfs/bbp.cscs.ch/project/proj9/bisimplices/circuits/O1v5-SONATA/CircuitConfig'\n",
    "cell_target = 'mc2_Column'\n",
    "cell_class = 'EXC'\n",
    "\n",
    "c = Circuit(circuit_config)\n",
    "gids = np.intersect1d(c.cells.ids(cell_target), c.cells.ids({'synapse_class': cell_class}))\n",
    "print(f'Selected cell target with {len(gids)} GIDs')"
   ]
  },
  {
   "cell_type": "code",
   "execution_count": 10,
   "metadata": {},
   "outputs": [
    {
     "name": "stdout",
     "output_type": "stream",
     "text": [
      "Created <26567x26567> adjacency matrix in CSC format with 14084 elements at ../configs/RecipRemoval_StructDim56/0/conns_removed_adjmat.npz\n",
      "Created <26567x26567> adjacency matrix in CSC format with 37069 elements at ../configs/RecipRemoval_StructDim56_456/0/conns_removed_adjmat.npz\n",
      "Created <26567x26567> adjacency matrix in CSC format with 66005 elements at ../configs/RecipRemoval_StructDim456/0/conns_removed_adjmat.npz\n",
      "Created <26567x26567> adjacency matrix in CSC format with 14084 elements at ../configs/RecipRemoval_Unstruct/0/conns_removed_adjmat.npz\n",
      "Created <26567x26567> adjacency matrix in CSC format with 40044 elements at ../configs/RecipRemoval_Unstruct/1/conns_removed_adjmat.npz\n",
      "Created <26567x26567> adjacency matrix in CSC format with 66005 elements at ../configs/RecipRemoval_Unstruct/2/conns_removed_adjmat.npz\n",
      "Created <26567x26567> adjacency matrix in CSC format with 81540 elements at ../configs/RecipRemoval_Unstruct/3/conns_removed_adjmat.npz\n"
     ]
    }
   ],
   "source": [
    "for tgt_file in target_files:\n",
    "    npy_file = os.path.splitext(tgt_file)[0] + '.npy'\n",
    "    rc_conns = np.load(npy_file).T\n",
    "    assert np.all(np.isin(rc_conns, gids)), 'Reciprocal connection GIDs not found in selected circuit GIDs!'\n",
    "\n",
    "    gid_file = os.path.splitext(tgt_file)[0] + '_gids.npy'\n",
    "    np.save(gid_file, gids)\n",
    "\n",
    "    reindex_table = sps.csr_matrix((np.arange(len(gids), dtype=int), (np.zeros(len(gids), dtype=int), gids)))\n",
    "    rc_conns_reindex = np.array([reindex_table[0, rc_conns[:, d]].toarray().flatten() for d in range(rc_conns.shape[1])]).T\n",
    "    reidx_file = os.path.splitext(tgt_file)[0] + '_gid_to_idx.npz'\n",
    "    sps.save_npz(reidx_file, reindex_table)\n",
    "\n",
    "    adj_matrix = sps.csc_matrix((np.full(rc_conns_reindex.shape[0], True), rc_conns_reindex.T.tolist()), shape=(len(gids), len(gids)))\n",
    "    adj_file = os.path.splitext(tgt_file)[0] + '_adjmat.npz'\n",
    "    sps.save_npz(adj_file, adj_matrix)\n",
    "\n",
    "    print(f'Created <{\"x\".join([str(sz) for sz in adj_matrix.shape])}> adjacency matrix in {adj_matrix.format.upper()} format with {adj_matrix.count_nonzero()} elements at {adj_file}')"
   ]
  },
  {
   "cell_type": "code",
   "execution_count": null,
   "metadata": {},
   "outputs": [],
   "source": []
  },
  {
   "cell_type": "markdown",
   "metadata": {},
   "source": [
    "### Create config files (.json) for running manipulations"
   ]
  },
  {
   "cell_type": "code",
   "execution_count": null,
   "metadata": {},
   "outputs": [],
   "source": [
    "# TODO"
   ]
  },
  {
   "cell_type": "code",
   "execution_count": null,
   "metadata": {},
   "outputs": [],
   "source": []
  }
 ],
 "metadata": {
  "kernelspec": {
   "display_name": "BbpWorkflowKernel",
   "language": "python",
   "name": "bbpworkflowkernel"
  },
  "language_info": {
   "codemirror_mode": {
    "name": "ipython",
    "version": 3
   },
   "file_extension": ".py",
   "mimetype": "text/x-python",
   "name": "python",
   "nbconvert_exporter": "python",
   "pygments_lexer": "ipython3",
   "version": "3.9.7"
  }
 },
 "nbformat": 4,
 "nbformat_minor": 4
}
