{
 "cells": [
  {
   "cell_type": "markdown",
   "metadata": {},
   "source": [
    "# Project cleanup\n",
    "\n",
    "ℹ️ Google sheets: [Project cleanup](https://docs.google.com/spreadsheets/d/19DERy74n39fKK4UIHRbTDjg2iqFyrCW4YZeMixO5Rlo/edit?gid=0#gid=0)"
   ]
  },
  {
   "cell_type": "code",
   "execution_count": 2,
   "metadata": {},
   "outputs": [],
   "source": [
    "import os"
   ]
  },
  {
   "cell_type": "code",
   "execution_count": 6,
   "metadata": {},
   "outputs": [
    {
     "name": "stdout",
     "output_type": "stream",
     "text": [
      "/gpfs/bbp.cscs.ch/data/scratch/proj9/bisimplices/simulations/BlobStimReliability_O1v5-SONATA;/gpfs/bbp.cscs.ch/data/scratch/proj9/bisimplices/bbp_workflow/ee14a338-f86a-404c-b8b8-5fb7e3cf3892;https://bbp.epfl.ch/nexus/v1/resources/bbp/somatosensorycortex/_/https:%2F%2Fbbp.epfl.ch%2Fneurosciencegraph%2Fdata%2Fee14a338-f86a-404c-b8b8-5fb7e3cf3892\n",
      "/gpfs/bbp.cscs.ch/data/scratch/proj9/bisimplices/simulations/BlobStimReliability_O1v5-SONATA_2;/gpfs/bbp.cscs.ch/data/scratch/proj9/bisimplices/bbp_workflow/671d8005-3b38-4c95-959a-a504d988d413;https://bbp.epfl.ch/nexus/v1/resources/bbp/somatosensorycortex/_/https:%2F%2Fbbp.epfl.ch%2Fneurosciencegraph%2Fdata%2F671d8005-3b38-4c95-959a-a504d988d413\n",
      "/gpfs/bbp.cscs.ch/data/scratch/proj9/bisimplices/simulations/BlobStimReliability_O1v5-SONATA_3;/gpfs/bbp.cscs.ch/data/scratch/proj9/bisimplices/bbp_workflow/8394d8f7-0a32-437f-bdaf-e32f95c6f2fb;https://bbp.epfl.ch/nexus/v1/resources/bbp/somatosensorycortex/_/https:%2F%2Fbbp.epfl.ch%2Fneurosciencegraph%2Fdata%2F8394d8f7-0a32-437f-bdaf-e32f95c6f2fb\n",
      "/gpfs/bbp.cscs.ch/data/scratch/proj9/bisimplices/simulations/BlobStimReliability_O1v5-SONATA_Baseline;/gpfs/bbp.cscs.ch/data/scratch/proj9/bisimplices/bbp_workflow/aa69cb36-0e6d-41bf-9130-6e203063a1f2;https://bbp.epfl.ch/nexus/v1/resources/bbp/somatosensorycortex/_/https:%2F%2Fbbp.epfl.ch%2Fneurosciencegraph%2Fdata%2Faa69cb36-0e6d-41bf-9130-6e203063a1f2\n",
      "/gpfs/bbp.cscs.ch/data/scratch/proj9/bisimplices/simulations/BlobStimReliability_O1v5-SONATA_ConnAdd_Control0x16;/gpfs/bbp.cscs.ch/data/scratch/proj9/bisimplices/bbp_workflow/d4e2b48e-2faa-46cf-a099-2489f10a45e8;https://bbp.epfl.ch/nexus/v1/resources/bbp/somatosensorycortex/_/https:%2F%2Fbbp.epfl.ch%2Fneurosciencegraph%2Fdata%2Fd4e2b48e-2faa-46cf-a099-2489f10a45e8\n",
      "/gpfs/bbp.cscs.ch/data/scratch/proj9/bisimplices/simulations/BlobStimReliability_O1v5-SONATA_ConnAdd_Control0x2;/gpfs/bbp.cscs.ch/data/scratch/proj9/bisimplices/bbp_workflow/88062685-3ebf-4571-9c2e-e8246bd4ccd5;https://bbp.epfl.ch/nexus/v1/resources/bbp/somatosensorycortex/_/https:%2F%2Fbbp.epfl.ch%2Fneurosciencegraph%2Fdata%2F88062685-3ebf-4571-9c2e-e8246bd4ccd5\n",
      "/gpfs/bbp.cscs.ch/data/scratch/proj9/bisimplices/simulations/BlobStimReliability_O1v5-SONATA_ConnAdd_Control0x3;/gpfs/bbp.cscs.ch/data/scratch/proj9/bisimplices/bbp_workflow/affa5a4e-848c-46ed-af11-32b3a1a072c4;https://bbp.epfl.ch/nexus/v1/resources/bbp/somatosensorycortex/_/https:%2F%2Fbbp.epfl.ch%2Fneurosciencegraph%2Fdata%2Faffa5a4e-848c-46ed-af11-32b3a1a072c4\n",
      "/gpfs/bbp.cscs.ch/data/scratch/proj9/bisimplices/simulations/BlobStimReliability_O1v5-SONATA_ConnAdd_Control0x4;/gpfs/bbp.cscs.ch/data/scratch/proj9/bisimplices/bbp_workflow/fe8ee7cb-183e-4676-be39-d261e030bdb6;https://bbp.epfl.ch/nexus/v1/resources/bbp/somatosensorycortex/_/https:%2F%2Fbbp.epfl.ch%2Fneurosciencegraph%2Fdata%2Ffe8ee7cb-183e-4676-be39-d261e030bdb6\n",
      "/gpfs/bbp.cscs.ch/data/scratch/proj9/bisimplices/simulations/BlobStimReliability_O1v5-SONATA_ConnAdd_Control0x5;/gpfs/bbp.cscs.ch/data/scratch/proj9/bisimplices/bbp_workflow/e8556404-3a59-442e-9776-d198e06cef86;https://bbp.epfl.ch/nexus/v1/resources/bbp/somatosensorycortex/_/https:%2F%2Fbbp.epfl.ch%2Fneurosciencegraph%2Fdata%2Fe8556404-3a59-442e-9776-d198e06cef86\n",
      "/gpfs/bbp.cscs.ch/data/scratch/proj9/bisimplices/simulations/BlobStimReliability_O1v5-SONATA_ConnAdd_Control0x8;/gpfs/bbp.cscs.ch/data/scratch/proj9/bisimplices/bbp_workflow/364338ae-7913-4790-8d3a-3080fea42633;https://bbp.epfl.ch/nexus/v1/resources/bbp/somatosensorycortex/_/https:%2F%2Fbbp.epfl.ch%2Fneurosciencegraph%2Fdata%2F364338ae-7913-4790-8d3a-3080fea42633\n",
      "/gpfs/bbp.cscs.ch/data/scratch/proj9/bisimplices/simulations/BlobStimReliability_O1v5-SONATA_ConnAdd_RecipStruct0x16;/gpfs/bbp.cscs.ch/data/scratch/proj9/bisimplices/bbp_workflow/ab6764bb-9f0e-47d7-84ac-6b5114a587e5;https://bbp.epfl.ch/nexus/v1/resources/bbp/somatosensorycortex/_/https:%2F%2Fbbp.epfl.ch%2Fneurosciencegraph%2Fdata%2Fab6764bb-9f0e-47d7-84ac-6b5114a587e5\n",
      "/gpfs/bbp.cscs.ch/data/scratch/proj9/bisimplices/simulations/BlobStimReliability_O1v5-SONATA_ConnAdd_RecipStruct0x2;/gpfs/bbp.cscs.ch/data/scratch/proj9/bisimplices/bbp_workflow/583a0562-d100-41d2-bf6a-f168ec2c38eb;https://bbp.epfl.ch/nexus/v1/resources/bbp/somatosensorycortex/_/https:%2F%2Fbbp.epfl.ch%2Fneurosciencegraph%2Fdata%2F583a0562-d100-41d2-bf6a-f168ec2c38eb\n",
      "/gpfs/bbp.cscs.ch/data/scratch/proj9/bisimplices/simulations/BlobStimReliability_O1v5-SONATA_ConnAdd_RecipStruct0x3;/gpfs/bbp.cscs.ch/data/scratch/proj9/bisimplices/bbp_workflow/9a6ce443-ebcd-40cd-98cd-bbaae408484e;https://bbp.epfl.ch/nexus/v1/resources/bbp/somatosensorycortex/_/https:%2F%2Fbbp.epfl.ch%2Fneurosciencegraph%2Fdata%2F9a6ce443-ebcd-40cd-98cd-bbaae408484e\n",
      "/gpfs/bbp.cscs.ch/data/scratch/proj9/bisimplices/simulations/BlobStimReliability_O1v5-SONATA_ConnAdd_RecipStruct0x4;/gpfs/bbp.cscs.ch/data/scratch/proj9/bisimplices/bbp_workflow/1065bdf0-9a7c-431e-9d8f-789844f885ee;https://bbp.epfl.ch/nexus/v1/resources/bbp/somatosensorycortex/_/https:%2F%2Fbbp.epfl.ch%2Fneurosciencegraph%2Fdata%2F1065bdf0-9a7c-431e-9d8f-789844f885ee\n",
      "/gpfs/bbp.cscs.ch/data/scratch/proj9/bisimplices/simulations/BlobStimReliability_O1v5-SONATA_ConnAdd_RecipStruct0x5;/gpfs/bbp.cscs.ch/data/scratch/proj9/bisimplices/bbp_workflow/b5575c04-98a8-4e2a-a572-75ba36381549;https://bbp.epfl.ch/nexus/v1/resources/bbp/somatosensorycortex/_/https:%2F%2Fbbp.epfl.ch%2Fneurosciencegraph%2Fdata%2Fb5575c04-98a8-4e2a-a572-75ba36381549\n",
      "/gpfs/bbp.cscs.ch/data/scratch/proj9/bisimplices/simulations/BlobStimReliability_O1v5-SONATA_ConnAdd_RecipStruct0x8;/gpfs/bbp.cscs.ch/data/scratch/proj9/bisimplices/bbp_workflow/7ea326a9-79c8-4a24-93c3-207c89629fdf;https://bbp.epfl.ch/nexus/v1/resources/bbp/somatosensorycortex/_/https:%2F%2Fbbp.epfl.ch%2Fneurosciencegraph%2Fdata%2F7ea326a9-79c8-4a24-93c3-207c89629fdf\n",
      "/gpfs/bbp.cscs.ch/data/scratch/proj9/bisimplices/simulations/BlobStimReliability_O1v5-SONATA_ConnRewireEnhanced100K;/gpfs/bbp.cscs.ch/data/scratch/proj9/bisimplices/bbp_workflow/955240c5-001f-4459-b377-1060f5c28363;https://bbp.epfl.ch/nexus/v1/resources/bbp/somatosensorycortex/_/https:%2F%2Fbbp.epfl.ch%2Fneurosciencegraph%2Fdata%2F955240c5-001f-4459-b377-1060f5c28363\n",
      "/gpfs/bbp.cscs.ch/data/scratch/proj9/bisimplices/simulations/BlobStimReliability_O1v5-SONATA_ConnRewireEnhanced200K;/gpfs/bbp.cscs.ch/data/scratch/proj9/bisimplices/bbp_workflow/3ddc1244-c79a-4981-b4e9-f32afd5708ee;https://bbp.epfl.ch/nexus/v1/resources/bbp/somatosensorycortex/_/https:%2F%2Fbbp.epfl.ch%2Fneurosciencegraph%2Fdata%2F3ddc1244-c79a-4981-b4e9-f32afd5708ee\n",
      "/gpfs/bbp.cscs.ch/data/scratch/proj9/bisimplices/simulations/BlobStimReliability_O1v5-SONATA_ConnRewireEnhanced300K;/gpfs/bbp.cscs.ch/data/scratch/proj9/bisimplices/bbp_workflow/f8cf241c-a75b-4246-a552-71daf1f0fd8d;https://bbp.epfl.ch/nexus/v1/resources/bbp/somatosensorycortex/_/https:%2F%2Fbbp.epfl.ch%2Fneurosciencegraph%2Fdata%2Ff8cf241c-a75b-4246-a552-71daf1f0fd8d\n",
      "/gpfs/bbp.cscs.ch/data/scratch/proj9/bisimplices/simulations/BlobStimReliability_O1v5-SONATA_ConnRewireEnhanced400K;/gpfs/bbp.cscs.ch/data/scratch/proj9/bisimplices/bbp_workflow/8a9a88fc-1aba-4a68-ba0f-2f42583b1eb2;https://bbp.epfl.ch/nexus/v1/resources/bbp/somatosensorycortex/_/https:%2F%2Fbbp.epfl.ch%2Fneurosciencegraph%2Fdata%2F8a9a88fc-1aba-4a68-ba0f-2f42583b1eb2\n",
      "/gpfs/bbp.cscs.ch/data/scratch/proj9/bisimplices/simulations/BlobStimReliability_O1v5-SONATA_ConnRewireEnhanced500K;/gpfs/bbp.cscs.ch/data/scratch/proj9/bisimplices/bbp_workflow/b1f0d111-b5cf-4295-9ce8-5086772935a3;https://bbp.epfl.ch/nexus/v1/resources/bbp/somatosensorycortex/_/https:%2F%2Fbbp.epfl.ch%2Fneurosciencegraph%2Fdata%2Fb1f0d111-b5cf-4295-9ce8-5086772935a3\n",
      "/gpfs/bbp.cscs.ch/data/scratch/proj9/bisimplices/simulations/BlobStimReliability_O1v5-SONATA_ConnRewireEnhanced670K;/gpfs/bbp.cscs.ch/data/scratch/proj9/bisimplices/bbp_workflow/6784c9b8-a1d2-48e6-bdc9-ca5919a58dd2;https://bbp.epfl.ch/nexus/v1/resources/bbp/somatosensorycortex/_/https:%2F%2Fbbp.epfl.ch%2Fneurosciencegraph%2Fdata%2F6784c9b8-a1d2-48e6-bdc9-ca5919a58dd2\n",
      "/gpfs/bbp.cscs.ch/data/scratch/proj9/bisimplices/simulations/BlobStimReliability_O1v5-SONATA_ConnRewired_mc2EE_Order1;/gpfs/bbp.cscs.ch/data/scratch/proj9/bisimplices/bbp_workflow/ce776698-d3c9-468f-8714-92407570b292;https://bbp.epfl.ch/nexus/v1/resources/bbp/somatosensorycortex/_/https:%2F%2Fbbp.epfl.ch%2Fneurosciencegraph%2Fdata%2Fce776698-d3c9-468f-8714-92407570b292\n",
      "/gpfs/bbp.cscs.ch/data/scratch/proj9/bisimplices/simulations/BlobStimReliability_O1v5-SONATA_ConnRewired_mc2EE_Order2;/gpfs/bbp.cscs.ch/data/scratch/proj9/bisimplices/bbp_workflow/43d4759b-3fbb-4bf5-bf98-eea0505d3924;https://bbp.epfl.ch/nexus/v1/resources/bbp/somatosensorycortex/_/https:%2F%2Fbbp.epfl.ch%2Fneurosciencegraph%2Fdata%2F43d4759b-3fbb-4bf5-bf98-eea0505d3924\n",
      "/gpfs/bbp.cscs.ch/data/scratch/proj9/bisimplices/simulations/BlobStimReliability_O1v5-SONATA_ConnRewired_mc2EE_Order3;/gpfs/bbp.cscs.ch/data/scratch/proj9/bisimplices/bbp_workflow/141023b8-90cf-4c6c-b8bf-0f71654ed320;https://bbp.epfl.ch/nexus/v1/resources/bbp/somatosensorycortex/_/https:%2F%2Fbbp.epfl.ch%2Fneurosciencegraph%2Fdata%2F141023b8-90cf-4c6c-b8bf-0f71654ed320\n",
      "/gpfs/bbp.cscs.ch/data/scratch/proj9/bisimplices/simulations/BlobStimReliability_O1v5-SONATA_ConnRewired_mc2EE_Order4;/gpfs/bbp.cscs.ch/data/scratch/proj9/bisimplices/bbp_workflow/989bcc5c-9d2f-455a-a365-c83e7fd1860a;https://bbp.epfl.ch/nexus/v1/resources/bbp/somatosensorycortex/_/https:%2F%2Fbbp.epfl.ch%2Fneurosciencegraph%2Fdata%2F989bcc5c-9d2f-455a-a365-c83e7fd1860a\n",
      "/gpfs/bbp.cscs.ch/data/scratch/proj9/bisimplices/simulations/BlobStimReliability_O1v5-SONATA_ConnRewired_mc2EE_Order5;/gpfs/bbp.cscs.ch/data/scratch/proj9/bisimplices/bbp_workflow/c37dc89e-57bf-43be-9f30-df345b0cac39;https://bbp.epfl.ch/nexus/v1/resources/bbp/somatosensorycortex/_/https:%2F%2Fbbp.epfl.ch%2Fneurosciencegraph%2Fdata%2Fc37dc89e-57bf-43be-9f30-df345b0cac39\n",
      "/gpfs/bbp.cscs.ch/data/scratch/proj9/bisimplices/simulations/BlobStimReliability_O1v5-SONATA_OutConnsRemoved_BlockDesign_Rnd;/gpfs/bbp.cscs.ch/data/scratch/proj9/bisimplices/bbp_workflow/eacc9dfe-17ad-40b2-ad6e-ad31814c2ae1;https://bbp.epfl.ch/nexus/v1/resources/bbp/somatosensorycortex/_/https:%2F%2Fbbp.epfl.ch%2Fneurosciencegraph%2Fdata%2Feacc9dfe-17ad-40b2-ad6e-ad31814c2ae1\n",
      "/gpfs/bbp.cscs.ch/data/scratch/proj9/bisimplices/simulations/BlobStimReliability_O1v5-SONATA_OutConnsRemoved_BlockDesign_Struct;/gpfs/bbp.cscs.ch/data/scratch/proj9/bisimplices/bbp_workflow/e41d95a2-0e94-4e9a-9898-e0ea1497edf0;https://bbp.epfl.ch/nexus/v1/resources/bbp/somatosensorycortex/_/https:%2F%2Fbbp.epfl.ch%2Fneurosciencegraph%2Fdata%2Fe41d95a2-0e94-4e9a-9898-e0ea1497edf0\n",
      "/gpfs/bbp.cscs.ch/data/scratch/proj9/bisimplices/simulations/BlobStimReliability_O1v5-SONATA_RecipConnsRemoved_BlockDesign_Rnd;/gpfs/bbp.cscs.ch/data/scratch/proj9/bisimplices/bbp_workflow/1477add6-7a81-445b-a43a-e03dd27bf9e2;https://bbp.epfl.ch/nexus/v1/resources/bbp/somatosensorycortex/_/https:%2F%2Fbbp.epfl.ch%2Fneurosciencegraph%2Fdata%2F1477add6-7a81-445b-a43a-e03dd27bf9e2\n",
      "/gpfs/bbp.cscs.ch/data/scratch/proj9/bisimplices/simulations/BlobStimReliability_O1v5-SONATA_RecipConnsRemoved_BlockDesign_Struct;/gpfs/bbp.cscs.ch/data/scratch/proj9/bisimplices/bbp_workflow/6852a83f-3e7c-4705-b6cd-fe2a34bbfba2;https://bbp.epfl.ch/nexus/v1/resources/bbp/somatosensorycortex/_/https:%2F%2Fbbp.epfl.ch%2Fneurosciencegraph%2Fdata%2F6852a83f-3e7c-4705-b6cd-fe2a34bbfba2\n",
      "/gpfs/bbp.cscs.ch/data/scratch/proj9/bisimplices/simulations/BlobStimReliability_O1v5-SONATA_RecipRemoval_StructDim456;/gpfs/bbp.cscs.ch/data/scratch/proj9/bisimplices/bbp_workflow/1081fcac-613e-4f8f-8f57-cb2295bf972c;https://bbp.epfl.ch/nexus/v1/resources/bbp/somatosensorycortex/_/https:%2F%2Fbbp.epfl.ch%2Fneurosciencegraph%2Fdata%2F1081fcac-613e-4f8f-8f57-cb2295bf972c\n",
      "/gpfs/bbp.cscs.ch/data/scratch/proj9/bisimplices/simulations/BlobStimReliability_O1v5-SONATA_RecipRemoval_StructDim56;/gpfs/bbp.cscs.ch/data/scratch/proj9/bisimplices/bbp_workflow/bb5cd12f-073a-4297-ab41-bca5a7a5fc00;https://bbp.epfl.ch/nexus/v1/resources/bbp/somatosensorycortex/_/https:%2F%2Fbbp.epfl.ch%2Fneurosciencegraph%2Fdata%2Fbb5cd12f-073a-4297-ab41-bca5a7a5fc00\n",
      "/gpfs/bbp.cscs.ch/data/scratch/proj9/bisimplices/simulations/BlobStimReliability_O1v5-SONATA_RecipRemoval_StructDim56_456;/gpfs/bbp.cscs.ch/data/scratch/proj9/bisimplices/bbp_workflow/fe61f5a2-ae64-4d85-8019-5610be189574;https://bbp.epfl.ch/nexus/v1/resources/bbp/somatosensorycortex/_/https:%2F%2Fbbp.epfl.ch%2Fneurosciencegraph%2Fdata%2Ffe61f5a2-ae64-4d85-8019-5610be189574\n",
      "/gpfs/bbp.cscs.ch/data/scratch/proj9/bisimplices/simulations/BlobStimReliability_O1v5-SONATA_RecipRemoval_Unstruct-0;/gpfs/bbp.cscs.ch/data/scratch/proj9/bisimplices/bbp_workflow/ae02c28d-3dd7-4b36-806d-0481d26ca837;https://bbp.epfl.ch/nexus/v1/resources/bbp/somatosensorycortex/_/https:%2F%2Fbbp.epfl.ch%2Fneurosciencegraph%2Fdata%2Fae02c28d-3dd7-4b36-806d-0481d26ca837\n",
      "/gpfs/bbp.cscs.ch/data/scratch/proj9/bisimplices/simulations/BlobStimReliability_O1v5-SONATA_RecipRemoval_Unstruct-1;/gpfs/bbp.cscs.ch/data/scratch/proj9/bisimplices/bbp_workflow/90af5964-0d51-423a-82a8-ad4a526b886f;https://bbp.epfl.ch/nexus/v1/resources/bbp/somatosensorycortex/_/https:%2F%2Fbbp.epfl.ch%2Fneurosciencegraph%2Fdata%2F90af5964-0d51-423a-82a8-ad4a526b886f\n",
      "/gpfs/bbp.cscs.ch/data/scratch/proj9/bisimplices/simulations/BlobStimReliability_O1v5-SONATA_RecipRemoval_Unstruct-2;/gpfs/bbp.cscs.ch/data/scratch/proj9/bisimplices/bbp_workflow/58011388-5919-4e6b-aae6-01f0ae609cd7;https://bbp.epfl.ch/nexus/v1/resources/bbp/somatosensorycortex/_/https:%2F%2Fbbp.epfl.ch%2Fneurosciencegraph%2Fdata%2F58011388-5919-4e6b-aae6-01f0ae609cd7\n",
      "/gpfs/bbp.cscs.ch/data/scratch/proj9/bisimplices/simulations/BlobStimReliability_O1v5-SONATA_RecipRemoval_Unstruct-3;/gpfs/bbp.cscs.ch/data/scratch/proj9/bisimplices/bbp_workflow/cc826951-2b0a-4d37-acde-25805da80952;https://bbp.epfl.ch/nexus/v1/resources/bbp/somatosensorycortex/_/https:%2F%2Fbbp.epfl.ch%2Fneurosciencegraph%2Fdata%2Fcc826951-2b0a-4d37-acde-25805da80952\n",
      "/gpfs/bbp.cscs.ch/data/scratch/proj9/bisimplices/simulations/BlobStimReliability_O1v5-SONATA_TopDimHighReliabOutConnsRemoved;/gpfs/bbp.cscs.ch/data/scratch/proj9/bisimplices/bbp_workflow/bc856702-39c9-4110-bb7c-f20102dd031b;https://bbp.epfl.ch/nexus/v1/resources/bbp/somatosensorycortex/_/https:%2F%2Fbbp.epfl.ch%2Fneurosciencegraph%2Fdata%2Fbc856702-39c9-4110-bb7c-f20102dd031b\n",
      "/gpfs/bbp.cscs.ch/data/scratch/proj9/bisimplices/simulations/BlobStimReliability_O1v5-SONATA_TopDimHighReliabOutConnsRemovedV2;/gpfs/bbp.cscs.ch/data/scratch/proj9/bisimplices/bbp_workflow/13636239-4f06-4b07-81e9-6404db22a644;https://bbp.epfl.ch/nexus/v1/resources/bbp/somatosensorycortex/_/https:%2F%2Fbbp.epfl.ch%2Fneurosciencegraph%2Fdata%2F13636239-4f06-4b07-81e9-6404db22a644\n",
      "/gpfs/bbp.cscs.ch/data/scratch/proj9/bisimplices/simulations/BlobStimReliability_O1v5-SONATA_TopDimHighReliabOutConnsRemoved_2;/gpfs/bbp.cscs.ch/data/scratch/proj9/bisimplices/bbp_workflow/87aced13-d1df-4442-93a8-6e4a17a4733c;https://bbp.epfl.ch/nexus/v1/resources/bbp/somatosensorycortex/_/https:%2F%2Fbbp.epfl.ch%2Fneurosciencegraph%2Fdata%2F87aced13-d1df-4442-93a8-6e4a17a4733c\n",
      "/gpfs/bbp.cscs.ch/data/scratch/proj9/bisimplices/simulations/BlobStimReliability_O1v5-SONATA_TopDimHighReliabOutConnsRemoved_3;/gpfs/bbp.cscs.ch/data/scratch/proj9/bisimplices/bbp_workflow/5f3f2c24-54b8-439b-9e30-c8f402167ada;https://bbp.epfl.ch/nexus/v1/resources/bbp/somatosensorycortex/_/https:%2F%2Fbbp.epfl.ch%2Fneurosciencegraph%2Fdata%2F5f3f2c24-54b8-439b-9e30-c8f402167ada\n",
      "/gpfs/bbp.cscs.ch/data/scratch/proj9/bisimplices/simulations/BlobStim_O1v5-SONATA_TEST-ConnAdd-struct0-4x;/gpfs/bbp.cscs.ch/data/scratch/proj9/bisimplices/bbp_workflow/e2c6e699-fb80-4b61-a889-46b44cf833fe;https://bbp.epfl.ch/nexus/v1/resources/bbp/somatosensorycortex/_/https:%2F%2Fbbp.epfl.ch%2Fneurosciencegraph%2Fdata%2Fe2c6e699-fb80-4b61-a889-46b44cf833fe\n",
      "/gpfs/bbp.cscs.ch/data/scratch/proj9/bisimplices/simulations/BlobStim_O1v5-SONATA_TestNrdmsNcx1p10_Disconn;/gpfs/bbp.cscs.ch/data/scratch/proj9/bisimplices/bbp_workflow/527efe46-6522-4e2b-8775-b3c41c6e168d;https://bbp.epfl.ch/nexus/v1/resources/bbp/somatosensorycortex/_/https:%2F%2Fbbp.epfl.ch%2Fneurosciencegraph%2Fdata%2F527efe46-6522-4e2b-8775-b3c41c6e168d\n",
      "/gpfs/bbp.cscs.ch/data/scratch/proj9/bisimplices/simulations/BlobStim_O1v5-SONATA_TestNrdmsNcx1p10_Evoked;/gpfs/bbp.cscs.ch/data/scratch/proj9/bisimplices/bbp_workflow/410e67b5-ba6c-41e5-9a50-776a3c7ef073;https://bbp.epfl.ch/nexus/v1/resources/bbp/somatosensorycortex/_/https:%2F%2Fbbp.epfl.ch%2Fneurosciencegraph%2Fdata%2F410e67b5-ba6c-41e5-9a50-776a3c7ef073\n",
      "/gpfs/bbp.cscs.ch/data/scratch/proj9/bisimplices/simulations/BlobStim_O1v5-SONATA_TestNrdmsNcx1p10_Spont;/gpfs/bbp.cscs.ch/data/scratch/proj9/bisimplices/bbp_workflow/64c375b7-48dd-4c8a-9982-c3d9ecbba039;https://bbp.epfl.ch/nexus/v1/resources/bbp/somatosensorycortex/_/https:%2F%2Fbbp.epfl.ch%2Fneurosciencegraph%2Fdata%2F64c375b7-48dd-4c8a-9982-c3d9ecbba039\n",
      "/gpfs/bbp.cscs.ch/data/scratch/proj9/bisimplices/simulations/BlobStim_O1v5-SONATA_TestNrdmsNcx1p12_Disconn;/gpfs/bbp.cscs.ch/data/scratch/proj9/bisimplices/bbp_workflow/8133041e-0a11-46d6-ac32-beba85202f87;https://bbp.epfl.ch/nexus/v1/resources/bbp/somatosensorycortex/_/https:%2F%2Fbbp.epfl.ch%2Fneurosciencegraph%2Fdata%2F8133041e-0a11-46d6-ac32-beba85202f87\n",
      "/gpfs/bbp.cscs.ch/data/scratch/proj9/bisimplices/simulations/BlobStim_O1v5-SONATA_TestNrdmsNcx1p12_Evoked;/gpfs/bbp.cscs.ch/data/scratch/proj9/bisimplices/bbp_workflow/ff3283e2-637c-46bb-8081-c8a90c4cbed8;https://bbp.epfl.ch/nexus/v1/resources/bbp/somatosensorycortex/_/https:%2F%2Fbbp.epfl.ch%2Fneurosciencegraph%2Fdata%2Fff3283e2-637c-46bb-8081-c8a90c4cbed8\n",
      "/gpfs/bbp.cscs.ch/data/scratch/proj9/bisimplices/simulations/BlobStim_O1v5-SONATA_TestNrdmsNcx1p12_Spont;/gpfs/bbp.cscs.ch/data/scratch/proj9/bisimplices/bbp_workflow/3de55c23-347c-4474-927f-6fbde5c67788;https://bbp.epfl.ch/nexus/v1/resources/bbp/somatosensorycortex/_/https:%2F%2Fbbp.epfl.ch%2Fneurosciencegraph%2Fdata%2F3de55c23-347c-4474-927f-6fbde5c67788\n",
      "/gpfs/bbp.cscs.ch/data/scratch/proj9/bisimplices/simulations/BlobStim_Replication_StGen_O1v5-SONATA_CaDepScan_RECHECK;/gpfs/bbp.cscs.ch/data/scratch/proj9/bisimplices/bbp_workflow/19c84759-b407-4242-833b-bac804fe1fc7;https://bbp.epfl.ch/nexus/v1/resources/bbp/somatosensorycortex/_/https:%2F%2Fbbp.epfl.ch%2Fneurosciencegraph%2Fdata%2F19c84759-b407-4242-833b-bac804fe1fc7\n",
      "/gpfs/bbp.cscs.ch/data/scratch/proj9/bisimplices/simulations/BlobStim_Replication_StGen_O1v5-SONATA_CaDepScan_RECHECK_neurodamus1p10;/gpfs/bbp.cscs.ch/data/scratch/proj9/bisimplices/bbp_workflow/55ddb6ee-9356-4094-8dd0-9807579d5acf;https://bbp.epfl.ch/nexus/v1/resources/bbp/somatosensorycortex/_/https:%2F%2Fbbp.epfl.ch%2Fneurosciencegraph%2Fdata%2F55ddb6ee-9356-4094-8dd0-9807579d5acf\n",
      "/gpfs/bbp.cscs.ch/data/scratch/proj9/bisimplices/simulations/BlobStim_Replication_StGen_O1v5-SONATA_CaDepScan_RECHECK_neurodamus1p11;/gpfs/bbp.cscs.ch/data/scratch/proj9/bisimplices/bbp_workflow/cbb447ef-ba59-4b8f-8b83-e5f558131be1;https://bbp.epfl.ch/nexus/v1/resources/bbp/somatosensorycortex/_/https:%2F%2Fbbp.epfl.ch%2Fneurosciencegraph%2Fdata%2Fcbb447ef-ba59-4b8f-8b83-e5f558131be1\n",
      "/gpfs/bbp.cscs.ch/data/scratch/proj9/bisimplices/simulations/Toposample_O1v5-SONATA;/gpfs/bbp.cscs.ch/data/scratch/proj9/bisimplices/bbp_workflow/7b381e96-91ac-4ddd-887b-1f563872bd1c;https://bbp.epfl.ch/nexus/v1/resources/bbp/somatosensorycortex/_/https:%2F%2Fbbp.epfl.ch%2Fneurosciencegraph%2Fdata%2F7b381e96-91ac-4ddd-887b-1f563872bd1c\n",
      "/gpfs/bbp.cscs.ch/data/scratch/proj9/bisimplices/simulations/Toposample_O1v5-SONATA_ConnRewired_mc2EE_Order1;/gpfs/bbp.cscs.ch/data/scratch/proj9/bisimplices/bbp_workflow/150e3c32-d79c-4ac8-ab4a-d8b34e5ef49d;https://bbp.epfl.ch/nexus/v1/resources/bbp/somatosensorycortex/_/https:%2F%2Fbbp.epfl.ch%2Fneurosciencegraph%2Fdata%2F150e3c32-d79c-4ac8-ab4a-d8b34e5ef49d\n",
      "/gpfs/bbp.cscs.ch/data/scratch/proj9/bisimplices/simulations/Toposample_O1v5-SONATA_ConnRewired_mc2EE_Order2;/gpfs/bbp.cscs.ch/data/scratch/proj9/bisimplices/bbp_workflow/8b8029a8-49dc-4b71-ba9a-4de78d86a90a;https://bbp.epfl.ch/nexus/v1/resources/bbp/somatosensorycortex/_/https:%2F%2Fbbp.epfl.ch%2Fneurosciencegraph%2Fdata%2F8b8029a8-49dc-4b71-ba9a-4de78d86a90a\n",
      "/gpfs/bbp.cscs.ch/data/scratch/proj9/bisimplices/simulations/Toposample_O1v5-SONATA_ConnRewired_mc2EE_Order3;/gpfs/bbp.cscs.ch/data/scratch/proj9/bisimplices/bbp_workflow/e23aa485-8885-4e50-bd1f-9a9661463704;https://bbp.epfl.ch/nexus/v1/resources/bbp/somatosensorycortex/_/https:%2F%2Fbbp.epfl.ch%2Fneurosciencegraph%2Fdata%2Fe23aa485-8885-4e50-bd1f-9a9661463704\n",
      "/gpfs/bbp.cscs.ch/data/scratch/proj9/bisimplices/simulations/Toposample_O1v5-SONATA_RecipRemoval_StructDim456;/gpfs/bbp.cscs.ch/data/scratch/proj9/bisimplices/bbp_workflow/2e10e17d-665e-4f9d-8b01-eec8d94001e1;https://bbp.epfl.ch/nexus/v1/resources/bbp/somatosensorycortex/_/https:%2F%2Fbbp.epfl.ch%2Fneurosciencegraph%2Fdata%2F2e10e17d-665e-4f9d-8b01-eec8d94001e1\n",
      "/gpfs/bbp.cscs.ch/data/scratch/proj9/bisimplices/simulations/Toposample_O1v5-SONATA_RecipRemoval_StructDim56;/gpfs/bbp.cscs.ch/data/scratch/proj9/bisimplices/bbp_workflow/8b2464d4-df01-4af0-ac05-c4e449fe2164;https://bbp.epfl.ch/nexus/v1/resources/bbp/somatosensorycortex/_/https:%2F%2Fbbp.epfl.ch%2Fneurosciencegraph%2Fdata%2F8b2464d4-df01-4af0-ac05-c4e449fe2164\n"
     ]
    }
   ],
   "source": [
    "# Find campaign paths (symlinks and real paths) => Put in .xls table\n",
    "base_dir = \"/gpfs/bbp.cscs.ch/data/scratch/proj9/bisimplices/simulations\"\n",
    "for _l in sorted(os.listdir(base_dir)):\n",
    "    if os.path.exists(os.path.join(base_dir, _l, \"config.json\")):\n",
    "        real_path = os.path.split(os.path.realpath(os.path.join(base_dir, _l, \"config.json\")))[0]\n",
    "        url = \"https://bbp.epfl.ch/nexus/v1/resources/bbp/somatosensorycortex/_/https:%2F%2Fbbp.epfl.ch%2Fneurosciencegraph%2Fdata%2F\" + os.path.split(real_path)[-1]\n",
    "        print(f\"{os.path.join(base_dir, _l)};{real_path};{url}\")"
   ]
  },
  {
   "cell_type": "code",
   "execution_count": null,
   "metadata": {},
   "outputs": [],
   "source": []
  },
  {
   "cell_type": "code",
   "execution_count": null,
   "metadata": {},
   "outputs": [],
   "source": []
  },
  {
   "cell_type": "code",
   "execution_count": null,
   "metadata": {},
   "outputs": [],
   "source": []
  }
 ],
 "metadata": {
  "kernelspec": {
   "display_name": "ReWiringKernel",
   "language": "python",
   "name": "rewiringkernel"
  },
  "language_info": {
   "codemirror_mode": {
    "name": "ipython",
    "version": 3
   },
   "file_extension": ".py",
   "mimetype": "text/x-python",
   "name": "python",
   "nbconvert_exporter": "python",
   "pygments_lexer": "ipython3",
   "version": "3.10.8"
  }
 },
 "nbformat": 4,
 "nbformat_minor": 4
}
